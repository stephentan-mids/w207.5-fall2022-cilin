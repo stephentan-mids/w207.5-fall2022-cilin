{
 "cells": [
  {
   "cell_type": "markdown",
   "metadata": {
    "id": "MKsRDH5ZUdfasdv"
   },
   "source": [
    "# Lab 9"
   ]
  },
  {
   "cell_type": "markdown",
   "metadata": {
    "id": "43534tdfgs-v"
   },
   "source": [
    "In this lab, we'll train models for sentiment classification and experiment with learned embeddings for text features."
   ]
  },
  {
   "cell_type": "code",
   "execution_count": 1,
   "metadata": {
    "id": "7X58hOMTUH-w"
   },
   "outputs": [],
   "source": [
    "# Import the libraries we'll use below.\n",
    "import numpy as np\n",
    "from matplotlib import pyplot as plt\n",
    "import pandas as pd\n",
    "import seaborn as sns  # for nicer plots\n",
    "sns.set(style=\"darkgrid\")  # default style\n",
    "import plotly.graph_objs as plotly  # for interactive plots\n",
    "\n",
    "import tensorflow as tf\n",
    "from tensorflow.keras.datasets import imdb"
   ]
  },
  {
   "cell_type": "markdown",
   "metadata": {
    "id": "eqppUDpmdptk"
   },
   "source": [
    "## Data for Sentiment Classification\n",
    "\n",
    "In this lab, we'll train a *sentiment* classifier for movie reviews. That is, the input is the text of a movie review and the output is the probability the input was a positive review. The target labels are binary, 0 for negative and 1 for positive.\n",
    "\n",
    "Our data includes 50,000 movie reviews on IMDB. The data comes pre-segmented into train and test splits. The [data loading function](https://www.tensorflow.org/api_docs/python/tf/keras/datasets/imdb/load_data) below also splits each input text into tokens (words) and maps the words to integer values. Each input is a sequence of integers corresponding to the words."
   ]
  },
  {
   "cell_type": "code",
   "execution_count": 2,
   "metadata": {
    "colab": {
     "base_uri": "https://localhost:8080/"
    },
    "executionInfo": {
     "elapsed": 5870,
     "status": "ok",
     "timestamp": 1646684495083,
     "user": {
      "displayName": "Daniel Gillick",
      "photoUrl": "https://lh3.googleusercontent.com/a-/AOh14Gg9DrSMlwYnG9EolecuJqe8n9m7fpcje4_UbYrhQ10=s64",
      "userId": "01872965353911650729"
     },
     "user_tz": 600
    },
    "id": "s6M-asvhQWV_",
    "outputId": "1aca520b-e1b6-4006-ac44-78ff33ac6da9"
   },
   "outputs": [
    {
     "name": "stdout",
     "output_type": "stream",
     "text": [
      "X_train.shape: (25000,)\n",
      "Y_train.shape: (25000,)\n",
      "X_test.shape: (25000,)\n",
      "Y_test.shape: (25000,)\n",
      "First training example data: [1, 14, 22, 16, 43, 530, 973, 1622, 1385, 65, 458, 4468, 66, 3941, 4, 173, 36, 256, 5, 25, 100, 43, 838, 112, 50, 670, 22665, 9, 35, 480, 284, 5, 150, 4, 172, 112, 167, 21631, 336, 385, 39, 4, 172, 4536, 1111, 17, 546, 38, 13, 447, 4, 192, 50, 16, 6, 147, 2025, 19, 14, 22, 4, 1920, 4613, 469, 4, 22, 71, 87, 12, 16, 43, 530, 38, 76, 15, 13, 1247, 4, 22, 17, 515, 17, 12, 16, 626, 18, 19193, 5, 62, 386, 12, 8, 316, 8, 106, 5, 4, 2223, 5244, 16, 480, 66, 3785, 33, 4, 130, 12, 16, 38, 619, 5, 25, 124, 51, 36, 135, 48, 25, 1415, 33, 6, 22, 12, 215, 28, 77, 52, 5, 14, 407, 16, 82, 10311, 8, 4, 107, 117, 5952, 15, 256, 4, 31050, 7, 3766, 5, 723, 36, 71, 43, 530, 476, 26, 400, 317, 46, 7, 4, 12118, 1029, 13, 104, 88, 4, 381, 15, 297, 98, 32, 2071, 56, 26, 141, 6, 194, 7486, 18, 4, 226, 22, 21, 134, 476, 26, 480, 5, 144, 30, 5535, 18, 51, 36, 28, 224, 92, 25, 104, 4, 226, 65, 16, 38, 1334, 88, 12, 16, 283, 5, 16, 4472, 113, 103, 32, 15, 16, 5345, 19, 178, 32]\n",
      "First training example label: 1\n"
     ]
    }
   ],
   "source": [
    "(X_train, Y_train), (X_test, Y_test) = imdb.load_data(path=\"imdb.npz\",\n",
    "                                                      num_words=None,\n",
    "                                                      skip_top=0,\n",
    "                                                      maxlen=None,\n",
    "                                                      seed=113,\n",
    "                                                      start_char=1,\n",
    "                                                      oov_char=2,\n",
    "                                                      index_from=3)\n",
    "\n",
    "print(\"X_train.shape:\", X_train.shape)\n",
    "print(\"Y_train.shape:\", Y_train.shape)\n",
    "print(\"X_test.shape:\", X_test.shape)\n",
    "print(\"Y_test.shape:\", Y_test.shape)\n",
    "\n",
    "print('First training example data:', X_train[0])\n",
    "print('First training example label:', Y_train[0])"
   ]
  },
  {
   "cell_type": "markdown",
   "metadata": {
    "id": "MyIWiy-4gQK-"
   },
   "source": [
    "So our first training example is a positive review. But that sequence of integer IDs is hard to read. The data loader provides a dictionary mapping words to IDs. Let's create a reverse index.\n"
   ]
  },
  {
   "cell_type": "code",
   "execution_count": 3,
   "metadata": {
    "colab": {
     "base_uri": "https://localhost:8080/"
    },
    "executionInfo": {
     "elapsed": 801,
     "status": "ok",
     "timestamp": 1646684508506,
     "user": {
      "displayName": "Daniel Gillick",
      "photoUrl": "https://lh3.googleusercontent.com/a-/AOh14Gg9DrSMlwYnG9EolecuJqe8n9m7fpcje4_UbYrhQ10=s64",
      "userId": "01872965353911650729"
     },
     "user_tz": 600
    },
    "id": "HQ-qATkhUj7c",
    "outputId": "eea86a69-fe6a-4cdb-ac8c-9307a5118e47"
   },
   "outputs": [
    {
     "name": "stdout",
     "output_type": "stream",
     "text": [
      "Largest ID: 88587\n"
     ]
    }
   ],
   "source": [
    "# The imdb dataset comes with an index mapping words to integers.\n",
    "# In the index the words are ordered by frequency they occur.\n",
    "index = imdb.get_word_index()\n",
    "\n",
    "# Because we used index_from=3 (above), setting aside ids below 3 for special\n",
    "# symbols, we need to add 3 to the index values.\n",
    "index = dict([(key, value+3) for (key, value) in index.items()])\n",
    "\n",
    "# Create a reverse index so we can lookup tokens assigned to each id.\n",
    "reverse_index = dict([(value, key) for (key, value) in index.items()])\n",
    "reverse_index[1] = '<START>'  # start of input\n",
    "reverse_index[2] = '#'        # out-of-vocabulary (OOV)\n",
    "reverse_index[3] = '<UNUSED>'\n",
    "\n",
    "max_id = max(reverse_index.keys())\n",
    "print('Largest ID:', max_id)"
   ]
  },
  {
   "cell_type": "markdown",
   "metadata": {
    "id": "h76-b07ehWNQ"
   },
   "source": [
    "Note that our index (and reverse index) have over 88,000 tokens. That's quite a large vocabulary! Let's also write a decoding function for our data."
   ]
  },
  {
   "cell_type": "code",
   "execution_count": 4,
   "metadata": {
    "colab": {
     "base_uri": "https://localhost:8080/"
    },
    "executionInfo": {
     "elapsed": 358,
     "status": "ok",
     "timestamp": 1646684531998,
     "user": {
      "displayName": "Daniel Gillick",
      "photoUrl": "https://lh3.googleusercontent.com/a-/AOh14Gg9DrSMlwYnG9EolecuJqe8n9m7fpcje4_UbYrhQ10=s64",
      "userId": "01872965353911650729"
     },
     "user_tz": 600
    },
    "id": "UjobmouHS5Dm",
    "outputId": "29975a48-7fda-4600-bd0c-693c35dd8a54"
   },
   "outputs": [
    {
     "name": "stdout",
     "output_type": "stream",
     "text": [
      "[1, 14, 22, 16, 43, 530, 973, 1622, 1385, 65, 458, 4468, 66, 3941, 4, 173, 36, 256, 5, 25, 100, 43, 838, 112, 50, 670, 22665, 9, 35, 480, 284, 5, 150, 4, 172, 112, 167, 21631, 336, 385, 39, 4, 172, 4536, 1111, 17, 546, 38, 13, 447, 4, 192, 50, 16, 6, 147, 2025, 19, 14, 22, 4, 1920, 4613, 469, 4, 22, 71, 87, 12, 16, 43, 530, 38, 76, 15, 13, 1247, 4, 22, 17, 515, 17, 12, 16, 626, 18, 19193, 5, 62, 386, 12, 8, 316, 8, 106, 5, 4, 2223, 5244, 16, 480, 66, 3785, 33, 4, 130, 12, 16, 38, 619, 5, 25, 124, 51, 36, 135, 48, 25, 1415, 33, 6, 22, 12, 215, 28, 77, 52, 5, 14, 407, 16, 82, 10311, 8, 4, 107, 117, 5952, 15, 256, 4, 31050, 7, 3766, 5, 723, 36, 71, 43, 530, 476, 26, 400, 317, 46, 7, 4, 12118, 1029, 13, 104, 88, 4, 381, 15, 297, 98, 32, 2071, 56, 26, 141, 6, 194, 7486, 18, 4, 226, 22, 21, 134, 476, 26, 480, 5, 144, 30, 5535, 18, 51, 36, 28, 224, 92, 25, 104, 4, 226, 65, 16, 38, 1334, 88, 12, 16, 283, 5, 16, 4472, 113, 103, 32, 15, 16, 5345, 19, 178, 32]\n",
      "<START> this film was just brilliant casting location scenery story direction everyone's really suited the part they played and you could just imagine being there robert redford's is an amazing actor and now the same being director norman's father came from the same scottish island as myself so i loved the fact there was a real connection with this film the witty remarks throughout the film were great it was just brilliant so much that i bought the film as soon as it was released for retail and would recommend it to everyone to watch and the fly fishing was amazing really cried at the end it was so sad and you know what they say if you cry at a film it must have been good and this definitely was also congratulations to the two little boy's that played the part's of norman and paul they were just brilliant children are often left out of the praising list i think because the stars that play them all grown up are such a big profile for the whole film but these children are amazing and should be praised for what they have done don't you think the whole story was so lovely because it was true and was someone's life after all that was shared with us all\n"
     ]
    }
   ],
   "source": [
    "def decode(token_ids):\n",
    "    \"\"\"Return a string with the decoded text given a list of token ids.\"\"\"\n",
    "    # Try looking up each id in the index, but return '#' (for OOV) if not found.\n",
    "    tokens = [reverse_index.get(i, \"#\") for i in token_ids]\n",
    "\n",
    "    # Connect the string tokens with a space.\n",
    "    return ' '.join(tokens)\n",
    "\n",
    "# Show the ids corresponding tokens in the first example.\n",
    "print(X_train[0])\n",
    "print(decode(X_train[0]))"
   ]
  },
  {
   "cell_type": "code",
   "execution_count": null,
   "metadata": {},
   "outputs": [],
   "source": []
  },
  {
   "cell_type": "markdown",
   "metadata": {
    "id": "g47w5CackGBA"
   },
   "source": [
    "### Text Lengths\n",
    "As usual, let's start with some data analysis. How long are the reviews? Is there a difference in length between positive and negative reviews? A histogram will help answer these questions."
   ]
  },
  {
   "cell_type": "code",
   "execution_count": 5,
   "metadata": {
    "colab": {
     "base_uri": "https://localhost:8080/",
     "height": 305
    },
    "executionInfo": {
     "elapsed": 762,
     "status": "ok",
     "timestamp": 1646684547021,
     "user": {
      "displayName": "Daniel Gillick",
      "photoUrl": "https://lh3.googleusercontent.com/a-/AOh14Gg9DrSMlwYnG9EolecuJqe8n9m7fpcje4_UbYrhQ10=s64",
      "userId": "01872965353911650729"
     },
     "user_tz": 600
    },
    "id": "kEOgzo8Gk3r7",
    "outputId": "e7446ffd-10c5-4c64-a5bc-7cab81a1d73f"
   },
   "outputs": [
    {
     "data": {
      "image/png": "[encoded data removed]",
      "text/plain": [
       "<Figure size 432x288 with 1 Axes>"
      ]
     },
     "metadata": {},
     "output_type": "display_data"
    },
    {
     "name": "stdout",
     "output_type": "stream",
     "text": [
      "Longest positive review: 2494\n",
      "Longest negative review: 1571\n"
     ]
    }
   ],
   "source": [
    "# Create a list of lengths for training examples with a positive label.\n",
    "text_lengths_pos = [len(x) for (i, x) in enumerate(X_train) if Y_train[i]]\n",
    "\n",
    "# And a list of lengths for training examples with a negative label.\n",
    "text_lengths_neg = [len(x) for (i, x) in enumerate(X_train) if not Y_train[i]]\n",
    "\n",
    "# The histogram function can take a list of inputs and corresponding labels.\n",
    "plt.hist([text_lengths_pos, text_lengths_neg], bins=20, range=(0, 1000),\n",
    "         label=['positive', 'negative'])\n",
    "plt.legend()\n",
    "plt.show()\n",
    "\n",
    "# Also check the longest reviews.\n",
    "print('Longest positive review:', max(text_lengths_pos))\n",
    "print('Longest negative review:', max(text_lengths_neg))"
   ]
  },
  {
   "cell_type": "code",
   "execution_count": 6,
   "metadata": {},
   "outputs": [
    {
     "data": {
      "text/plain": [
       "array([list([1, 14, 22, 16, 43, 530, 973, 1622, 1385, 65, 458, 4468, 66, 3941, 4, 173, 36, 256, 5, 25, 100, 43, 838, 112, 50, 670, 22665, 9, 35, 480, 284, 5, 150, 4, 172, 112, 167, 21631, 336, 385, 39, 4, 172, 4536, 1111, 17, 546, 38, 13, 447, 4, 192, 50, 16, 6, 147, 2025, 19, 14, 22, 4, 1920, 4613, 469, 4, 22, 71, 87, 12, 16, 43, 530, 38, 76, 15, 13, 1247, 4, 22, 17, 515, 17, 12, 16, 626, 18, 19193, 5, 62, 386, 12, 8, 316, 8, 106, 5, 4, 2223, 5244, 16, 480, 66, 3785, 33, 4, 130, 12, 16, 38, 619, 5, 25, 124, 51, 36, 135, 48, 25, 1415, 33, 6, 22, 12, 215, 28, 77, 52, 5, 14, 407, 16, 82, 10311, 8, 4, 107, 117, 5952, 15, 256, 4, 31050, 7, 3766, 5, 723, 36, 71, 43, 530, 476, 26, 400, 317, 46, 7, 4, 12118, 1029, 13, 104, 88, 4, 381, 15, 297, 98, 32, 2071, 56, 26, 141, 6, 194, 7486, 18, 4, 226, 22, 21, 134, 476, 26, 480, 5, 144, 30, 5535, 18, 51, 36, 28, 224, 92, 25, 104, 4, 226, 65, 16, 38, 1334, 88, 12, 16, 283, 5, 16, 4472, 113, 103, 32, 15, 16, 5345, 19, 178, 32]),\n",
       "       list([1, 194, 1153, 194, 8255, 78, 228, 5, 6, 1463, 4369, 5012, 134, 26, 4, 715, 8, 118, 1634, 14, 394, 20, 13, 119, 954, 189, 102, 5, 207, 110, 3103, 21, 14, 69, 188, 8, 30, 23, 7, 4, 249, 126, 93, 4, 114, 9, 2300, 1523, 5, 647, 4, 116, 9, 35, 8163, 4, 229, 9, 340, 1322, 4, 118, 9, 4, 130, 4901, 19, 4, 1002, 5, 89, 29, 952, 46, 37, 4, 455, 9, 45, 43, 38, 1543, 1905, 398, 4, 1649, 26, 6853, 5, 163, 11, 3215, 10156, 4, 1153, 9, 194, 775, 7, 8255, 11596, 349, 2637, 148, 605, 15358, 8003, 15, 123, 125, 68, 23141, 6853, 15, 349, 165, 4362, 98, 5, 4, 228, 9, 43, 36893, 1157, 15, 299, 120, 5, 120, 174, 11, 220, 175, 136, 50, 9, 4373, 228, 8255, 5, 25249, 656, 245, 2350, 5, 4, 9837, 131, 152, 491, 18, 46151, 32, 7464, 1212, 14, 9, 6, 371, 78, 22, 625, 64, 1382, 9, 8, 168, 145, 23, 4, 1690, 15, 16, 4, 1355, 5, 28, 6, 52, 154, 462, 33, 89, 78, 285, 16, 145, 95]),\n",
       "       list([1, 14, 47, 8, 30, 31, 7, 4, 249, 108, 7, 4, 5974, 54, 61, 369, 13, 71, 149, 14, 22, 112, 4, 2401, 311, 12, 16, 3711, 33, 75, 43, 1829, 296, 4, 86, 320, 35, 534, 19, 263, 4821, 1301, 4, 1873, 33, 89, 78, 12, 66, 16, 4, 360, 7, 4, 58, 316, 334, 11, 4, 1716, 43, 645, 662, 8, 257, 85, 1200, 42, 1228, 2578, 83, 68, 3912, 15, 36, 165, 1539, 278, 36, 69, 44076, 780, 8, 106, 14, 6905, 1338, 18, 6, 22, 12, 215, 28, 610, 40, 6, 87, 326, 23, 2300, 21, 23, 22, 12, 272, 40, 57, 31, 11, 4, 22, 47, 6, 2307, 51, 9, 170, 23, 595, 116, 595, 1352, 13, 191, 79, 638, 89, 51428, 14, 9, 8, 106, 607, 624, 35, 534, 6, 227, 7, 129, 113]),\n",
       "       ...,\n",
       "       list([1, 11, 6, 230, 245, 6401, 9, 6, 1225, 446, 86527, 45, 2174, 84, 8322, 4007, 21, 4, 912, 84, 14532, 325, 725, 134, 15271, 1715, 84, 5, 36, 28, 57, 1099, 21, 8, 140, 8, 703, 5, 11656, 84, 56, 18, 1644, 14, 9, 31, 7, 4, 9406, 1209, 2295, 26094, 1008, 18, 6, 20, 207, 110, 563, 12, 8, 2901, 17793, 8, 97, 6, 20, 53, 4767, 74, 4, 460, 364, 1273, 29, 270, 11, 960, 108, 45, 40, 29, 2961, 395, 11, 6, 4065, 500, 7, 14492, 89, 364, 70, 29, 140, 4, 64, 4780, 11, 4, 2678, 26, 178, 4, 529, 443, 17793, 5, 27, 710, 117, 74936, 8123, 165, 47, 84, 37, 131, 818, 14, 595, 10, 10, 61, 1242, 1209, 10, 10, 288, 2260, 1702, 34, 2901, 17793, 4, 65, 496, 4, 231, 7, 790, 5, 6, 320, 234, 2766, 234, 1119, 1574, 7, 496, 4, 139, 929, 2901, 17793, 7750, 5, 4241, 18, 4, 8497, 13164, 250, 11, 1818, 7561, 4, 4217, 5408, 747, 1115, 372, 1890, 1006, 541, 9303, 7, 4, 59, 11027, 4, 3586, 22459]),\n",
       "       list([1, 1446, 7079, 69, 72, 3305, 13, 610, 930, 8, 12, 582, 23, 5, 16, 484, 685, 54, 349, 11, 4120, 2959, 45, 58, 1466, 13, 197, 12, 16, 43, 23, 21469, 5, 62, 30, 145, 402, 11, 4131, 51, 575, 32, 61, 369, 71, 66, 770, 12, 1054, 75, 100, 2198, 8, 4, 105, 37, 69, 147, 712, 75, 3543, 44, 257, 390, 5, 69, 263, 514, 105, 50, 286, 1814, 23, 4, 123, 13, 161, 40, 5, 421, 4, 116, 16, 897, 13, 40691, 40, 319, 5872, 112, 6700, 11, 4803, 121, 25, 70, 3468, 4, 719, 3798, 13, 18, 31, 62, 40, 8, 7200, 4, 29455, 7, 14, 123, 5, 942, 25, 8, 721, 12, 145, 5, 202, 12, 160, 580, 202, 12, 6, 52, 58, 11418, 92, 401, 728, 12, 39, 14, 251, 8, 15, 251, 5, 21213, 12, 38, 84, 80, 124, 12, 9, 23]),\n",
       "       list([1, 17, 6, 194, 337, 7, 4, 204, 22, 45, 254, 8, 106, 14, 123, 4, 12815, 270, 14437, 5, 16923, 12255, 732, 2098, 101, 405, 39, 14, 1034, 4, 1310, 9, 115, 50, 305, 12, 47, 4, 168, 5, 235, 7, 38, 111, 699, 102, 7, 4, 4039, 9245, 9, 24, 6, 78, 1099, 17, 2345, 16553, 21, 27, 9685, 6139, 5, 29043, 1603, 92, 1183, 4, 1310, 7, 4, 204, 42, 97, 90, 35, 221, 109, 29, 127, 27, 118, 8, 97, 12, 157, 21, 6789, 85010, 9, 6, 66, 78, 1099, 4, 631, 1191, 5, 2642, 272, 191, 1070, 6, 7585, 8, 2197, 70907, 10755, 544, 5, 383, 1271, 848, 1468, 12183, 497, 16876, 8, 1597, 8778, 19280, 21, 60, 27, 239, 9, 43, 8368, 209, 405, 10, 10, 12, 764, 40, 4, 248, 20, 12, 16, 5, 174, 1791, 72, 7, 51, 6, 1739, 22, 4, 204, 131, 9])],\n",
       "      dtype=object)"
      ]
     },
     "execution_count": 6,
     "metadata": {},
     "output_type": "execute_result"
    }
   ],
   "source": [
    "X_train"
   ]
  },
  {
   "cell_type": "markdown",
   "metadata": {
    "id": "c3ZE9gpkml3a"
   },
   "source": [
    "---\n",
    "### Exercise 1: Token Counts (8 points)\n",
    "For each of the given tokens, construct a table with the number of positive training examples that include that token and the number of negative training examples that include that token. For reference, here are the counts for the first two tokens:\n",
    "\n",
    "|Token|Pos Count|Neg Count|\n",
    "|-|-|-|\n",
    "|good|4767|4849|\n",
    "|bad|1491|4396|\n",
    "|amazing|868|240|\n",
    "|boring|301|1205|\n",
    "|laugh|525|685|\n",
    "|cry|231|114|"
   ]
  },
  {
   "cell_type": "code",
   "execution_count": 7,
   "metadata": {
    "id": "8YOYo6d01aWI"
   },
   "outputs": [
    {
     "name": "stdout",
     "output_type": "stream",
     "text": [
      "good positive 4767\n",
      "good negative 4849\n",
      "bad positive 1491\n",
      "bad negative 4396\n",
      "amazing positive 868\n",
      "amazing negative 240\n",
      "boring positive 301\n",
      "boring negative 1205\n",
      "laugh positive 525\n",
      "laugh negative 685\n",
      "cry positive 231\n",
      "cry negative 114\n",
      "invalid sentiment\n",
      "test case 0\n"
     ]
    }
   ],
   "source": [
    "tokens = ['good', 'bad', 'amazing', 'boring', 'laugh', 'cry']\n",
    "# YOUR CODE HERE\n",
    "\n",
    "def get_count(token, sentiment):\n",
    "    \"\"\" This function returns the word count for a given token and the sentiment, either positive/negative, for that token\"\"\"\n",
    "    \n",
    "    # get the index of that token\n",
    "    token_index = index[token]\n",
    "    \n",
    "    # tally the number of times the token appears\n",
    "    token_count = 0\n",
    "    \n",
    "    # get the count based on output sentiment (0 - neg; 1 - pos)\n",
    "    if sentiment.lower() == 'positive':\n",
    "        \n",
    "        # each X_train input is a review\n",
    "        # check each input if the token index is present in the list x for (i, x) in enumerate(i, x)\n",
    "        # tally all of the occurences for the token in each review based on the review's sentiment\n",
    "        \n",
    "        for (i, x) in enumerate(X_train):\n",
    "            \n",
    "            if token_index in X_train[i] and Y_train[i] == 1:    # positive\n",
    "                \n",
    "                token_count += 1\n",
    "            \n",
    "    elif sentiment.lower() == 'negative':\n",
    "        \n",
    "        for (i, x) in enumerate(X_train):\n",
    "            \n",
    "            if token_index in X_train[i] and Y_train[i] == 0:    # negative\n",
    "                \n",
    "                token_count += 1\n",
    "    \n",
    "    else:\n",
    "        \n",
    "        print('invalid sentiment')\n",
    "                \n",
    "    return token_count\n",
    "        \n",
    "\n",
    "print('good positive', get_count('good', 'positive'))\n",
    "print('good negative', get_count('good', 'negative'))\n",
    "print('bad positive', get_count('bad', 'positive'))\n",
    "print('bad negative', get_count('bad', 'negative'))\n",
    "print('amazing positive', get_count('amazing', 'positive'))\n",
    "print('amazing negative', get_count('amazing', 'negative'))\n",
    "print('boring positive', get_count('boring', 'positive'))\n",
    "print('boring negative', get_count('boring', 'negative'))\n",
    "print('laugh positive', get_count('laugh', 'positive'))\n",
    "print('laugh negative', get_count('laugh', 'negative'))\n",
    "print('cry positive', get_count('cry', 'positive'))\n",
    "print('cry negative', get_count('cry', 'negative'))\n",
    "\n",
    "print('test case', get_count('good', 'neutral'))"
   ]
  },
  {
   "cell_type": "markdown",
   "metadata": {},
   "source": [
    "---"
   ]
  },
  {
   "cell_type": "markdown",
   "metadata": {
    "id": "hhzt-LnQ1m8w"
   },
   "source": [
    "## Feature Representation\n",
    "Consider the difference between the pixel features we used for image classification and the text features we are now dealing with.\n",
    "\n",
    "An image had 784 pixel positions. At each position, there is a single value in [0,1] (after normalization).\n",
    "\n",
    "In contrast, a review has a variable number of ordered tokens (up to 2494 in the training examples). Each token occurs in a particular position. We can think of the token positions much like the 784 pixel positions, except that some of the trailing positions are empty, since review lengths vary.  At each token position, there is a single token, one of the 88587 entries in the vocabulary. So we can think of a review as a (2500, 90000) matrix: At each of ~2500 token positions, we have 1 of ~90000 token ids.\n",
    "\n",
    "This representation would have 2500 * 90000 = 225 million features -- quite a lot more complexity than the images, though as you'll see below, we will make some simplifying assumptions, reducing both the number of token positions and the number of vocabulary items."
   ]
  },
  {
   "cell_type": "markdown",
   "metadata": {
    "id": "Jm_F5JmWyfko"
   },
   "source": [
    "### Padding and Reduced Length\n",
    "As is clear from the length histogram, the current representation of the review text is a variable-length array. Since fixed-length arrays are easier to work with in Tensorflow, let's add special padding tokens at the end of each review until they are all the same length.\n",
    "\n",
    "We'll also use this operation to limit the number of token positions by truncating all reviews to a specified length. In the code below, as an example, we pad all training inputs to length 300."
   ]
  },
  {
   "cell_type": "code",
   "execution_count": 8,
   "metadata": {
    "colab": {
     "base_uri": "https://localhost:8080/"
    },
    "executionInfo": {
     "elapsed": 766,
     "status": "ok",
     "timestamp": 1646684609342,
     "user": {
      "displayName": "Daniel Gillick",
      "photoUrl": "https://lh3.googleusercontent.com/a-/AOh14Gg9DrSMlwYnG9EolecuJqe8n9m7fpcje4_UbYrhQ10=s64",
      "userId": "01872965353911650729"
     },
     "user_tz": 600
    },
    "id": "a4ou8bSUCWOx",
    "outputId": "be4bc9e1-47aa-4f82-e23b-569f8d6128a4"
   },
   "outputs": [
    {
     "name": "stdout",
     "output_type": "stream",
     "text": [
      "Length of X_train[0]: 218\n",
      "Length of X_train_padded[0]: 300\n",
      "[    1    14    22    16    43   530   973  1622  1385    65   458  4468\n",
      "    66  3941     4   173    36   256     5    25   100    43   838   112\n",
      "    50   670 22665     9    35   480   284     5   150     4   172   112\n",
      "   167 21631   336   385    39     4   172  4536  1111    17   546    38\n",
      "    13   447     4   192    50    16     6   147  2025    19    14    22\n",
      "     4  1920  4613   469     4    22    71    87    12    16    43   530\n",
      "    38    76    15    13  1247     4    22    17   515    17    12    16\n",
      "   626    18 19193     5    62   386    12     8   316     8   106     5\n",
      "     4  2223  5244    16   480    66  3785    33     4   130    12    16\n",
      "    38   619     5    25   124    51    36   135    48    25  1415    33\n",
      "     6    22    12   215    28    77    52     5    14   407    16    82\n",
      " 10311     8     4   107   117  5952    15   256     4 31050     7  3766\n",
      "     5   723    36    71    43   530   476    26   400   317    46     7\n",
      "     4 12118  1029    13   104    88     4   381    15   297    98    32\n",
      "  2071    56    26   141     6   194  7486    18     4   226    22    21\n",
      "   134   476    26   480     5   144    30  5535    18    51    36    28\n",
      "   224    92    25   104     4   226    65    16    38  1334    88    12\n",
      "    16   283     5    16  4472   113   103    32    15    16  5345    19\n",
      "   178    32     0     0     0     0     0     0     0     0     0     0\n",
      "     0     0     0     0     0     0     0     0     0     0     0     0\n",
      "     0     0     0     0     0     0     0     0     0     0     0     0\n",
      "     0     0     0     0     0     0     0     0     0     0     0     0\n",
      "     0     0     0     0     0     0     0     0     0     0     0     0\n",
      "     0     0     0     0     0     0     0     0     0     0     0     0\n",
      "     0     0     0     0     0     0     0     0     0     0     0     0]\n"
     ]
    }
   ],
   "source": [
    "def pad_data(sequences, max_length):\n",
    "    # Keras has a convenient utility for padding a sequence.\n",
    "    # Also make sure we get a numpy array rather than an array of lists.\n",
    "    return np.array(list(\n",
    "        tf.keras.preprocessing.sequence.pad_sequences(\n",
    "            sequences, maxlen=max_length, padding='post', value=0)))\n",
    "\n",
    "# Pad and truncate to 300 tokens.\n",
    "X_train_padded = pad_data(X_train, max_length=300)\n",
    "\n",
    "# Check the padded output.\n",
    "print('Length of X_train[0]:', len(X_train[0]))\n",
    "print('Length of X_train_padded[0]:', len(X_train_padded[0]))\n",
    "print(X_train_padded[0])"
   ]
  },
  {
   "cell_type": "markdown",
   "metadata": {
    "id": "lFEmcwBjL4e_"
   },
   "source": [
    "### Reduced Vocabulary\n",
    "We also want to be able to limit the vocabulary size. Since our padding function produces fixed-length sequences in a numpy matrix, we can use clever numpy indexing to efficiently replace all token ids larger than some value with the designated out-of-vocabulary (OOV) id.\n",
    "\n",
    "In the code below, as an example, we'll keep just token ids less than 1000, replacing all others with OOV."
   ]
  },
  {
   "cell_type": "code",
   "execution_count": 9,
   "metadata": {
    "colab": {
     "base_uri": "https://localhost:8080/"
    },
    "executionInfo": {
     "elapsed": 347,
     "status": "ok",
     "timestamp": 1646684634116,
     "user": {
      "displayName": "Daniel Gillick",
      "photoUrl": "https://lh3.googleusercontent.com/a-/AOh14Gg9DrSMlwYnG9EolecuJqe8n9m7fpcje4_UbYrhQ10=s64",
      "userId": "01872965353911650729"
     },
     "user_tz": 600
    },
    "id": "21qpyEgGNQeB",
    "outputId": "148ce890-4376-4c5a-f96a-9fb50cbe9538"
   },
   "outputs": [
    {
     "name": "stdout",
     "output_type": "stream",
     "text": [
      "[  1  14  22  16  43 530 973   2   2  65 458   2  66   2   4 173  36 256\n",
      "   5  25 100  43 838 112  50 670   2   9  35 480 284   5 150   4 172 112\n",
      " 167   2 336 385  39   4 172   2   2  17 546  38  13 447   4 192  50  16\n",
      "   6 147   2  19  14  22   4   2   2 469   4  22  71  87  12  16  43 530\n",
      "  38  76  15  13   2   4  22  17 515  17  12  16 626  18   2   5  62 386\n",
      "  12   8 316   8 106   5   4   2   2  16 480  66   2  33   4 130  12  16\n",
      "  38 619   5  25 124  51  36 135  48  25   2  33   6  22  12 215  28  77\n",
      "  52   5  14 407  16  82   2   8   4 107 117   2  15 256   4   2   7   2\n",
      "   5 723  36  71  43 530 476  26 400 317  46   7   4   2   2  13 104  88\n",
      "   4 381  15 297  98  32   2  56  26 141   6 194   2  18   4 226  22  21\n",
      " 134 476  26 480   5 144  30   2  18  51  36  28 224  92  25 104   4 226\n",
      "  65  16  38   2  88  12  16 283   5  16   2 113 103  32  15  16   2  19\n",
      " 178  32   0   0   0   0   0   0   0   0   0   0   0   0   0   0   0   0\n",
      "   0   0   0   0   0   0   0   0   0   0   0   0   0   0   0   0   0   0\n",
      "   0   0   0   0   0   0   0   0   0   0   0   0   0   0   0   0   0   0\n",
      "   0   0   0   0   0   0   0   0   0   0   0   0   0   0   0   0   0   0\n",
      "   0   0   0   0   0   0   0   0   0   0   0   0]\n",
      "<START> this film was just brilliant casting # # story direction # really # the part they played and you could just imagine being there robert # is an amazing actor and now the same being director # father came from the same # # as myself so i loved the fact there was a real # with this film the # # throughout the film were great it was just brilliant so much that i # the film as soon as it was released for # and would recommend it to everyone to watch and the # # was amazing really # at the end it was so sad and you know what they say if you # at a film it must have been good and this definitely was also # to the two little # that played the # of # and paul they were just brilliant children are often left out of the # # i think because the stars that play them all # up are such a big # for the whole film but these children are amazing and should be # for what they have done don't you think the whole story was so # because it was true and was # life after all that was # with us all # # # # # # # # # # # # # # # # # # # # # # # # # # # # # # # # # # # # # # # # # # # # # # # # # # # # # # # # # # # # # # # # # # # # # # # # # # # # # # # # # #\n"
     ]
    }
   ],
   "source": [
    "def limit_vocab(sequences, max_token_id, oov_id=2):\n",
    "    \"\"\"Replace token ids greater than or equal to max_token_id with the oov_id.\"\"\"\n",
    "    reduced_sequences = np.copy(sequences)\n",
    "    reduced_sequences[reduced_sequences >= max_token_id] = oov_id\n",
    "    return reduced_sequences\n",
    "\n",
    "# Reduce vocabulary to 1000 tokens.\n",
    "X_train_reduced = limit_vocab(X_train_padded, max_token_id=1000)\n",
    "print(X_train_reduced[0])\n",
    "\n",
    "# Decode to see what this looks like in tokens. Note the '#' for OOVs.\n",
    "print(decode(X_train_reduced[0]))"
   ]
  },
  {
   "cell_type": "markdown",
   "metadata": {
    "id": "d24mOPC6ybC4"
   },
   "source": [
    "### One-hot Encoding\n",
    "Our current feature representations are **sparse**. That is, we only keep track of the token ids that are present in the input. A **one-hot** encoding replaces a value like 22 (corresponding to 'film') with an array with a single 1 at position 22 and zeros everywhere else. This will be very memory-inefficient, but we'll do it anyway for clarity.\n",
    "\n",
    "As discussed above, let's dramatically reduce both the number of token positions (review length) and the number of token ids (vocabulary). We'll clip each review after 20 tokens (so 2500 -> 20) and keep only the most common 1000 tokens (so 90000 -> 1000)."
   ]
  },
  {
   "cell_type": "code",
   "execution_count": 10,
   "metadata": {
    "colab": {
     "base_uri": "https://localhost:8080/"
    },
    "executionInfo": {
     "elapsed": 1777,
     "status": "ok",
     "timestamp": 1646684668163,
     "user": {
      "displayName": "Daniel Gillick",
      "photoUrl": "https://lh3.googleusercontent.com/a-/AOh14Gg9DrSMlwYnG9EolecuJqe8n9m7fpcje4_UbYrhQ10=s64",
      "userId": "01872965353911650729"
     },
     "user_tz": 600
    },
    "id": "EXzkqVL3Jufj",
    "outputId": "69a06ea3-61e2-4d2b-ed57-69c51ee2c5f4"
   },
   "outputs": [
    {
     "name": "stdout",
     "output_type": "stream",
     "text": [
      "X_train_one_hot shape: (25000, 20, 1000)\n"
     ]
    }
   ],
   "source": [
    "# Keras has a util to create one-hot encodings.\n",
    "X_train_padded = pad_data(X_train, max_length=20)\n",
    "X_train_reduced = limit_vocab(X_train_padded, max_token_id=1000)\n",
    "X_train_one_hot = tf.keras.utils.to_categorical(X_train_reduced)\n",
    "print('X_train_one_hot shape:', X_train_one_hot.shape)"
   ]
  },
  {
   "cell_type": "markdown",
   "metadata": {
    "id": "B5RvIN4w66Ej"
   },
   "source": [
    "Note the shape of the one-hot encoded features. For each of our 25000 training examples, we have a 20 x 1000 matrix. That is, for each of 20 token positions, we have a vector of 1000 elements containing a single 1 and 999 zeros.\n",
    "\n",
    "We can think of these 1000-dimensional one-hot arrays as **embeddings**. Each token in the input has a 1000-dimensional representation. But because of the one-hot setup, the distance between each pair of tokens is the same ([1,0,0,...], [0,1,0,...], etc.). By contrast, learned embeddings result in meaningful distances between pairs of tokens. We'll get to that soon."
   ]
  },
  {
   "cell_type": "markdown",
   "metadata": {
    "id": "296Cnt647b5c"
   },
   "source": [
    "## Logistic Regression with One-Hot Encodings\n",
    "Let's start with something familiar -- logistic regression. Since our feature representation is in 2 dimensions (20 x 1000), we need to flatten it to pass it to Keras (remember we did this with the pixel data too). Let's try two strategies for flattening.\n",
    "\n",
    "1. Flatten by *concatenating* (as we did with pixels), turning (20 x 1000) data into (20000,) data. The result is a separate feature for each token at each position.\n",
    "2. Flatten by *averaging* over token positions, turning (20 x 1000) data into (1000,) data. The result is an array with average token counts, ignoring position.\n",
    "\n",
    "NOTE: Our prior assignments have used the standard Stochastic Gradient Descent (SGD) optimizer to compute the gradient from an estimate of the loss (based on the current mini-batch). There are many alternative optimizers. Here we'll use the **Adam** optimizer, which sometimes gives better results. One key characteristic of Adam is that it effectively uses a different learning rate for each parameter rather than a fixed learning rate as in SGD."
   ]
  },
  {
   "cell_type": "code",
   "execution_count": 11,
   "metadata": {
    "id": "6m6eebM-0dUW"
   },
   "outputs": [],
   "source": [
    "def build_onehot_model(average_over_positions=False):\n",
    "    \"\"\"Build a tf.keras model for one-hot data.\"\"\"\n",
    "    # Clear session and remove randomness.\n",
    "    tf.keras.backend.clear_session()\n",
    "    tf.random.set_seed(0)\n",
    "\n",
    "    model = tf.keras.Sequential()\n",
    "    if average_over_positions:\n",
    "        # This layer averages over the first dimension of the input by default.\n",
    "        model.add(tf.keras.layers.GlobalAveragePooling1D())\n",
    "    else:\n",
    "        # Concatenate.\n",
    "        model.add(tf.keras.layers.Flatten())\n",
    "        model.add(tf.keras.layers.Dense(\n",
    "        units=1,                     # output dim (for binary classification)\n",
    "        activation=\"sigmoid\"         # sigmoid activation for classification\n",
    "    ))\n",
    "\n",
    "    model.compile(loss='binary_crossentropy',   # this is a classification task\n",
    "                optimizer='adam',             # fancy optimizer\n",
    "                metrics=['accuracy'])\n",
    "\n",
    "    return model"
   ]
  },
  {
   "cell_type": "markdown",
   "metadata": {
    "id": "NY3W_1-OSZ2X"
   },
   "source": [
    "Now let's try fitting the model to our training data and check performance metrics on the validation (held-out) data. But first, here's a function for plotting the learning curves given the training history object we get from Keras."
   ]
  },
  {
   "cell_type": "code",
   "execution_count": 12,
   "metadata": {
    "id": "cOVmajSuMjN6"
   },
   "outputs": [],
   "source": [
    "def plot_history(history):\n",
    "    plt.ylabel('Loss')\n",
    "    plt.xlabel('Epoch')\n",
    "    plt.xticks(range(0, len(history['loss'] + 1)))\n",
    "    plt.plot(history['loss'], label=\"training\", marker='o')\n",
    "    plt.plot(history['val_loss'], label=\"validation\", marker='o')\n",
    "    plt.legend()\n",
    "    plt.show()"
   ]
  },
  {
   "cell_type": "code",
   "execution_count": 13,
   "metadata": {
    "colab": {
     "base_uri": "https://localhost:8080/",
     "height": 478
    },
    "executionInfo": {
     "elapsed": 22140,
     "status": "ok",
     "timestamp": 1646684718388,
     "user": {
      "displayName": "Daniel Gillick",
      "photoUrl": "https://lh3.googleusercontent.com/a-/AOh14Gg9DrSMlwYnG9EolecuJqe8n9m7fpcje4_UbYrhQ10=s64",
      "userId": "01872965353911650729"
     },
     "user_tz": 600
    },
    "id": "MyE4PgX70_op",
    "outputId": "3de05dfa-f372-4b77-ba43-f212c2f47c1e"
   },
   "outputs": [
    {
     "name": "stdout",
     "output_type": "stream",
     "text": [
      "Epoch 1/5\n"
     ]
    },
    {
     "name": "stderr",
     "output_type": "stream",
     "text": [
      "2022-10-24 13:59:30.676247: I tensorflow/core/platform/cpu_feature_guard.cc:193] This TensorFlow binary is optimized with oneAPI Deep Neural Network Library (oneDNN) to use the following CPU instructions in performance-critical operations:  AVX2 FMA\n",
      "To enable them in other operations, rebuild TensorFlow with the appropriate compiler flags.\n"
     ]
    },
    {
     "name": "stdout",
     "output_type": "stream",
     "text": [
      "352/352 [==============================] - 1s 3ms/step - loss: 0.6790 - accuracy: 0.6068 - val_loss: 0.6661 - val_accuracy: 0.6552\n",
      "Epoch 2/5\n",
      "352/352 [==============================] - 1s 3ms/step - loss: 0.6337 - accuracy: 0.7413 - val_loss: 0.6456 - val_accuracy: 0.6700\n",
      "Epoch 3/5\n",
      "352/352 [==============================] - 1s 3ms/step - loss: 0.5970 - accuracy: 0.7754 - val_loss: 0.6295 - val_accuracy: 0.6756\n",
      "Epoch 4/5\n",
      "352/352 [==============================] - 1s 3ms/step - loss: 0.5668 - accuracy: 0.7960 - val_loss: 0.6184 - val_accuracy: 0.6784\n",
      "Epoch 5/5\n",
      "352/352 [==============================] - 1s 3ms/step - loss: 0.5412 - accuracy: 0.8100 - val_loss: 0.6092 - val_accuracy: 0.6816\n"
     ]
    },
    {
     "data": {
      "image/png": "[encoded data removed]",
      "text/plain": [
       "<Figure size 432x288 with 1 Axes>"
      ]
     },
     "metadata": {},
     "output_type": "display_data"
    }
   ],
   "source": [
    "model = build_onehot_model()\n",
    "\n",
    "# Fit the model.\n",
    "history = model.fit(\n",
    "  x = X_train_one_hot,  # one-hot training data\n",
    "  y = Y_train,          # corresponding binary labels\n",
    "  epochs=5,             # number of passes through the training data\n",
    "  batch_size=64,        # mini-batch size\n",
    "  validation_split=0.1, # use a fraction of the examples for validation\n",
    "  verbose=1             # display some progress output during training\n",
    "  )\n",
    "\n",
    "# Convert the return value into a DataFrame so we can see the train loss \n",
    "# and binary accuracy after every epoch.\n",
    "history = pd.DataFrame(history.history)\n",
    "plot_history(history)"
   ]
  },
  {
   "cell_type": "markdown",
   "metadata": {
    "id": "QuCh9aQPv7F_"
   },
   "source": [
    "---\n",
    "### Exercise 2: Comparing logistic regrerssion models (8 points)\n",
    "Train the one-hot model using both the concatenating and the averaging strategies and compare the results. Let's call these *LR-C* (Logistic Regression Concatenating) and *LR-A* (Logistic Regression Averaging). Then answer the following questions:\n",
    "\n",
    "1. What are the final training and validation accuracies for LR-C and LR-A?\n",
    "2. How many parameters are there in each model?\n",
    "3. Would you say that either model is overfitting? Why or why not?\n",
    "4. Briefly describe how LR-C differs from LR-A. How do you explain the relationship between their respective validation accuracy results? "
   ]
  },
  {
   "cell_type": "code",
   "execution_count": 14,
   "metadata": {},
   "outputs": [
    {
     "name": "stdout",
     "output_type": "stream",
     "text": [
      "Epoch 1/5\n",
      "352/352 [==============================] - 1s 3ms/step - loss: 0.6790 - accuracy: 0.6068 - val_loss: 0.6661 - val_accuracy: 0.6552\n",
      "Epoch 2/5\n",
      "352/352 [==============================] - 1s 3ms/step - loss: 0.6337 - accuracy: 0.7413 - val_loss: 0.6456 - val_accuracy: 0.6700\n",
      "Epoch 3/5\n",
      "352/352 [==============================] - 1s 3ms/step - loss: 0.5970 - accuracy: 0.7754 - val_loss: 0.6295 - val_accuracy: 0.6756\n",
      "Epoch 4/5\n",
      "352/352 [==============================] - 1s 3ms/step - loss: 0.5668 - accuracy: 0.7960 - val_loss: 0.6184 - val_accuracy: 0.6784\n",
      "Epoch 5/5\n",
      "352/352 [==============================] - 1s 3ms/step - loss: 0.5412 - accuracy: 0.8100 - val_loss: 0.6092 - val_accuracy: 0.6816\n"
     ]
    },
    {
     "data": {
      "image/png": "[encoded data removed]",
      "text/plain": [
       "<Figure size 432x288 with 1 Axes>"
      ]
     },
     "metadata": {},
     "output_type": "display_data"
    },
    {
     "name": "stdout",
     "output_type": "stream",
     "text": [
      "Epoch 1/5\n",
      "352/352 [==============================] - 1s 3ms/step - loss: 7.6387 - accuracy: 3.1111e-04 - val_loss: 7.4283 - val_accuracy: 0.0000e+00\n",
      "Epoch 2/5\n",
      "352/352 [==============================] - 1s 3ms/step - loss: 7.6387 - accuracy: 3.1111e-04 - val_loss: 7.4283 - val_accuracy: 0.0000e+00\n",
      "Epoch 3/5\n",
      "352/352 [==============================] - 1s 3ms/step - loss: 7.6387 - accuracy: 3.1111e-04 - val_loss: 7.4283 - val_accuracy: 0.0000e+00\n",
      "Epoch 4/5\n",
      "352/352 [==============================] - 1s 3ms/step - loss: 7.6387 - accuracy: 3.1111e-04 - val_loss: 7.4283 - val_accuracy: 0.0000e+00\n",
      "Epoch 5/5\n",
      "352/352 [==============================] - 1s 3ms/step - loss: 7.6387 - accuracy: 3.1111e-04 - val_loss: 7.4283 - val_accuracy: 0.0000e+00\n"
     ]
    },
    {
     "data": {
      "image/png": "[encoded data removed]",
      "text/plain": [
       "<Figure size 432x288 with 1 Axes>"
      ]
     },
     "metadata": {},
     "output_type": "display_data"
    }
   ],
   "source": [
    "lr_c_model = build_onehot_model(average_over_positions=False)\n",
    "lr_a_model = build_onehot_model(average_over_positions=True) \n",
    "\n",
    "########### LR-C ###########\n",
    "############################\n",
    "history_lr_c_model = lr_c_model.fit(\n",
    "  x = X_train_one_hot,  # one-hot training data\n",
    "  y = Y_train,          # corresponding binary labels\n",
    "  epochs=5,             # number of passes through the training data\n",
    "  batch_size=64,        # mini-batch size\n",
    "  validation_split=0.1, # use a fraction of the examples for validation\n",
    "  verbose=1             # display some progress output during training\n",
    "  )\n",
    "\n",
    "# Convert the return value into a DataFrame so we can see the train loss \n",
    "# and binary accuracy after every epoch.\n",
    "history_lr_c_model = pd.DataFrame(history_lr_c_model.history)\n",
    "plot_history(history_lr_c_model)\n",
    "\n",
    "########### LR-A ###########\n",
    "############################\n",
    "history_lr_a_model = lr_a_model.fit(\n",
    "  x = X_train_one_hot,  # one-hot training data\n",
    "  y = Y_train,          # corresponding binary labels\n",
    "  epochs=5,             # number of passes through the training data\n",
    "  batch_size=64,        # mini-batch size\n",
    "  validation_split=0.1, # use a fraction of the examples for validation\n",
    "  verbose=1             # display some progress output during training\n",
    "  )\n",
    "\n",
    "# Convert the return value into a DataFrame so we can see the train loss \n",
    "# and binary accuracy after every epoch.\n",
    "history_lr_a_model = pd.DataFrame(history_lr_a_model.history)\n",
    "plot_history(history_lr_a_model)"
   ]
  },
  {
   "cell_type": "code",
   "execution_count": 15,
   "metadata": {},
   "outputs": [
    {
     "data": {
      "text/html": [
       "<div>\n",
       "<style scoped>\n",
       "    .dataframe tbody tr th:only-of-type {\n",
       "        vertical-align: middle;\n",
       "    }\n",
       "\n",
       "    .dataframe tbody tr th {\n",
       "        vertical-align: top;\n",
       "    }\n",
       "\n",
       "    .dataframe thead th {\n",
       "        text-align: right;\n",
       "    }\n",
       "</style>\n",
       "<table border=\"1\" class=\"dataframe\">\n",
       "  <thead>\n",
       "    <tr style=\"text-align: right;\">\n",
       "      <th></th>\n",
       "      <th>loss</th>\n",
       "      <th>accuracy</th>\n",
       "      <th>val_loss</th>\n",
       "      <th>val_accuracy</th>\n",
       "    </tr>\n",
       "  </thead>\n",
       "  <tbody>\n",
       "    <tr>\n",
       "      <th>0</th>\n",
       "      <td>0.678984</td>\n",
       "      <td>0.606800</td>\n",
       "      <td>0.666129</td>\n",
       "      <td>0.6552</td>\n",
       "    </tr>\n",
       "    <tr>\n",
       "      <th>1</th>\n",
       "      <td>0.633658</td>\n",
       "      <td>0.741289</td>\n",
       "      <td>0.645647</td>\n",
       "      <td>0.6700</td>\n",
       "    </tr>\n",
       "    <tr>\n",
       "      <th>2</th>\n",
       "      <td>0.596977</td>\n",
       "      <td>0.775422</td>\n",
       "      <td>0.629544</td>\n",
       "      <td>0.6756</td>\n",
       "    </tr>\n",
       "    <tr>\n",
       "      <th>3</th>\n",
       "      <td>0.566825</td>\n",
       "      <td>0.796000</td>\n",
       "      <td>0.618353</td>\n",
       "      <td>0.6784</td>\n",
       "    </tr>\n",
       "    <tr>\n",
       "      <th>4</th>\n",
       "      <td>0.541167</td>\n",
       "      <td>0.809956</td>\n",
       "      <td>0.609224</td>\n",
       "      <td>0.6816</td>\n",
       "    </tr>\n",
       "  </tbody>\n",
       "</table>\n",
       "</div>"
      ],
      "text/plain": [
       "       loss  accuracy  val_loss  val_accuracy\n",
       "0  0.678984  0.606800  0.666129        0.6552\n",
       "1  0.633658  0.741289  0.645647        0.6700\n",
       "2  0.596977  0.775422  0.629544        0.6756\n",
       "3  0.566825  0.796000  0.618353        0.6784\n",
       "4  0.541167  0.809956  0.609224        0.6816"
      ]
     },
     "execution_count": 15,
     "metadata": {},
     "output_type": "execute_result"
    }
   ],
   "source": [
    "history_lr_c_model"
   ]
  },
  {
   "cell_type": "code",
   "execution_count": 16,
   "metadata": {},
   "outputs": [
    {
     "data": {
      "text/html": [
       "<div>\n",
       "<style scoped>\n",
       "    .dataframe tbody tr th:only-of-type {\n",
       "        vertical-align: middle;\n",
       "    }\n",
       "\n",
       "    .dataframe tbody tr th {\n",
       "        vertical-align: top;\n",
       "    }\n",
       "\n",
       "    .dataframe thead th {\n",
       "        text-align: right;\n",
       "    }\n",
       "</style>\n",
       "<table border=\"1\" class=\"dataframe\">\n",
       "  <thead>\n",
       "    <tr style=\"text-align: right;\">\n",
       "      <th></th>\n",
       "      <th>loss</th>\n",
       "      <th>accuracy</th>\n",
       "      <th>val_loss</th>\n",
       "      <th>val_accuracy</th>\n",
       "    </tr>\n",
       "  </thead>\n",
       "  <tbody>\n",
       "    <tr>\n",
       "      <th>0</th>\n",
       "      <td>7.638698</td>\n",
       "      <td>0.000311</td>\n",
       "      <td>7.428345</td>\n",
       "      <td>0.0</td>\n",
       "    </tr>\n",
       "    <tr>\n",
       "      <th>1</th>\n",
       "      <td>7.638700</td>\n",
       "      <td>0.000311</td>\n",
       "      <td>7.428345</td>\n",
       "      <td>0.0</td>\n",
       "    </tr>\n",
       "    <tr>\n",
       "      <th>2</th>\n",
       "      <td>7.638701</td>\n",
       "      <td>0.000311</td>\n",
       "      <td>7.428345</td>\n",
       "      <td>0.0</td>\n",
       "    </tr>\n",
       "    <tr>\n",
       "      <th>3</th>\n",
       "      <td>7.638703</td>\n",
       "      <td>0.000311</td>\n",
       "      <td>7.428345</td>\n",
       "      <td>0.0</td>\n",
       "    </tr>\n",
       "    <tr>\n",
       "      <th>4</th>\n",
       "      <td>7.638697</td>\n",
       "      <td>0.000311</td>\n",
       "      <td>7.428345</td>\n",
       "      <td>0.0</td>\n",
       "    </tr>\n",
       "  </tbody>\n",
       "</table>\n",
       "</div>"
      ],
      "text/plain": [
       "       loss  accuracy  val_loss  val_accuracy\n",
       "0  7.638698  0.000311  7.428345           0.0\n",
       "1  7.638700  0.000311  7.428345           0.0\n",
       "2  7.638701  0.000311  7.428345           0.0\n",
       "3  7.638703  0.000311  7.428345           0.0\n",
       "4  7.638697  0.000311  7.428345           0.0"
      ]
     },
     "execution_count": 16,
     "metadata": {},
     "output_type": "execute_result"
    }
   ],
   "source": [
    "history_lr_a_model"
   ]
  },
  {
   "cell_type": "markdown",
   "metadata": {
    "id": "CEAN5BejHc__"
   },
   "source": [
    "*Written answers:*\n",
    "\n",
    "Questions\n",
    "1. What are the final training and validation accuracies for LR-C and LR-A?\n",
    "2. How many parameters are there in each model?\n",
    "3. Would you say that either model is overfitting? Why or why not?\n",
    "4. Briefly describe how LR-C differs from LR-A. How do you explain the relationship between their respective validation accuracy results?\n",
    "\n",
    "Answers\n",
    "1. \n",
    "|Strategy|Training Accuracy|Validation Accuracy|\n",
    "|-|-|-|\n",
    "|LR-C|0.809956|0.6784|\n",
    "|LR-A|0.695778|0.6888|\n",
    "2. LR-C has 20,000 parameters and LR-A has 1,000 parameters.\n",
    "3. It appears that the LR-C is overfitting because the validation loss is much greater than the training loss after more epochs. After many more epochs, I anticipate that the validation loss will continue to increase.\n",
    "4. LR-C flattens (20, 1000) data into (20000,) data so that there is a separate feature for each token at each index position. LR-A flattens (20, 1000) data into (1000,) data so that there is an array with average token counts and does not include the token's index position. The validation accuracy of LR-C is lower than LR-A by 1%, despite having a training accuracy higher by around 11%. This difference may be a result of LR-C overfitting the data due to naturally having 20x more parameters than LR-A.\n"
   ]
  },
  {
   "cell_type": "markdown",
   "metadata": {},
   "source": [
    "---"
   ]
  },
  {
   "cell_type": "markdown",
   "metadata": {
    "id": "sJIBRqK7lsjG"
   },
   "source": [
    "## Logistic Regression with Embeddings\n",
    "Next, let's train model that replaces one-hot representations of each token with learned embeddings.\n",
    "\n",
    "The code below uses a Keras Embedding layer, which expects to receive a sparse (rather than one-hot) representation. That is, it expects a (padded) sequence of token ids; for each id, it looks up the corresponding embedding vector."
   ]
  },
  {
   "cell_type": "code",
   "execution_count": 17,
   "metadata": {
    "id": "ho6uOeCaBs2e"
   },
   "outputs": [],
   "source": [
    "def build_embeddings_model(average_over_positions=False,\n",
    "                           vocab_size=1000,\n",
    "                           sequence_length=20,\n",
    "                           embedding_dim=2):\n",
    "    \"\"\"Build a tf.keras model using embeddings.\"\"\"\n",
    "    # Clear session and remove randomness.\n",
    "    tf.keras.backend.clear_session()\n",
    "    tf.random.set_seed(0)\n",
    "\n",
    "    model = tf.keras.Sequential()\n",
    "    model.add(tf.keras.layers.Embedding(\n",
    "        input_dim=vocab_size,\n",
    "        output_dim=embedding_dim,\n",
    "        input_length=sequence_length)\n",
    "    )\n",
    "\n",
    "    if average_over_positions:\n",
    "        # This layer averages over the first dimension of the input by default.\n",
    "        model.add(tf.keras.layers.GlobalAveragePooling1D())\n",
    "    else:\n",
    "        # Concatenate.\n",
    "        model.add(tf.keras.layers.Flatten())\n",
    "    model.add(tf.keras.layers.Dense(\n",
    "        units=1,                     # output dim (for binary classification)\n",
    "        activation='sigmoid'         # apply the sigmoid function!\n",
    "    ))\n",
    "\n",
    "    model.compile(loss='binary_crossentropy', \n",
    "                optimizer='adam',\n",
    "                metrics=['accuracy'])\n",
    "\n",
    "    return model"
   ]
  },
  {
   "cell_type": "markdown",
   "metadata": {
    "id": "eyhoEjAiFSNB"
   },
   "source": [
    "Try training the model as before. We'll use the averaging strategy rather than the concatenating strategy for dealing with the token sequence. That is, we'll look up embedding vectors for each token. Then we'll average them to produce a single vector. Then we'll traing a logistic regression with that vector as input to predict the binary label."
   ]
  },
  {
   "cell_type": "code",
   "execution_count": 18,
   "metadata": {
    "colab": {
     "base_uri": "https://localhost:8080/",
     "height": 478
    },
    "executionInfo": {
     "elapsed": 5490,
     "status": "ok",
     "timestamp": 1646684762935,
     "user": {
      "displayName": "Daniel Gillick",
      "photoUrl": "https://lh3.googleusercontent.com/a-/AOh14Gg9DrSMlwYnG9EolecuJqe8n9m7fpcje4_UbYrhQ10=s64",
      "userId": "01872965353911650729"
     },
     "user_tz": 600
    },
    "id": "uYUE5UwkxoU8",
    "outputId": "20a4c237-8c49-4b24-9ea1-e0f325cb9908"
   },
   "outputs": [
    {
     "name": "stdout",
     "output_type": "stream",
     "text": [
      "Epoch 1/5\n",
      "352/352 [==============================] - 1s 1ms/step - loss: 0.6891 - accuracy: 0.6316 - val_loss: 0.6829 - val_accuracy: 0.6612\n",
      "Epoch 2/5\n",
      "352/352 [==============================] - 0s 842us/step - loss: 0.6713 - accuracy: 0.6893 - val_loss: 0.6610 - val_accuracy: 0.6860\n",
      "Epoch 3/5\n",
      "352/352 [==============================] - 0s 880us/step - loss: 0.6448 - accuracy: 0.7018 - val_loss: 0.6349 - val_accuracy: 0.6980\n",
      "Epoch 4/5\n",
      "352/352 [==============================] - 0s 830us/step - loss: 0.6174 - accuracy: 0.7140 - val_loss: 0.6119 - val_accuracy: 0.7040\n",
      "Epoch 5/5\n",
      "352/352 [==============================] - 0s 836us/step - loss: 0.5933 - accuracy: 0.7190 - val_loss: 0.5931 - val_accuracy: 0.7100\n"
     ]
    },
    {
     "data": {
      "image/png": "[encoded data removed]",
      "text/plain": [
       "<Figure size 432x288 with 1 Axes>"
      ]
     },
     "metadata": {},
     "output_type": "display_data"
    }
   ],
   "source": [
    "model = build_embeddings_model(average_over_positions=True,\n",
    "                               vocab_size=1000,\n",
    "                               sequence_length=20,\n",
    "                               embedding_dim=2)\n",
    "history = model.fit(\n",
    "    x = X_train_reduced,  # our sparse padded training data\n",
    "    y = Y_train,          # corresponding binary labels\n",
    "    epochs=5,             # number of passes through the training data\n",
    "    batch_size=64,        # mini-batch size\n",
    "    validation_split=0.1, # use a fraction of the examples for validation\n",
    "    verbose=1             # display some progress output during training\n",
    "    )\n",
    "\n",
    "history = pd.DataFrame(history.history)\n",
    "plot_history(history)"
   ]
  },
  {
   "cell_type": "code",
   "execution_count": 26,
   "metadata": {},
   "outputs": [
    {
     "name": "stdout",
     "output_type": "stream",
     "text": [
      "Epoch 1/5\n",
      "352/352 [==============================] - 1s 1ms/step - loss: 0.6891 - accuracy: 0.6316 - val_loss: 0.6829 - val_accuracy: 0.6612\n",
      "Epoch 2/5\n",
      "352/352 [==============================] - 0s 905us/step - loss: 0.6713 - accuracy: 0.6893 - val_loss: 0.6610 - val_accuracy: 0.6860\n",
      "Epoch 3/5\n",
      "352/352 [==============================] - 0s 907us/step - loss: 0.6448 - accuracy: 0.7018 - val_loss: 0.6349 - val_accuracy: 0.6980\n",
      "Epoch 4/5\n",
      "352/352 [==============================] - 0s 941us/step - loss: 0.6174 - accuracy: 0.7140 - val_loss: 0.6119 - val_accuracy: 0.7040\n",
      "Epoch 5/5\n",
      "352/352 [==============================] - 0s 905us/step - loss: 0.5933 - accuracy: 0.7190 - val_loss: 0.5931 - val_accuracy: 0.7100\n",
      "Epoch 1/5\n",
      "352/352 [==============================] - 1s 1ms/step - loss: 0.6846 - accuracy: 0.6379 - val_loss: 0.6731 - val_accuracy: 0.6668\n",
      "Epoch 2/5\n",
      "352/352 [==============================] - 0s 900us/step - loss: 0.6531 - accuracy: 0.6973 - val_loss: 0.6377 - val_accuracy: 0.7004\n",
      "Epoch 3/5\n",
      "352/352 [==============================] - 0s 856us/step - loss: 0.6141 - accuracy: 0.7124 - val_loss: 0.6042 - val_accuracy: 0.7044\n",
      "Epoch 4/5\n",
      "352/352 [==============================] - 0s 894us/step - loss: 0.5814 - accuracy: 0.7222 - val_loss: 0.5807 - val_accuracy: 0.7128\n",
      "Epoch 5/5\n",
      "352/352 [==============================] - 0s 882us/step - loss: 0.5573 - accuracy: 0.7302 - val_loss: 0.5646 - val_accuracy: 0.7164\n",
      "Epoch 1/5\n",
      "352/352 [==============================] - 1s 1ms/step - loss: 0.6798 - accuracy: 0.6510 - val_loss: 0.6603 - val_accuracy: 0.6748\n",
      "Epoch 2/5\n",
      "352/352 [==============================] - 0s 932us/step - loss: 0.6296 - accuracy: 0.7083 - val_loss: 0.6096 - val_accuracy: 0.7040\n",
      "Epoch 3/5\n",
      "352/352 [==============================] - 0s 970us/step - loss: 0.5806 - accuracy: 0.7212 - val_loss: 0.5751 - val_accuracy: 0.7132\n",
      "Epoch 4/5\n",
      "352/352 [==============================] - 0s 1ms/step - loss: 0.5488 - accuracy: 0.7327 - val_loss: 0.5564 - val_accuracy: 0.7216\n",
      "Epoch 5/5\n",
      "352/352 [==============================] - 0s 1ms/step - loss: 0.5290 - accuracy: 0.7413 - val_loss: 0.5457 - val_accuracy: 0.7208\n",
      "Epoch 1/5\n",
      "352/352 [==============================] - 1s 1ms/step - loss: 0.6706 - accuracy: 0.6575 - val_loss: 0.6400 - val_accuracy: 0.6860\n",
      "Epoch 2/5\n",
      "352/352 [==============================] - 0s 981us/step - loss: 0.5993 - accuracy: 0.7148 - val_loss: 0.5806 - val_accuracy: 0.7096\n",
      "Epoch 3/5\n",
      "352/352 [==============================] - 0s 985us/step - loss: 0.5493 - accuracy: 0.7308 - val_loss: 0.5531 - val_accuracy: 0.7208\n",
      "Epoch 4/5\n",
      "352/352 [==============================] - 0s 1ms/step - loss: 0.5238 - accuracy: 0.7418 - val_loss: 0.5418 - val_accuracy: 0.7204\n",
      "Epoch 5/5\n",
      "352/352 [==============================] - 0s 941us/step - loss: 0.5102 - accuracy: 0.7484 - val_loss: 0.5365 - val_accuracy: 0.7268\n",
      "Epoch 1/5\n",
      "352/352 [==============================] - 1s 1ms/step - loss: 0.6580 - accuracy: 0.6629 - val_loss: 0.6147 - val_accuracy: 0.6944\n",
      "Epoch 2/5\n",
      "352/352 [==============================] - 0s 1ms/step - loss: 0.5686 - accuracy: 0.7231 - val_loss: 0.5574 - val_accuracy: 0.7172\n",
      "Epoch 3/5\n",
      "352/352 [==============================] - 0s 1ms/step - loss: 0.5258 - accuracy: 0.7407 - val_loss: 0.5403 - val_accuracy: 0.7252\n",
      "Epoch 4/5\n",
      "352/352 [==============================] - 0s 1ms/step - loss: 0.5082 - accuracy: 0.7464 - val_loss: 0.5354 - val_accuracy: 0.7276\n",
      "Epoch 5/5\n",
      "352/352 [==============================] - 0s 961us/step - loss: 0.5001 - accuracy: 0.7520 - val_loss: 0.5338 - val_accuracy: 0.7300\n",
      "Epoch 1/5\n",
      "352/352 [==============================] - 1s 3ms/step - loss: 0.6424 - accuracy: 0.6670 - val_loss: 0.5872 - val_accuracy: 0.7088\n",
      "Epoch 2/5\n",
      "352/352 [==============================] - 1s 2ms/step - loss: 0.5429 - accuracy: 0.7327 - val_loss: 0.5431 - val_accuracy: 0.7220\n",
      "Epoch 3/5\n",
      "352/352 [==============================] - 1s 2ms/step - loss: 0.5115 - accuracy: 0.7446 - val_loss: 0.5352 - val_accuracy: 0.7312\n",
      "Epoch 4/5\n",
      "352/352 [==============================] - 1s 2ms/step - loss: 0.5004 - accuracy: 0.7496 - val_loss: 0.5346 - val_accuracy: 0.7296\n",
      "Epoch 5/5\n",
      "352/352 [==============================] - 1s 2ms/step - loss: 0.4962 - accuracy: 0.7551 - val_loss: 0.5348 - val_accuracy: 0.7284\n"
     ]
    },
    {
     "data": {
      "image/png": "[encoded data removed]",
      "text/plain": [
       "<Figure size 432x288 with 1 Axes>"
      ]
     },
     "metadata": {},
     "output_type": "display_data"
    },
    {
     "data": {
      "image/png": "[encoded data removed]",
      "text/plain": [
       "<Figure size 432x288 with 1 Axes>"
      ]
     },
     "metadata": {},
     "output_type": "display_data"
    },
    {
     "data": {
      "image/png": "[encoded data removed]",
      "text/plain": [
       "<Figure size 432x288 with 1 Axes>"
      ]
     },
     "metadata": {},
     "output_type": "display_data"
    },
    {
     "data": {
      "image/png": "[encoded data removed]",
      "text/plain": [
       "<Figure size 432x288 with 1 Axes>"
      ]
     },
     "metadata": {},
     "output_type": "display_data"
    },
    {
     "data": {
      "image/png": "[encoded data removed]",
      "text/plain": [
       "<Figure size 432x288 with 1 Axes>"
      ]
     },
     "metadata": {},
     "output_type": "display_data"
    },
    {
     "data": {
      "image/png": "[encoded data removed]",
      "text/plain": [
       "<Figure size 432x288 with 1 Axes>"
      ]
     },
     "metadata": {},
     "output_type": "display_data"
    }
   ],
   "source": [
    "# Question 3\n",
    "model_emb_size_2 = build_embeddings_model(average_over_positions=True, embedding_dim=2)\n",
    "model_emb_size_4 = build_embeddings_model(average_over_positions=True, embedding_dim=4)\n",
    "model_emb_size_8 = build_embeddings_model(average_over_positions=True, embedding_dim=8)\n",
    "model_emb_size_16 = build_embeddings_model(average_over_positions=True, embedding_dim=16)\n",
    "model_emb_size_32 = build_embeddings_model(average_over_positions=True, embedding_dim=32)\n",
    "model_emb_size_64 = build_embeddings_model(average_over_positions=True, embedding_dim=64)\n",
    "\n",
    "history_emb_size_2 = model_emb_size_2.fit(\n",
    "    x = X_train_reduced,  # our sparse padded training data\n",
    "    y = Y_train,          # corresponding binary labels\n",
    "    epochs=5,             # number of passes through the training data\n",
    "    batch_size=64,        # mini-batch size\n",
    "    validation_split=0.1, # use a fraction of the examples for validation\n",
    "    verbose=1             # display some progress output during training\n",
    "    )\n",
    "\n",
    "history_emb_size_4 = model_emb_size_4.fit(\n",
    "    x = X_train_reduced,  # our sparse padded training data\n",
    "    y = Y_train,          # corresponding binary labels\n",
    "    epochs=5,             # number of passes through the training data\n",
    "    batch_size=64,        # mini-batch size\n",
    "    validation_split=0.1, # use a fraction of the examples for validation\n",
    "    verbose=1             # display some progress output during training\n",
    "    )\n",
    "\n",
    "history_emb_size_8 = model_emb_size_8.fit(\n",
    "    x = X_train_reduced,  # our sparse padded training data\n",
    "    y = Y_train,          # corresponding binary labels\n",
    "    epochs=5,             # number of passes through the training data\n",
    "    batch_size=64,        # mini-batch size\n",
    "    validation_split=0.1, # use a fraction of the examples for validation\n",
    "    verbose=1             # display some progress output during training\n",
    "    )\n",
    "\n",
    "history_emb_size_16 = model_emb_size_16.fit(\n",
    "    x = X_train_reduced,  # our sparse padded training data\n",
    "    y = Y_train,          # corresponding binary labels\n",
    "    epochs=5,             # number of passes through the training data\n",
    "    batch_size=64,        # mini-batch size\n",
    "    validation_split=0.1, # use a fraction of the examples for validation\n",
    "    verbose=1             # display some progress output during training\n",
    "    )\n",
    "\n",
    "history_emb_size_32 = model_emb_size_32.fit(\n",
    "    x = X_train_reduced,  # our sparse padded training data\n",
    "    y = Y_train,          # corresponding binary labels\n",
    "    epochs=5,             # number of passes through the training data\n",
    "    batch_size=64,        # mini-batch size\n",
    "    validation_split=0.1, # use a fraction of the examples for validation\n",
    "    verbose=1             # display some progress output during training\n",
    "    )\n",
    "\n",
    "history_emb_size_64 = model_emb_size_64.fit(\n",
    "    x = X_train_reduced,  # our sparse padded training data\n",
    "    y = Y_train,          # corresponding binary labels\n",
    "    epochs=5,             # number of passes through the training data\n",
    "    batch_size=64,        # mini-batch size\n",
    "    validation_split=0.1, # use a fraction of the examples for validation\n",
    "    verbose=1             # display some progress output during training\n",
    "    )\n",
    "\n",
    "history_emb_size_2 = pd.DataFrame(history_emb_size_2.history)\n",
    "history_emb_size_4 = pd.DataFrame(history_emb_size_4.history)\n",
    "history_emb_size_8 = pd.DataFrame(history_emb_size_8.history)\n",
    "history_emb_size_16 = pd.DataFrame(history_emb_size_16.history)\n",
    "history_emb_size_32 = pd.DataFrame(history_emb_size_32.history)\n",
    "history_emb_size_64 = pd.DataFrame(history_emb_size_64.history)\n",
    "\n",
    "plot_history(history_emb_size_2)\n",
    "plot_history(history_emb_size_4)\n",
    "plot_history(history_emb_size_8)\n",
    "plot_history(history_emb_size_16)\n",
    "plot_history(history_emb_size_32)\n",
    "plot_history(history_emb_size_64)"
   ]
  },
  {
   "cell_type": "code",
   "execution_count": 20,
   "metadata": {},
   "outputs": [
    {
     "name": "stdout",
     "output_type": "stream",
     "text": [
      "Model: \"sequential\"\n",
      "_________________________________________________________________\n",
      " Layer (type)                Output Shape              Param #   \n",
      "=================================================================\n",
      " embedding (Embedding)       (None, 20, 64)            64000     \n",
      "                                                                 \n",
      " global_average_pooling1d (G  (None, 64)               0         \n",
      " lobalAveragePooling1D)                                          \n",
      "                                                                 \n",
      " dense (Dense)               (None, 1)                 65        \n",
      "                                                                 \n",
      "=================================================================\n",
      "Total params: 64,065\n",
      "Trainable params: 64,065\n",
      "Non-trainable params: 0\n",
      "_________________________________________________________________\n"
     ]
    }
   ],
   "source": [
    "model_emb_size_64.summary()"
   ]
  },
  {
   "cell_type": "markdown",
   "metadata": {
    "id": "V3k__61hFnag"
   },
   "source": [
    "---\n",
    "### Exercise 3: Experiments with embeddings (8 points)\n",
    "Train 6 models with embedding sizes in [2,4,8,16,32,64], keeping other settings fixed. Use the averaging strategy rather than the concatenating strategy.\n",
    "\n",
    "1. Construct a table with the training and validation accuracies of each model (after 5 training epochs).\n",
    "2. Compute the number of parameters in each model.\n",
    "3. Do learned embeddings appear to provide improved performance over the one-hot encoding? Why?"
   ]
  },
  {
   "cell_type": "markdown",
   "metadata": {
    "id": "O7t46ZdX2ofd"
   },
   "source": [
    "*Written answers:*\n",
    "\n",
    "1. \n",
    "|Model|Embedding Size|Training Acc.|Validation Acc.|\n",
    "|-|-|-|-|\n",
    "|1|2|0.7190|0.7100|\n",
    "|2|4|0.7302|0.7164|\n",
    "|3|8|0.7413|0.7208|\n",
    "|4|16|0.7484|0.7268|\n",
    "|5|32|0.7520|0.7300|\n",
    "|6|64|0.7551|0.7284|\n",
    "2. \n",
    "|Model|Embedding Size|# of Parameters|\n",
    "|-|-|-|\n",
    "|1|2|2000|\n",
    "|2|4|4000|\n",
    "|3|8|8000|\n",
    "|4|16|16000|\n",
    "|5|32|32000|\n",
    "|6|64|64000|\n",
    "3. If performance is measured by accuracy, then learned embeddings with these models above have higher training and validation accuracies compared to those models that used one-hot encodings. This observation is true even for an embedding size of 2. The reason why learned embeddings have better performance than one-hot encodings is because one-hot encodings have a vector of 0s with only one 1 for the value of a given word. This data structure does not take into account context or words with similar meanings whereas learned embeddings do take into account words with similar meanings.\n"
   ]
  },
  {
   "cell_type": "markdown",
   "metadata": {},
   "source": [
    "---"
   ]
  },
  {
   "cell_type": "markdown",
   "metadata": {
    "id": "i2dWOuxqKHA6"
   },
   "source": [
    "## Inspecting Learned Embeddings\n",
    "Let's retrieve the learned embedding parameters from the trained model and plot the token embeddings.\n",
    "\n",
    "The model layers in a Keras Sequential model are stored as a list and the embeddings are the first layer. We can use the get_weights() function to get a numpy array with the parameters."
   ]
  },
  {
   "cell_type": "code",
   "execution_count": 22,
   "metadata": {
    "colab": {
     "base_uri": "https://localhost:8080/",
     "height": 86
    },
    "executionInfo": {
     "elapsed": 355,
     "status": "ok",
     "timestamp": 1646684774106,
     "user": {
      "displayName": "Daniel Gillick",
      "photoUrl": "https://lh3.googleusercontent.com/a-/AOh14Gg9DrSMlwYnG9EolecuJqe8n9m7fpcje4_UbYrhQ10=s64",
      "userId": "01872965353911650729"
     },
     "user_tz": 600
    },
    "id": "bfsbGSwkaFjo",
    "outputId": "d9d74723-012f-464f-a9f3-8a41d8178868"
   },
   "outputs": [
    {
     "data": {
      "text/plain": [
       "[<keras.layers.core.embedding.Embedding at 0x7f94cb29ae20>,\n",
       " <keras.layers.pooling.global_average_pooling1d.GlobalAveragePooling1D at 0x7f94bbb04700>,\n",
       " <keras.layers.core.dense.Dense at 0x7f94bc81b220>]"
      ]
     },
     "metadata": {},
     "output_type": "display_data"
    },
    {
     "data": {
      "text/plain": [
       "(1000, 2)"
      ]
     },
     "metadata": {},
     "output_type": "display_data"
    }
   ],
   "source": [
    "# Display the model layers.\n",
    "display(model.layers)\n",
    "\n",
    "# Retrieve the embeddings layer, which itself is wrapped in a list.\n",
    "embeddings = model.layers[0].get_weights()[0]\n",
    "display(embeddings.shape)"
   ]
  },
  {
   "cell_type": "markdown",
   "metadata": {
    "id": "apPWscNwcXTE"
   },
   "source": [
    "Now we'll use a fancy plotting tool called *plotly* to show the embeddings with hovertext so you can move your mouse over the points to see the corresponding tokens."
   ]
  },
  {
   "cell_type": "code",
   "execution_count": 25,
   "metadata": {
    "colab": {
     "base_uri": "https://localhost:8080/",
     "height": 542
    },
    "executionInfo": {
     "elapsed": 453,
     "status": "ok",
     "timestamp": 1646684778338,
     "user": {
      "displayName": "Daniel Gillick",
      "photoUrl": "https://lh3.googleusercontent.com/a-/AOh14Gg9DrSMlwYnG9EolecuJqe8n9m7fpcje4_UbYrhQ10=s64",
      "userId": "01872965353911650729"
     },
     "user_tz": 600
    },
    "id": "5RZMTrA0KttL",
    "outputId": "f5ec9b65-84bb-4c28-c673-cf86a87112df"
   },
   "outputs": [
    {
     "data": {
      "application/vnd.plotly.v1+json": {
       "config": {
        "plotlyServerURL": "https://plot.ly"
       },
       "data": [
        {
         "hoverinfo": "text",
         "mode": "markers",
         "text": [
          "game",
          "past",
          "able",
          "b",
          "days",
          "turns",
          "child",
          "they're",
          "hand",
          "flick",
          "enjoyed",
          "act",
          "genre",
          "town",
          "favorite",
          "soon",
          "kill",
          "starts",
          "sometimes",
          "car",
          "gave",
          "run",
          "late",
          "eyes",
          "actress",
          "etc",
          "directed",
          "horrible",
          "won't",
          "viewer",
          "brilliant",
          "parts",
          "self",
          "themselves",
          "hour",
          "expect",
          "thinking",
          "stories",
          "stuff",
          "girls",
          "obviously",
          "blood",
          "decent",
          "city",
          "voice",
          "highly",
          "myself",
          "feeling",
          "fight",
          "except",
          "slow",
          "matter",
          "type",
          "anyway",
          "kid",
          "roles",
          "killed",
          "heard",
          "god",
          "age",
          "says",
          "moment",
          "took",
          "leave",
          "writer",
          "strong",
          "cannot",
          "violence",
          "police",
          "hit",
          "stop",
          "happens",
          "particularly",
          "known",
          "involved",
          "happened",
          "extremely",
          "daughter",
          "obvious",
          "told",
          "chance",
          "living",
          "coming",
          "lack",
          "alone",
          "experience",
          "wouldn't",
          "including",
          "murder",
          "attempt",
          "s",
          "please",
          "james",
          "happen",
          "wonder",
          "crap",
          "ago",
          "brother",
          "film's",
          "gore",
          "none",
          "complete",
          "interest",
          "score",
          "group",
          "cut",
          "simple",
          "save",
          "ok",
          "hell",
          "looked",
          "career",
          "number",
          "song",
          "possible",
          "seriously",
          "annoying",
          "shown",
          "exactly",
          "sad",
          "running",
          "musical",
          "serious",
          "taken",
          "yourself",
          "whose",
          "released",
          "cinematography",
          "david",
          "scary",
          "ends",
          "english",
          "hero",
          "usually",
          "hours",
          "reality",
          "opening",
          "i'll",
          "across",
          "today",
          "jokes",
          "light",
          "hilarious",
          "somewhat",
          "usual",
          "started",
          "cool",
          "ridiculous",
          "body",
          "relationship",
          "view",
          "level",
          "opinion",
          "change",
          "happy",
          "middle",
          "taking",
          "wish",
          "husband",
          "finds",
          "saying",
          "order",
          "talking",
          "ones",
          "documentary",
          "shots",
          "huge",
          "novel",
          "female",
          "mostly",
          "robert",
          "power",
          "episodes",
          "room",
          "important",
          "rating",
          "talent",
          "five",
          "major",
          "turned",
          "strange",
          "word",
          "modern",
          "call",
          "apparently",
          "disappointed",
          "single",
          "events",
          "due",
          "four",
          "songs",
          "basically",
          "attention",
          "7",
          "knows",
          "clearly",
          "supporting",
          "knew",
          "british",
          "television",
          "comic",
          "non",
          "fast",
          "earth",
          "country",
          "future",
          "cheap",
          "class",
          "thriller",
          "8",
          "silly",
          "king",
          "problems",
          "aren't",
          "easily",
          "words",
          "tells",
          "miss",
          "jack",
          "local",
          "sequence",
          "bring",
          "entertainment",
          "paul",
          "beyond",
          "upon",
          "whether",
          "predictable",
          "moving",
          "similar",
          "straight",
          "romantic",
          "sets",
          "review",
          "falls",
          "oscar",
          "mystery",
          "enjoyable",
          "needs",
          "appears",
          "talk",
          "rock",
          "george",
          "giving",
          "eye",
          "richard",
          "within",
          "ten",
          "animation",
          "message",
          "theater",
          "near",
          "above",
          "dull",
          "nearly",
          "sequel",
          "theme",
          "points",
          "'",
          "stand",
          "mention",
          "lady",
          "bunch",
          "add",
          "feels",
          "herself",
          "release",
          "red",
          "team",
          "storyline",
          "surprised",
          "ways",
          "using",
          "named",
          "haven't",
          "lots",
          "easy",
          "fantastic",
          "begins",
          "actual",
          "working",
          "effort",
          "york",
          "die",
          "hate",
          "french",
          "minute",
          "tale",
          "clear",
          "stay",
          "9",
          "elements",
          "feature",
          "among",
          "follow",
          "comments",
          "re",
          "viewers",
          "avoid",
          "sister",
          "showing",
          "typical",
          "editing",
          "what's",
          "famous",
          "tried",
          "sorry",
          "dialog",
          "check",
          "fall",
          "period",
          "season",
          "form",
          "certain",
          "filmed",
          "weak",
          "soundtrack",
          "means",
          "buy",
          "material",
          "somehow",
          "realistic",
          "figure",
          "crime",
          "doubt",
          "gone",
          "peter",
          "tom",
          "kept",
          "viewing",
          "t",
          "general",
          "leads",
          "greatest",
          "space",
          "lame",
          "suspense",
          "dance",
          "imagine",
          "brought",
          "third",
          "atmosphere",
          "hear",
          "particular",
          "sequences",
          "whatever",
          "parents",
          "move",
          "lee",
          "indeed",
          "learn",
          "rent",
          "de",
          "eventually",
          "note",
          "deal",
          "average",
          "reviews",
          "wait",
          "forget",
          "japanese",
          "sexual",
          "poorly",
          "premise",
          "okay",
          "zombie",
          "surprise",
          "believable",
          "stage",
          "possibly",
          "sit",
          "who's",
          "decided",
          "expected",
          "you've",
          "subject",
          "nature",
          "became",
          "difficult",
          "free",
          "killing",
          "screenplay",
          "truth",
          "romance",
          "dr",
          "nor",
          "reading",
          "needed",
          "question",
          "leaves",
          "street",
          "20",
          "meets",
          "hot",
          "unless",
          "begin",
          "baby",
          "superb",
          "credits",
          "imdb",
          "otherwise",
          "write",
          "shame",
          "let's",
          "situation",
          "dramatic",
          "memorable",
          "directors",
          "earlier",
          "meet",
          "disney",
          "open",
          "dog",
          "badly",
          "joe",
          "male",
          "weird",
          "acted",
          "forced",
          "laughs",
          "sci",
          "emotional",
          "older",
          "realize",
          "fi",
          "dream",
          "society",
          "writers",
          "interested",
          "footage",
          "forward",
          "comment",
          "crazy",
          "deep",
          "sounds",
          "plus",
          "beauty",
          "whom",
          "america",
          "fantasy",
          "directing",
          "keeps",
          "ask",
          "development",
          "features",
          "air",
          "quickly",
          "mess",
          "creepy",
          "towards",
          "perfectly",
          "mark",
          "worked",
          "box",
          "cheesy",
          "unique",
          "setting",
          "hands",
          "plenty",
          "result",
          "previous",
          "brings",
          "effect",
          "e",
          "total",
          "personal",
          "incredibly",
          "rate",
          "fire",
          "monster",
          "business",
          "leading",
          "apart",
          "casting",
          "admit",
          "joke",
          "powerful",
          "appear",
          "background",
          "telling",
          "girlfriend",
          "meant",
          "christmas",
          "hardly",
          "present",
          "battle",
          "potential",
          "create",
          "bill",
          "break",
          "pay",
          "masterpiece",
          "gay",
          "political",
          "return",
          "dumb",
          "fails",
          "fighting",
          "various",
          "era"
         ],
         "textposition": "bottom left",
         "type": "scatter",
         "x": [
          0.28212419152259827,
          0.14851345121860504,
          0.010925485752522945,
          -0.016490308567881584,
          0.26912814378738403,
          -0.06752043962478638,
          0.17038187384605408,
          -0.13651043176651,
          -0.3538544476032257,
          -0.19186656177043915,
          0.6333377361297607,
          -0.19411425292491913,
          0.4246245324611664,
          0.039786286652088165,
          0.82335364818573,
          0.29972150921821594,
          -0.3382546007633209,
          -0.09761809557676315,
          0.3218116760253906,
          -0.3047347664833069,
          0.014277473092079163,
          -0.28456971049308777,
          0.10766773670911789,
          0.13419316709041595,
          0.04750373587012291,
          -0.24298644065856934,
          -0.13081391155719757,
          -0.9618691205978394,
          0.15927208960056305,
          0.0420391671359539,
          0.8008346557617188,
          0.2197817713022232,
          -0.3272162973880768,
          0.009630602784454823,
          -0.19770877063274384,
          -0.17091242969036102,
          -0.1682829111814499,
          0.43289148807525635,
          0.11555688828229904,
          -0.02013426274061203,
          -0.22952747344970703,
          0.0806044340133667,
          -0.5180053114891052,
          0.08842089027166367,
          0.1508314609527588,
          1.4866528511047363,
          0.0673985481262207,
          0.16280433535575867,
          -0.06695470958948135,
          -0.43939411640167236,
          -0.055493660271167755,
          0.14089716970920563,
          0.025505797937512398,
          -0.07617401331663132,
          -0.2942233979701996,
          0.15232664346694946,
          -0.3082805275917053,
          0.10782377421855927,
          -0.3388819694519043,
          0.2929408848285675,
          -0.06991153955459595,
          -0.016072461381554604,
          -0.0871790200471878,
          -0.16581232845783234,
          -0.24379602074623108,
          0.32322993874549866,
          0.052433211356401443,
          -0.06556519865989685,
          0.10300812125205994,
          0.5177556276321411,
          -0.26720666885375977,
          -0.398080974817276,
          -0.1312488615512848,
          0.17377589643001556,
          -0.2792589068412781,
          -0.08678025752305984,
          -0.03162277117371559,
          0.04941742122173309,
          -0.40344247221946716,
          0.030358711257576942,
          0.7648146748542786,
          -0.012879662215709686,
          0.15375301241874695,
          -0.6388295292854309,
          -0.027004076167941093,
          0.42538636922836304,
          -0.840773344039917,
          0.36801913380622864,
          -0.0019001018954440951,
          -0.6671854853630066,
          -0.12676183879375458,
          -0.2687914967536926,
          0.3079105317592621,
          0.07031548023223877,
          -0.21671216189861298,
          -1.070525884628296,
          0.2064644694328308,
          0.008295168168842793,
          -0.139779195189476,
          -0.6441811919212341,
          -0.3803195655345917,
          -0.41040167212486267,
          -0.14259733259677887,
          0.27306702733039856,
          0.05253301560878754,
          0.027265021577477455,
          0.2088339924812317,
          -1.1040600538253784,
          -0.2887594401836395,
          -0.2408294528722763,
          -0.4066160023212433,
          -0.22599612176418304,
          0.17314542829990387,
          -0.06660392135381699,
          -0.0224092248827219,
          -0.29655921459198,
          -0.469283789396286,
          0.0777938961982727,
          0.10633278638124466,
          -0.3230540454387665,
          -0.17025956511497498,
          0.18645340204238892,
          -0.027282634750008583,
          -0.07354208081960678,
          -0.5764196515083313,
          0.012299691326916218,
          0.24319422245025635,
          0.1188715398311615,
          -0.016582921147346497,
          -0.29005590081214905,
          0.1312619000673294,
          0.4022390842437744,
          0.20015040040016174,
          -0.022200752049684525,
          -0.39269328117370605,
          0.3037981688976288,
          0.05693203955888748,
          -0.1354077309370041,
          0.06512007862329483,
          0.9496335387229919,
          -0.2228897511959076,
          0.363203763961792,
          0.2589896321296692,
          0.06496070325374603,
          0.11444966495037079,
          -0.26404228806495667,
          0.29291775822639465,
          -0.5974957942962646,
          -0.12332034111022949,
          0.2790353298187256,
          0.13250404596328735,
          -0.16701050102710724,
          -0.208941251039505,
          0.2835220694541931,
          0.39839813113212585,
          -0.08877132087945938,
          -0.05071111395955086,
          0.1987004578113556,
          -0.09247932583093643,
          0.1652097851037979,
          -0.33915770053863525,
          0.0352947935461998,
          0.17012038826942444,
          0.09651800245046616,
          0.21980705857276917,
          -0.1949957013130188,
          -0.33147263526916504,
          0.03966258838772774,
          -0.14226871728897095,
          -0.1816360205411911,
          0.12622526288032532,
          -0.08197896927595139,
          0.33828994631767273,
          -0.07886684685945511,
          0.22063225507736206,
          -0.31464773416519165,
          -0.3259279727935791,
          -0.172859787940979,
          -0.23997408151626587,
          -0.3708752989768982,
          0.002632533898577094,
          -0.23223455250263214,
          0.26474693417549133,
          -0.20590387284755707,
          -0.14865675568580627,
          -0.07289612293243408,
          -0.15009628236293793,
          0.011133191175758839,
          -0.13087286055088043,
          -0.04466870427131653,
          -0.05705137550830841,
          -0.12621046602725983,
          0.25731438398361206,
          1.3818978071212769,
          0.16136042773723602,
          -0.2609446346759796,
          0.19007040560245514,
          -0.24361570179462433,
          -0.09898726642131805,
          0.3060802221298218,
          0.20140837132930756,
          -0.14029879868030548,
          -0.24913018941879272,
          -0.08561106026172638,
          0.17944228649139404,
          0.41333746910095215,
          -0.6686104536056519,
          0.004440292716026306,
          0.35035115480422974,
          1.4234442710876465,
          -0.21336016058921814,
          -0.0024538571015000343,
          -0.0966850072145462,
          -0.21470798552036285,
          0.29932400584220886,
          0.10634663701057434,
          0.29371094703674316,
          0.4845041334629059,
          0.12656238675117493,
          -0.21326975524425507,
          0.22548139095306396,
          0.3712250590324402,
          0.22935353219509125,
          0.19947531819343567,
          -0.0005735980812460184,
          -0.021351052448153496,
          0.22819218039512634,
          -0.4870741367340088,
          0.5339218974113464,
          0.10367745161056519,
          -0.07449401915073395,
          0.45998793840408325,
          0.01775628700852394,
          -0.2230278104543686,
          -0.25128084421157837,
          0.5205882787704468,
          0.13848847150802612,
          0.7313938736915588,
          -0.18120945990085602,
          -0.2192850261926651,
          -0.0093767661601305,
          0.26201143860816956,
          -0.06563901156187057,
          0.09618131816387177,
          -0.03945611044764519,
          0.1266319304704666,
          0.20133043825626373,
          0.08911804854869843,
          0.09894201159477234,
          0.43549251556396484,
          -0.25984516739845276,
          -0.027125991880893707,
          0.06581514328718185,
          -0.8010367155075073,
          0.2079535275697708,
          -0.1455496996641159,
          -0.06612151116132736,
          -0.13293221592903137,
          -0.13177134096622467,
          0.08687761425971985,
          0.054138343781232834,
          0.28285738825798035,
          0.052320271730422974,
          0.06495725363492966,
          -0.060569651424884796,
          0.28759732842445374,
          0.3970962166786194,
          -0.16958586871623993,
          0.06707696616649628,
          -0.028129855170845985,
          0.03990047052502632,
          0.15674403309822083,
          -0.24097608029842377,
          -0.3046717345714569,
          0.414090633392334,
          0.09622419625520706,
          0.17500588297843933,
          0.6046352386474609,
          0.09428788721561432,
          -0.2924513816833496,
          0.08563365042209625,
          -0.5368263125419617,
          0.0416158102452755,
          -0.2488078474998474,
          -0.21138319373130798,
          -0.00934214610606432,
          -0.29443228244781494,
          0.4541623294353485,
          -0.30059677362442017,
          -0.6693667769432068,
          1.1696299314498901,
          0.22982951998710632,
          -0.1090259999036789,
          0.16015392541885376,
          0.06028417870402336,
          0.029115816578269005,
          -0.004756041802465916,
          0.021957319229841232,
          -1.5130418539047241,
          -0.13936427235603333,
          0.09488619863986969,
          0.13827906548976898,
          -0.07873308658599854,
          -0.06061003357172012,
          0.2313774675130844,
          -0.044492095708847046,
          -0.8402933478355408,
          -0.1527705192565918,
          0.41603711247444153,
          0.08963102102279663,
          0.18113838136196136,
          0.3400816321372986,
          -0.00015020291903056204,
          0.22661423683166504,
          -0.05687110498547554,
          -0.5210937261581421,
          0.3512347936630249,
          0.06798089295625687,
          0.2932341992855072,
          -0.27294808626174927,
          0.09361158311367035,
          0.3908528983592987,
          -0.09870699048042297,
          0.13912314176559448,
          0.06947974860668182,
          0.059764184057712555,
          0.06212112680077553,
          0.23162704706192017,
          0.004571562632918358,
          0.6079193949699402,
          -0.4920305609703064,
          -0.09540174901485443,
          0.07545264065265656,
          0.6543722748756409,
          -0.19469238817691803,
          -0.7730737924575806,
          0.13639074563980103,
          0.2947249412536621,
          0.017016582190990448,
          0.2524154782295227,
          0.06748096644878387,
          0.42498740553855896,
          0.1454198658466339,
          0.16021940112113953,
          0.22977301478385925,
          -0.1897096484899521,
          -0.007122843526303768,
          -0.15833920240402222,
          -0.4532617926597595,
          0.006409041583538055,
          0.039794739335775375,
          -0.3821970224380493,
          0.13073664903640747,
          0.1316361427307129,
          -0.0354875847697258,
          0.10671915113925934,
          -0.06394274532794952,
          -0.20021869242191315,
          0.07993572950363159,
          0.09345824271440506,
          0.20318040251731873,
          -0.12384002655744553,
          -0.678611159324646,
          -0.271197646856308,
          -0.42471325397491455,
          -0.16148963570594788,
          0.08199051767587662,
          0.2944144308567047,
          -0.007852047681808472,
          -0.07031314820051193,
          -0.25236624479293823,
          0.12537558376789093,
          -0.15062104165554047,
          -0.1443234086036682,
          0.033575717359781265,
          -0.1596802920103073,
          0.4589608907699585,
          0.09168576449155807,
          0.41453948616981506,
          -0.46513989567756653,
          -0.2668553292751312,
          0.13175103068351746,
          0.05825858563184738,
          0.3363681435585022,
          -0.13292443752288818,
          -0.15885263681411743,
          0.18598778545856476,
          0.20187021791934967,
          0.0605354867875576,
          0.039127279072999954,
          0.007280107121914625,
          -0.11811884492635727,
          0.040590208023786545,
          -0.2857649028301239,
          -1.0852566957473755,
          -0.12896455824375153,
          -0.10176614671945572,
          0.6380792856216431,
          -0.25551313161849976,
          -0.14915823936462402,
          -0.4366496205329895,
          -0.5555795431137085,
          -0.4457295536994934,
          0.0006678615463897586,
          0.3537346422672272,
          0.19626246392726898,
          0.20407457649707794,
          -0.24570304155349731,
          0.22922974824905396,
          -0.17637504637241364,
          0.12103243917226791,
          0.3973664939403534,
          -0.11688510328531265,
          -0.4727601408958435,
          -0.2794604003429413,
          -0.25145435333251953,
          0.21805769205093384,
          0.06535995751619339,
          -0.1894339770078659,
          -0.052512917667627335,
          0.19087140262126923,
          0.19792336225509644,
          0.06405095756053925,
          -0.28238674998283386,
          0.11138909310102463,
          0.19048862159252167,
          0.22521306574344635,
          -0.1878075748682022,
          0.41653379797935486,
          0.0019093573791906238,
          0.27917593717575073,
          -0.1996065080165863,
          0.0002590921358205378,
          0.20717743039131165,
          -0.10770445317029953,
          0.051582422107458115,
          0.3833795487880707,
          0.09806264936923981,
          0.24802131950855255,
          0.2766244113445282,
          0.020685194060206413,
          0.22615425288677216,
          0.03673553094267845,
          -0.057227108627557755,
          0.10026878118515015,
          0.30015668272972107,
          -0.1635826826095581,
          -0.8967145681381226,
          0.19475995004177094,
          -0.04535842686891556,
          0.47845059633255005,
          -0.23704665899276733,
          -0.16852527856826782,
          -0.033329397439956665,
          -0.3175848126411438,
          0.4002982974052429,
          0.0029266634956002235,
          -0.12035766243934631,
          0.06458023935556412,
          -0.4928534924983978,
          -0.1260242462158203,
          0.31588229537010193,
          -0.027162674814462662,
          -0.30192461609840393,
          -0.5635944604873657,
          0.24687312543392181,
          -0.010875715874135494,
          0.19477474689483643,
          0.13983187079429626,
          -0.17209942638874054,
          -0.1214660108089447,
          0.25336870551109314,
          -0.1926274597644806,
          -0.16304773092269897,
          0.04327145218849182,
          -0.5314741134643555,
          0.6700968742370605,
          -0.12317342311143875,
          0.034996356815099716,
          0.04061520844697952,
          0.09078726172447205,
          -0.17338266968727112,
          -0.0794021487236023,
          -0.1959587186574936,
          0.14662578701972961,
          0.009914190508425236,
          -0.3532886803150177,
          -0.04049750789999962,
          0.12743012607097626,
          -0.3129061460494995,
          -0.46124520897865295,
          0.47789931297302246,
          -0.3587599992752075,
          0.11360125243663788,
          -0.12332315742969513,
          -0.39383816719055176,
          -0.5883076786994934,
          0.16035376489162445,
          0.17005085945129395,
          0.43410763144493103
         ],
         "y": [
          -0.2200762778520584,
          -0.10429925471544266,
          0.04280219227075577,
          0.010815665125846863,
          -0.279442697763443,
          0.07008527219295502,
          -0.179966002702713,
          0.16261586546897888,
          0.30231767892837524,
          0.20031607151031494,
          -0.5783466100692749,
          0.18865464627742767,
          -0.37395456433296204,
          0.004060794599354267,
          -0.7798060178756714,
          -0.2625216245651245,
          0.35967400670051575,
          0.06160246208310127,
          -0.283720999956131,
          0.2085835337638855,
          0.006218147464096546,
          0.2824110984802246,
          -0.0782010406255722,
          -0.06402219086885452,
          -0.07588818669319153,
          0.215445414185524,
          0.039880529046058655,
          0.8024348020553589,
          -0.1354457587003708,
          -0.04795688018202782,
          -0.7489917874336243,
          -0.10456012189388275,
          0.25402897596359253,
          0.006919999606907368,
          0.24466827511787415,
          0.1300465613603592,
          0.1177896037697792,
          -0.3724534809589386,
          -0.15482646226882935,
          0.016105376183986664,
          0.2755771279335022,
          -0.08834241330623627,
          0.46297377347946167,
          -0.06242027506232262,
          -0.15385550260543823,
          -1.2558929920196533,
          -0.0683111771941185,
          -0.10849739611148834,
          0.03904404491186142,
          0.41036173701286316,
          0.0703270360827446,
          -0.14040981233119965,
          -0.07182908058166504,
          0.043933264911174774,
          0.27331820130348206,
          -0.07161436975002289,
          0.23354558646678925,
          -0.17687012255191803,
          0.3803749084472656,
          -0.22885625064373016,
          0.036157768219709396,
          -0.010191620327532291,
          0.09295498579740524,
          0.1980011910200119,
          0.24825415015220642,
          -0.36102333664894104,
          0.019818641245365143,
          0.03732774034142494,
          -0.10777939856052399,
          -0.5002856254577637,
          0.23767369985580444,
          0.41517552733421326,
          0.03317277505993843,
          -0.11954378336668015,
          0.16315780580043793,
          0.06821055710315704,
          0.03424619883298874,
          -0.08339549601078033,
          0.38798967003822327,
          0.0190002229064703,
          -0.6762778759002686,
          0.09052951633930206,
          -0.10992369800806046,
          0.5815003514289856,
          -0.035050395876169205,
          -0.3439025580883026,
          0.730376124382019,
          -0.4103020131587982,
          -0.04692131653428078,
          0.5672776103019714,
          0.12434039264917374,
          0.23274736106395721,
          -0.29467540979385376,
          -0.11935554444789886,
          0.18454203009605408,
          0.8966715931892395,
          -0.12023405730724335,
          -0.015552718192338943,
          0.13703389465808868,
          0.5732797980308533,
          0.41508248448371887,
          0.28797268867492676,
          0.17556603252887726,
          -0.2219308465719223,
          -0.02230532094836235,
          -0.10643550008535385,
          -0.18844133615493774,
          1.0146046876907349,
          0.25254982709884644,
          0.23552493751049042,
          0.38595592975616455,
          0.19450587034225464,
          -0.22044268250465393,
          0.01511093694716692,
          0.0068961018696427345,
          0.29520368576049805,
          0.40897735953330994,
          -0.09267262369394302,
          -0.10262994468212128,
          0.2516089975833893,
          0.10141198337078094,
          -0.19994835555553436,
          0.015415307134389877,
          0.044588085263967514,
          0.5039251446723938,
          -0.03157958760857582,
          -0.24739031493663788,
          -0.1266135424375534,
          0.005573219619691372,
          0.2936379611492157,
          -0.09176298975944519,
          -0.4267112612724304,
          -0.1858784407377243,
          0.02434476464986801,
          0.31181010603904724,
          -0.22834593057632446,
          -0.10604085773229599,
          0.12624770402908325,
          -0.06569314748048782,
          -0.7776216268539429,
          0.16785766184329987,
          -0.34651052951812744,
          -0.20396478474140167,
          -0.06615819036960602,
          -0.06266120076179504,
          0.20289281010627747,
          -0.2243635058403015,
          0.506047248840332,
          0.10173997282981873,
          -0.24059075117111206,
          -0.14253681898117065,
          0.1480555236339569,
          0.13244934380054474,
          -0.2580367922782898,
          -0.40162745118141174,
          0.033099450170993805,
          0.0753476470708847,
          -0.12962529063224792,
          0.06807662546634674,
          -0.1360599845647812,
          0.2516534924507141,
          -0.08517546951770782,
          -0.10253579914569855,
          -0.026186425238847733,
          -0.1424977034330368,
          0.16489598155021667,
          0.3046208620071411,
          -0.019564758986234665,
          0.16769403219223022,
          0.09739786386489868,
          -0.09752959758043289,
          0.10807633399963379,
          -0.29398977756500244,
          0.09131613373756409,
          -0.2528162896633148,
          0.25031280517578125,
          0.2590399980545044,
          0.1583368331193924,
          0.19404779374599457,
          0.28067734837532043,
          0.02185586653649807,
          0.25915098190307617,
          -0.2746387720108032,
          0.25386902689933777,
          0.09161540120840073,
          0.05082790181040764,
          0.14638949930667877,
          0.017772192135453224,
          0.05159313976764679,
          -0.003431096440181136,
          -0.001674518221989274,
          0.17657078802585602,
          -0.26274919509887695,
          -1.247546911239624,
          -0.18896494805812836,
          0.17614227533340454,
          -0.14290127158164978,
          0.25762730836868286,
          0.032035451382398605,
          -0.3200555443763733,
          -0.17348699271678925,
          0.10048606991767883,
          0.19732068479061127,
          0.029758445918560028,
          -0.1369076818227768,
          -0.375295490026474,
          0.5985249280929565,
          0.016300423070788383,
          -0.29769569635391235,
          -1.219045877456665,
          0.2149646282196045,
          0.01798672415316105,
          0.08656451851129532,
          0.14974084496498108,
          -0.27109333872795105,
          -0.059508081525564194,
          -0.2919480502605438,
          -0.39371901750564575,
          -0.11900674551725388,
          0.17220863699913025,
          -0.1613883227109909,
          -0.37171775102615356,
          -0.16940385103225708,
          -0.12078966945409775,
          0.04835783690214157,
          0.028585335239768028,
          -0.216247096657753,
          0.43617451190948486,
          -0.5351126194000244,
          -0.03273046389222145,
          0.05877434462308884,
          -0.3587327301502228,
          -0.01682126149535179,
          0.22990348935127258,
          0.23661527037620544,
          -0.4213187098503113,
          -0.12787486612796783,
          -0.709636390209198,
          0.16653870046138763,
          0.14562970399856567,
          0.00487603759393096,
          -0.22641536593437195,
          0.053536880761384964,
          -0.06878309696912766,
          -0.0318867564201355,
          -0.10062357038259506,
          -0.16878333687782288,
          -0.06559767574071884,
          -0.05138719826936722,
          -0.3497484028339386,
          0.25704681873321533,
          0.05467044189572334,
          0.00023472093744203448,
          0.7251635193824768,
          -0.19239065051078796,
          0.10850216448307037,
          0.05872314050793648,
          0.1519974023103714,
          0.18587394058704376,
          -0.10378701984882355,
          -0.10615506023168564,
          -0.22946466505527496,
          0.006140593905001879,
          -0.021153397858142853,
          0.0337764210999012,
          -0.20015688240528107,
          -0.3123694360256195,
          0.12787006795406342,
          -0.12264804542064667,
          0.09253007173538208,
          0.029018156230449677,
          -0.08186809718608856,
          0.1360301673412323,
          0.27157676219940186,
          -0.3326132297515869,
          -0.06638563424348831,
          -0.10838823765516281,
          -0.5624990463256836,
          -0.011622675694525242,
          0.23426972329616547,
          -0.054457467049360275,
          0.4519423246383667,
          -0.027534468099474907,
          0.22617676854133606,
          0.26735377311706543,
          0.006073337513953447,
          0.283906489610672,
          -0.4315759241580963,
          0.21461641788482666,
          0.5578440427780151,
          -1.054669737815857,
          -0.16943679749965668,
          0.04907107353210449,
          -0.17024710774421692,
          -0.06762827187776566,
          -0.08456557244062424,
          0.05019648000597954,
          -0.05378177762031555,
          1.2953739166259766,
          0.061558473855257034,
          -0.1060803085565567,
          -0.1333126276731491,
          0.042758211493492126,
          0.019779548048973083,
          -0.2664819359779358,
          0.029729541391134262,
          0.6638487577438354,
          0.19880978763103485,
          -0.33006349205970764,
          -0.02696000225841999,
          -0.2075423151254654,
          -0.2797890305519104,
          -0.052165620028972626,
          -0.18021591007709503,
          0.08879276365041733,
          0.4377508759498596,
          -0.3046324849128723,
          -0.0383041612803936,
          -0.20943212509155273,
          0.203204944729805,
          -0.05523066222667694,
          -0.3859441578388214,
          0.1159200444817543,
          -0.16137933731079102,
          -0.10561244189739227,
          -0.059600893408060074,
          -0.009359311312437057,
          -0.25092756748199463,
          0.06074931472539902,
          -0.4936588704586029,
          0.4401633143424988,
          0.07952321320772171,
          -0.04991332069039345,
          -0.5602442026138306,
          0.08200323581695557,
          0.7136425971984863,
          -0.10384085029363632,
          -0.2708980143070221,
          -0.07913236320018768,
          -0.2263738065958023,
          -0.0730782225728035,
          -0.39982709288597107,
          -0.09206078201532364,
          -0.12313136458396912,
          -0.24970997869968414,
          0.19582653045654297,
          -0.07516459375619888,
          0.1676088273525238,
          0.44586485624313354,
          0.01192791759967804,
          -0.10526810586452484,
          0.3434131443500519,
          -0.09392483532428741,
          -0.09065034985542297,
          0.004228468053042889,
          -0.12123832106590271,
          0.10189420729875565,
          0.141975536942482,
          -0.013797498308122158,
          -0.04018506407737732,
          -0.2373540699481964,
          0.11459838598966599,
          0.6252569556236267,
          0.2351071536540985,
          0.4024071991443634,
          0.1433349996805191,
          -0.1407199651002884,
          -0.27449244260787964,
          0.013997145928442478,
          0.01990811713039875,
          0.2704475522041321,
          -0.09451895952224731,
          0.16638176143169403,
          0.11886747926473618,
          -0.037205327302217484,
          0.09629712253808975,
          -0.418405145406723,
          -0.09964258223772049,
          -0.4063034951686859,
          0.3729109764099121,
          0.26298001408576965,
          -0.030058667063713074,
          -0.015290522016584873,
          -0.3766130805015564,
          0.18390105664730072,
          0.11587086319923401,
          -0.0922929123044014,
          -0.11724332720041275,
          -0.07802504301071167,
          -0.02863161824643612,
          -0.005558652803301811,
          0.14854773879051208,
          -0.06828740984201431,
          0.2932417094707489,
          0.9794006943702698,
          0.12598341703414917,
          0.09216251224279404,
          -0.5339877605438232,
          0.2560572922229767,
          0.19547739624977112,
          0.3878542482852936,
          0.5202366709709167,
          0.3861553370952606,
          -0.04225707799196243,
          -0.3282952606678009,
          -0.25135672092437744,
          -0.12986962497234344,
          0.16589078307151794,
          -0.14698906242847443,
          0.2066759467124939,
          -0.08727807551622391,
          -0.37781456112861633,
          0.08935846388339996,
          0.48026806116104126,
          0.2681633532047272,
          0.14918603003025055,
          -0.13505929708480835,
          -0.06117963790893555,
          0.1532910019159317,
          0.08652647584676743,
          -0.17248934507369995,
          -0.17980651557445526,
          -0.010777031071484089,
          0.1750420182943344,
          -0.07417736947536469,
          -0.12705516815185547,
          -0.23370473086833954,
          0.2262447625398636,
          -0.3822283446788788,
          0.003910839557647705,
          -0.24994724988937378,
          0.1454097032546997,
          0.018857108429074287,
          -0.2026624083518982,
          0.0983109176158905,
          -0.04174346476793289,
          -0.362654447555542,
          -0.11881189793348312,
          -0.29046139121055603,
          -0.2858216166496277,
          -0.028765130788087845,
          -0.2217104136943817,
          -0.023972053080797195,
          0.10688447207212448,
          -0.14072778820991516,
          -0.3050057590007782,
          0.1325216144323349,
          0.7863748669624329,
          -0.1175934225320816,
          0.03106137551367283,
          -0.4817069172859192,
          0.19157540798187256,
          0.148585245013237,
          0.02210858464241028,
          0.2588452398777008,
          -0.27952340245246887,
          -0.009867306798696518,
          0.06115086004137993,
          0.006980410311371088,
          0.47070446610450745,
          0.09579268097877502,
          -0.315031498670578,
          0.04692563787102699,
          0.2168881595134735,
          0.45658591389656067,
          -0.21043816208839417,
          -0.0004605574067682028,
          -0.23377861082553864,
          -0.12535712122917175,
          0.19895388185977936,
          0.130205437541008,
          -0.20018638670444489,
          0.1545509397983551,
          0.1283169537782669,
          -0.037376731634140015,
          0.49281302094459534,
          -0.5499162077903748,
          0.07601470500230789,
          -0.0229357797652483,
          -0.03916344419121742,
          -0.09500702470541,
          0.20014409720897675,
          0.10240978747606277,
          0.24986231327056885,
          -0.1266264021396637,
          0.006574105005711317,
          0.29347115755081177,
          0.025855060666799545,
          -0.10786016285419464,
          0.355993390083313,
          0.4053046703338623,
          -0.4094204604625702,
          0.3150717318058014,
          -0.06176436319947243,
          0.04266771674156189,
          0.3553529679775238,
          0.48533740639686584,
          -0.18529032170772552,
          -0.13401861488819122,
          -0.3610355854034424
         ]
        }
       ],
       "layout": {
        "autosize": true,
        "hovermode": "closest",
        "template": {
         "data": {
          "bar": [
           {
            "error_x": {
             "color": "#2a3f5f"
            },
            "error_y": {
             "color": "#2a3f5f"
            },
            "marker": {
             "line": {
              "color": "#E5ECF6",
              "width": 0.5
             },
             "pattern": {
              "fillmode": "overlay",
              "size": 10,
              "solidity": 0.2
             }
            },
            "type": "bar"
           }
          ],
          "barpolar": [
           {
            "marker": {
             "line": {
              "color": "#E5ECF6",
              "width": 0.5
             },
             "pattern": {
              "fillmode": "overlay",
              "size": 10,
              "solidity": 0.2
             }
            },
            "type": "barpolar"
           }
          ],
          "carpet": [
           {
            "aaxis": {
             "endlinecolor": "#2a3f5f",
             "gridcolor": "white",
             "linecolor": "white",
             "minorgridcolor": "white",
             "startlinecolor": "#2a3f5f"
            },
            "baxis": {
             "endlinecolor": "#2a3f5f",
             "gridcolor": "white",
             "linecolor": "white",
             "minorgridcolor": "white",
             "startlinecolor": "#2a3f5f"
            },
            "type": "carpet"
           }
          ],
          "choropleth": [
           {
            "colorbar": {
             "outlinewidth": 0,
             "ticks": ""
            },
            "type": "choropleth"
           }
          ],
          "contour": [
           {
            "colorbar": {
             "outlinewidth": 0,
             "ticks": ""
            },
            "colorscale": [
             [
              0,
              "#0d0887"
             ],
             [
              0.1111111111111111,
              "#46039f"
             ],
             [
              0.2222222222222222,
              "#7201a8"
             ],
             [
              0.3333333333333333,
              "#9c179e"
             ],
             [
              0.4444444444444444,
              "#bd3786"
             ],
             [
              0.5555555555555556,
              "#d8576b"
             ],
             [
              0.6666666666666666,
              "#ed7953"
             ],
             [
              0.7777777777777778,
              "#fb9f3a"
             ],
             [
              0.8888888888888888,
              "#fdca26"
             ],
             [
              1,
              "#f0f921"
             ]
            ],
            "type": "contour"
           }
          ],
          "contourcarpet": [
           {
            "colorbar": {
             "outlinewidth": 0,
             "ticks": ""
            },
            "type": "contourcarpet"
           }
          ],
          "heatmap": [
           {
            "colorbar": {
             "outlinewidth": 0,
             "ticks": ""
            },
            "colorscale": [
             [
              0,
              "#0d0887"
             ],
             [
              0.1111111111111111,
              "#46039f"
             ],
             [
              0.2222222222222222,
              "#7201a8"
             ],
             [
              0.3333333333333333,
              "#9c179e"
             ],
             [
              0.4444444444444444,
              "#bd3786"
             ],
             [
              0.5555555555555556,
              "#d8576b"
             ],
             [
              0.6666666666666666,
              "#ed7953"
             ],
             [
              0.7777777777777778,
              "#fb9f3a"
             ],
             [
              0.8888888888888888,
              "#fdca26"
             ],
             [
              1,
              "#f0f921"
             ]
            ],
            "type": "heatmap"
           }
          ],
          "heatmapgl": [
           {
            "colorbar": {
             "outlinewidth": 0,
             "ticks": ""
            },
            "colorscale": [
             [
              0,
              "#0d0887"
             ],
             [
              0.1111111111111111,
              "#46039f"
             ],
             [
              0.2222222222222222,
              "#7201a8"
             ],
             [
              0.3333333333333333,
              "#9c179e"
             ],
             [
              0.4444444444444444,
              "#bd3786"
             ],
             [
              0.5555555555555556,
              "#d8576b"
             ],
             [
              0.6666666666666666,
              "#ed7953"
             ],
             [
              0.7777777777777778,
              "#fb9f3a"
             ],
             [
              0.8888888888888888,
              "#fdca26"
             ],
             [
              1,
              "#f0f921"
             ]
            ],
            "type": "heatmapgl"
           }
          ],
          "histogram": [
           {
            "marker": {
             "pattern": {
              "fillmode": "overlay",
              "size": 10,
              "solidity": 0.2
             }
            },
            "type": "histogram"
           }
          ],
          "histogram2d": [
           {
            "colorbar": {
             "outlinewidth": 0,
             "ticks": ""
            },
            "colorscale": [
             [
              0,
              "#0d0887"
             ],
             [
              0.1111111111111111,
              "#46039f"
             ],
             [
              0.2222222222222222,
              "#7201a8"
             ],
             [
              0.3333333333333333,
              "#9c179e"
             ],
             [
              0.4444444444444444,
              "#bd3786"
             ],
             [
              0.5555555555555556,
              "#d8576b"
             ],
             [
              0.6666666666666666,
              "#ed7953"
             ],
             [
              0.7777777777777778,
              "#fb9f3a"
             ],
             [
              0.8888888888888888,
              "#fdca26"
             ],
             [
              1,
              "#f0f921"
             ]
            ],
            "type": "histogram2d"
           }
          ],
          "histogram2dcontour": [
           {
            "colorbar": {
             "outlinewidth": 0,
             "ticks": ""
            },
            "colorscale": [
             [
              0,
              "#0d0887"
             ],
             [
              0.1111111111111111,
              "#46039f"
             ],
             [
              0.2222222222222222,
              "#7201a8"
             ],
             [
              0.3333333333333333,
              "#9c179e"
             ],
             [
              0.4444444444444444,
              "#bd3786"
             ],
             [
              0.5555555555555556,
              "#d8576b"
             ],
             [
              0.6666666666666666,
              "#ed7953"
             ],
             [
              0.7777777777777778,
              "#fb9f3a"
             ],
             [
              0.8888888888888888,
              "#fdca26"
             ],
             [
              1,
              "#f0f921"
             ]
            ],
            "type": "histogram2dcontour"
           }
          ],
          "mesh3d": [
           {
            "colorbar": {
             "outlinewidth": 0,
             "ticks": ""
            },
            "type": "mesh3d"
           }
          ],
          "parcoords": [
           {
            "line": {
             "colorbar": {
              "outlinewidth": 0,
              "ticks": ""
             }
            },
            "type": "parcoords"
           }
          ],
          "pie": [
           {
            "automargin": true,
            "type": "pie"
           }
          ],
          "scatter": [
           {
            "marker": {
             "colorbar": {
              "outlinewidth": 0,
              "ticks": ""
             }
            },
            "type": "scatter"
           }
          ],
          "scatter3d": [
           {
            "line": {
             "colorbar": {
              "outlinewidth": 0,
              "ticks": ""
             }
            },
            "marker": {
             "colorbar": {
              "outlinewidth": 0,
              "ticks": ""
             }
            },
            "type": "scatter3d"
           }
          ],
          "scattercarpet": [
           {
            "marker": {
             "colorbar": {
              "outlinewidth": 0,
              "ticks": ""
             }
            },
            "type": "scattercarpet"
           }
          ],
          "scattergeo": [
           {
            "marker": {
             "colorbar": {
              "outlinewidth": 0,
              "ticks": ""
             }
            },
            "type": "scattergeo"
           }
          ],
          "scattergl": [
           {
            "marker": {
             "colorbar": {
              "outlinewidth": 0,
              "ticks": ""
             }
            },
            "type": "scattergl"
           }
          ],
          "scattermapbox": [
           {
            "marker": {
             "colorbar": {
              "outlinewidth": 0,
              "ticks": ""
             }
            },
            "type": "scattermapbox"
           }
          ],
          "scatterpolar": [
           {
            "marker": {
             "colorbar": {
              "outlinewidth": 0,
              "ticks": ""
             }
            },
            "type": "scatterpolar"
           }
          ],
          "scatterpolargl": [
           {
            "marker": {
             "colorbar": {
              "outlinewidth": 0,
              "ticks": ""
             }
            },
            "type": "scatterpolargl"
           }
          ],
          "scatterternary": [
           {
            "marker": {
             "colorbar": {
              "outlinewidth": 0,
              "ticks": ""
             }
            },
            "type": "scatterternary"
           }
          ],
          "surface": [
           {
            "colorbar": {
             "outlinewidth": 0,
             "ticks": ""
            },
            "colorscale": [
             [
              0,
              "#0d0887"
             ],
             [
              0.1111111111111111,
              "#46039f"
             ],
             [
              0.2222222222222222,
              "#7201a8"
             ],
             [
              0.3333333333333333,
              "#9c179e"
             ],
             [
              0.4444444444444444,
              "#bd3786"
             ],
             [
              0.5555555555555556,
              "#d8576b"
             ],
             [
              0.6666666666666666,
              "#ed7953"
             ],
             [
              0.7777777777777778,
              "#fb9f3a"
             ],
             [
              0.8888888888888888,
              "#fdca26"
             ],
             [
              1,
              "#f0f921"
             ]
            ],
            "type": "surface"
           }
          ],
          "table": [
           {
            "cells": {
             "fill": {
              "color": "#EBF0F8"
             },
             "line": {
              "color": "white"
             }
            },
            "header": {
             "fill": {
              "color": "#C8D4E3"
             },
             "line": {
              "color": "white"
             }
            },
            "type": "table"
           }
          ]
         },
         "layout": {
          "annotationdefaults": {
           "arrowcolor": "#2a3f5f",
           "arrowhead": 0,
           "arrowwidth": 1
          },
          "autotypenumbers": "strict",
          "coloraxis": {
           "colorbar": {
            "outlinewidth": 0,
            "ticks": ""
           }
          },
          "colorscale": {
           "diverging": [
            [
             0,
             "#8e0152"
            ],
            [
             0.1,
             "#c51b7d"
            ],
            [
             0.2,
             "#de77ae"
            ],
            [
             0.3,
             "#f1b6da"
            ],
            [
             0.4,
             "#fde0ef"
            ],
            [
             0.5,
             "#f7f7f7"
            ],
            [
             0.6,
             "#e6f5d0"
            ],
            [
             0.7,
             "#b8e186"
            ],
            [
             0.8,
             "#7fbc41"
            ],
            [
             0.9,
             "#4d9221"
            ],
            [
             1,
             "#276419"
            ]
           ],
           "sequential": [
            [
             0,
             "#0d0887"
            ],
            [
             0.1111111111111111,
             "#46039f"
            ],
            [
             0.2222222222222222,
             "#7201a8"
            ],
            [
             0.3333333333333333,
             "#9c179e"
            ],
            [
             0.4444444444444444,
             "#bd3786"
            ],
            [
             0.5555555555555556,
             "#d8576b"
            ],
            [
             0.6666666666666666,
             "#ed7953"
            ],
            [
             0.7777777777777778,
             "#fb9f3a"
            ],
            [
             0.8888888888888888,
             "#fdca26"
            ],
            [
             1,
             "#f0f921"
            ]
           ],
           "sequentialminus": [
            [
             0,
             "#0d0887"
            ],
            [
             0.1111111111111111,
             "#46039f"
            ],
            [
             0.2222222222222222,
             "#7201a8"
            ],
            [
             0.3333333333333333,
             "#9c179e"
            ],
            [
             0.4444444444444444,
             "#bd3786"
            ],
            [
             0.5555555555555556,
             "#d8576b"
            ],
            [
             0.6666666666666666,
             "#ed7953"
            ],
            [
             0.7777777777777778,
             "#fb9f3a"
            ],
            [
             0.8888888888888888,
             "#fdca26"
            ],
            [
             1,
             "#f0f921"
            ]
           ]
          },
          "colorway": [
           "#636efa",
           "#EF553B",
           "#00cc96",
           "#ab63fa",
           "#FFA15A",
           "#19d3f3",
           "#FF6692",
           "#B6E880",
           "#FF97FF",
           "#FECB52"
          ],
          "font": {
           "color": "#2a3f5f"
          },
          "geo": {
           "bgcolor": "white",
           "lakecolor": "white",
           "landcolor": "#E5ECF6",
           "showlakes": true,
           "showland": true,
           "subunitcolor": "white"
          },
          "hoverlabel": {
           "align": "left"
          },
          "hovermode": "closest",
          "mapbox": {
           "style": "light"
          },
          "paper_bgcolor": "white",
          "plot_bgcolor": "#E5ECF6",
          "polar": {
           "angularaxis": {
            "gridcolor": "white",
            "linecolor": "white",
            "ticks": ""
           },
           "bgcolor": "#E5ECF6",
           "radialaxis": {
            "gridcolor": "white",
            "linecolor": "white",
            "ticks": ""
           }
          },
          "scene": {
           "xaxis": {
            "backgroundcolor": "#E5ECF6",
            "gridcolor": "white",
            "gridwidth": 2,
            "linecolor": "white",
            "showbackground": true,
            "ticks": "",
            "zerolinecolor": "white"
           },
           "yaxis": {
            "backgroundcolor": "#E5ECF6",
            "gridcolor": "white",
            "gridwidth": 2,
            "linecolor": "white",
            "showbackground": true,
            "ticks": "",
            "zerolinecolor": "white"
           },
           "zaxis": {
            "backgroundcolor": "#E5ECF6",
            "gridcolor": "white",
            "gridwidth": 2,
            "linecolor": "white",
            "showbackground": true,
            "ticks": "",
            "zerolinecolor": "white"
           }
          },
          "shapedefaults": {
           "line": {
            "color": "#2a3f5f"
           }
          },
          "ternary": {
           "aaxis": {
            "gridcolor": "white",
            "linecolor": "white",
            "ticks": ""
           },
           "baxis": {
            "gridcolor": "white",
            "linecolor": "white",
            "ticks": ""
           },
           "bgcolor": "#E5ECF6",
           "caxis": {
            "gridcolor": "white",
            "linecolor": "white",
            "ticks": ""
           }
          },
          "title": {
           "x": 0.05
          },
          "xaxis": {
           "automargin": true,
           "gridcolor": "white",
           "linecolor": "white",
           "ticks": "",
           "title": {
            "standoff": 15
           },
           "zerolinecolor": "white",
           "zerolinewidth": 2
          },
          "yaxis": {
           "automargin": true,
           "gridcolor": "white",
           "linecolor": "white",
           "ticks": "",
           "title": {
            "standoff": 15
           },
           "zerolinecolor": "white",
           "zerolinewidth": 2
          }
         }
        },
        "title": {
         "text": "Word Embeddings"
        },
        "xaxis": {
         "autorange": true,
         "range": [
          -1.6904265317711686,
          1.6640375289711808
         ],
         "type": "linear"
        },
        "yaxis": {
         "autorange": true,
         "range": [
          -1.4664344359370112,
          1.5059153605433344
         ],
         "type": "linear"
        }
       }
      },
      "image/png": "[encoded data removed]",
      "text/html": [
       "<div>                            <div id=\"db8e7f9d-96ec-4be4-b575-a1607ceb17b9\" class=\"plotly-graph-div\" style=\"height:525px; width:100%;\"></div>            <script type=\"text/javascript\">                require([\"plotly\"], function(Plotly) {                    window.PLOTLYENV=window.PLOTLYENV || {};                                    if (document.getElementById(\"db8e7f9d-96ec-4be4-b575-a1607ceb17b9\")) {                    Plotly.newPlot(                        \"db8e7f9d-96ec-4be4-b575-a1607ceb17b9\",                        [{\"hoverinfo\":\"text\",\"mode\":\"markers\",\"text\":[\"game\",\"past\",\"able\",\"b\",\"days\",\"turns\",\"child\",\"they're\",\"hand\",\"flick\",\"enjoyed\",\"act\",\"genre\",\"town\",\"favorite\",\"soon\",\"kill\",\"starts\",\"sometimes\",\"car\",\"gave\",\"run\",\"late\",\"eyes\",\"actress\",\"etc\",\"directed\",\"horrible\",\"won't\",\"viewer\",\"brilliant\",\"parts\",\"self\",\"themselves\",\"hour\",\"expect\",\"thinking\",\"stories\",\"stuff\",\"girls\",\"obviously\",\"blood\",\"decent\",\"city\",\"voice\",\"highly\",\"myself\",\"feeling\",\"fight\",\"except\",\"slow\",\"matter\",\"type\",\"anyway\",\"kid\",\"roles\",\"killed\",\"heard\",\"god\",\"age\",\"says\",\"moment\",\"took\",\"leave\",\"writer\",\"strong\",\"cannot\",\"violence\",\"police\",\"hit\",\"stop\",\"happens\",\"particularly\",\"known\",\"involved\",\"happened\",\"extremely\",\"daughter\",\"obvious\",\"told\",\"chance\",\"living\",\"coming\",\"lack\",\"alone\",\"experience\",\"wouldn't\",\"including\",\"murder\",\"attempt\",\"s\",\"please\",\"james\",\"happen\",\"wonder\",\"crap\",\"ago\",\"brother\",\"film's\",\"gore\",\"none\",\"complete\",\"interest\",\"score\",\"group\",\"cut\",\"simple\",\"save\",\"ok\",\"hell\",\"looked\",\"career\",\"number\",\"song\",\"possible\",\"seriously\",\"annoying\",\"shown\",\"exactly\",\"sad\",\"running\",\"musical\",\"serious\",\"taken\",\"yourself\",\"whose\",\"released\",\"cinematography\",\"david\",\"scary\",\"ends\",\"english\",\"hero\",\"usually\",\"hours\",\"reality\",\"opening\",\"i'll\",\"across\",\"today\",\"jokes\",\"light\",\"hilarious\",\"somewhat\",\"usual\",\"started\",\"cool\",\"ridiculous\",\"body\",\"relationship\",\"view\",\"level\",\"opinion\",\"change\",\"happy\",\"middle\",\"taking\",\"wish\",\"husband\",\"finds\",\"saying\",\"order\",\"talking\",\"ones\",\"documentary\",\"shots\",\"huge\",\"novel\",\"female\",\"mostly\",\"robert\",\"power\",\"episodes\",\"room\",\"important\",\"rating\",\"talent\",\"five\",\"major\",\"turned\",\"strange\",\"word\",\"modern\",\"call\",\"apparently\",\"disappointed\",\"single\",\"events\",\"due\",\"four\",\"songs\",\"basically\",\"attention\",\"7\",\"knows\",\"clearly\",\"supporting\",\"knew\",\"british\",\"television\",\"comic\",\"non\",\"fast\",\"earth\",\"country\",\"future\",\"cheap\",\"class\",\"thriller\",\"8\",\"silly\",\"king\",\"problems\",\"aren't\",\"easily\",\"words\",\"tells\",\"miss\",\"jack\",\"local\",\"sequence\",\"bring\",\"entertainment\",\"paul\",\"beyond\",\"upon\",\"whether\",\"predictable\",\"moving\",\"similar\",\"straight\",\"romantic\",\"sets\",\"review\",\"falls\",\"oscar\",\"mystery\",\"enjoyable\",\"needs\",\"appears\",\"talk\",\"rock\",\"george\",\"giving\",\"eye\",\"richard\",\"within\",\"ten\",\"animation\",\"message\",\"theater\",\"near\",\"above\",\"dull\",\"nearly\",\"sequel\",\"theme\",\"points\",\"'\",\"stand\",\"mention\",\"lady\",\"bunch\",\"add\",\"feels\",\"herself\",\"release\",\"red\",\"team\",\"storyline\",\"surprised\",\"ways\",\"using\",\"named\",\"haven't\",\"lots\",\"easy\",\"fantastic\",\"begins\",\"actual\",\"working\",\"effort\",\"york\",\"die\",\"hate\",\"french\",\"minute\",\"tale\",\"clear\",\"stay\",\"9\",\"elements\",\"feature\",\"among\",\"follow\",\"comments\",\"re\",\"viewers\",\"avoid\",\"sister\",\"showing\",\"typical\",\"editing\",\"what's\",\"famous\",\"tried\",\"sorry\",\"dialog\",\"check\",\"fall\",\"period\",\"season\",\"form\",\"certain\",\"filmed\",\"weak\",\"soundtrack\",\"means\",\"buy\",\"material\",\"somehow\",\"realistic\",\"figure\",\"crime\",\"doubt\",\"gone\",\"peter\",\"tom\",\"kept\",\"viewing\",\"t\",\"general\",\"leads\",\"greatest\",\"space\",\"lame\",\"suspense\",\"dance\",\"imagine\",\"brought\",\"third\",\"atmosphere\",\"hear\",\"particular\",\"sequences\",\"whatever\",\"parents\",\"move\",\"lee\",\"indeed\",\"learn\",\"rent\",\"de\",\"eventually\",\"note\",\"deal\",\"average\",\"reviews\",\"wait\",\"forget\",\"japanese\",\"sexual\",\"poorly\",\"premise\",\"okay\",\"zombie\",\"surprise\",\"believable\",\"stage\",\"possibly\",\"sit\",\"who's\",\"decided\",\"expected\",\"you've\",\"subject\",\"nature\",\"became\",\"difficult\",\"free\",\"killing\",\"screenplay\",\"truth\",\"romance\",\"dr\",\"nor\",\"reading\",\"needed\",\"question\",\"leaves\",\"street\",\"20\",\"meets\",\"hot\",\"unless\",\"begin\",\"baby\",\"superb\",\"credits\",\"imdb\",\"otherwise\",\"write\",\"shame\",\"let's\",\"situation\",\"dramatic\",\"memorable\",\"directors\",\"earlier\",\"meet\",\"disney\",\"open\",\"dog\",\"badly\",\"joe\",\"male\",\"weird\",\"acted\",\"forced\",\"laughs\",\"sci\",\"emotional\",\"older\",\"realize\",\"fi\",\"dream\",\"society\",\"writers\",\"interested\",\"footage\",\"forward\",\"comment\",\"crazy\",\"deep\",\"sounds\",\"plus\",\"beauty\",\"whom\",\"america\",\"fantasy\",\"directing\",\"keeps\",\"ask\",\"development\",\"features\",\"air\",\"quickly\",\"mess\",\"creepy\",\"towards\",\"perfectly\",\"mark\",\"worked\",\"box\",\"cheesy\",\"unique\",\"setting\",\"hands\",\"plenty\",\"result\",\"previous\",\"brings\",\"effect\",\"e\",\"total\",\"personal\",\"incredibly\",\"rate\",\"fire\",\"monster\",\"business\",\"leading\",\"apart\",\"casting\",\"admit\",\"joke\",\"powerful\",\"appear\",\"background\",\"telling\",\"girlfriend\",\"meant\",\"christmas\",\"hardly\",\"present\",\"battle\",\"potential\",\"create\",\"bill\",\"break\",\"pay\",\"masterpiece\",\"gay\",\"political\",\"return\",\"dumb\",\"fails\",\"fighting\",\"various\",\"era\"],\"textposition\":\"bottom left\",\"x\":[0.28212419152259827,0.14851345121860504,0.010925485752522945,-0.016490308567881584,0.26912814378738403,-0.06752043962478638,0.17038187384605408,-0.13651043176651,-0.3538544476032257,-0.19186656177043915,0.6333377361297607,-0.19411425292491913,0.4246245324611664,0.039786286652088165,0.82335364818573,0.29972150921821594,-0.3382546007633209,-0.09761809557676315,0.3218116760253906,-0.3047347664833069,0.014277473092079163,-0.28456971049308777,0.10766773670911789,0.13419316709041595,0.04750373587012291,-0.24298644065856934,-0.13081391155719757,-0.9618691205978394,0.15927208960056305,0.0420391671359539,0.8008346557617188,0.2197817713022232,-0.3272162973880768,0.009630602784454823,-0.19770877063274384,-0.17091242969036102,-0.1682829111814499,0.43289148807525635,0.11555688828229904,-0.02013426274061203,-0.22952747344970703,0.0806044340133667,-0.5180053114891052,0.08842089027166367,0.1508314609527588,1.4866528511047363,0.0673985481262207,0.16280433535575867,-0.06695470958948135,-0.43939411640167236,-0.055493660271167755,0.14089716970920563,0.025505797937512398,-0.07617401331663132,-0.2942233979701996,0.15232664346694946,-0.3082805275917053,0.10782377421855927,-0.3388819694519043,0.2929408848285675,-0.06991153955459595,-0.016072461381554604,-0.0871790200471878,-0.16581232845783234,-0.24379602074623108,0.32322993874549866,0.052433211356401443,-0.06556519865989685,0.10300812125205994,0.5177556276321411,-0.26720666885375977,-0.398080974817276,-0.1312488615512848,0.17377589643001556,-0.2792589068412781,-0.08678025752305984,-0.03162277117371559,0.04941742122173309,-0.40344247221946716,0.030358711257576942,0.7648146748542786,-0.012879662215709686,0.15375301241874695,-0.6388295292854309,-0.027004076167941093,0.42538636922836304,-0.840773344039917,0.36801913380622864,-0.0019001018954440951,-0.6671854853630066,-0.12676183879375458,-0.2687914967536926,0.3079105317592621,0.07031548023223877,-0.21671216189861298,-1.070525884628296,0.2064644694328308,0.008295168168842793,-0.139779195189476,-0.6441811919212341,-0.3803195655345917,-0.41040167212486267,-0.14259733259677887,0.27306702733039856,0.05253301560878754,0.027265021577477455,0.2088339924812317,-1.1040600538253784,-0.2887594401836395,-0.2408294528722763,-0.4066160023212433,-0.22599612176418304,0.17314542829990387,-0.06660392135381699,-0.0224092248827219,-0.29655921459198,-0.469283789396286,0.0777938961982727,0.10633278638124466,-0.3230540454387665,-0.17025956511497498,0.18645340204238892,-0.027282634750008583,-0.07354208081960678,-0.5764196515083313,0.012299691326916218,0.24319422245025635,0.1188715398311615,-0.016582921147346497,-0.29005590081214905,0.1312619000673294,0.4022390842437744,0.20015040040016174,-0.022200752049684525,-0.39269328117370605,0.3037981688976288,0.05693203955888748,-0.1354077309370041,0.06512007862329483,0.9496335387229919,-0.2228897511959076,0.363203763961792,0.2589896321296692,0.06496070325374603,0.11444966495037079,-0.26404228806495667,0.29291775822639465,-0.5974957942962646,-0.12332034111022949,0.2790353298187256,0.13250404596328735,-0.16701050102710724,-0.208941251039505,0.2835220694541931,0.39839813113212585,-0.08877132087945938,-0.05071111395955086,0.1987004578113556,-0.09247932583093643,0.1652097851037979,-0.33915770053863525,0.0352947935461998,0.17012038826942444,0.09651800245046616,0.21980705857276917,-0.1949957013130188,-0.33147263526916504,0.03966258838772774,-0.14226871728897095,-0.1816360205411911,0.12622526288032532,-0.08197896927595139,0.33828994631767273,-0.07886684685945511,0.22063225507736206,-0.31464773416519165,-0.3259279727935791,-0.172859787940979,-0.23997408151626587,-0.3708752989768982,0.002632533898577094,-0.23223455250263214,0.26474693417549133,-0.20590387284755707,-0.14865675568580627,-0.07289612293243408,-0.15009628236293793,0.011133191175758839,-0.13087286055088043,-0.04466870427131653,-0.05705137550830841,-0.12621046602725983,0.25731438398361206,1.3818978071212769,0.16136042773723602,-0.2609446346759796,0.19007040560245514,-0.24361570179462433,-0.09898726642131805,0.3060802221298218,0.20140837132930756,-0.14029879868030548,-0.24913018941879272,-0.08561106026172638,0.17944228649139404,0.41333746910095215,-0.6686104536056519,0.004440292716026306,0.35035115480422974,1.4234442710876465,-0.21336016058921814,-0.0024538571015000343,-0.0966850072145462,-0.21470798552036285,0.29932400584220886,0.10634663701057434,0.29371094703674316,0.4845041334629059,0.12656238675117493,-0.21326975524425507,0.22548139095306396,0.3712250590324402,0.22935353219509125,0.19947531819343567,-0.0005735980812460184,-0.021351052448153496,0.22819218039512634,-0.4870741367340088,0.5339218974113464,0.10367745161056519,-0.07449401915073395,0.45998793840408325,0.01775628700852394,-0.2230278104543686,-0.25128084421157837,0.5205882787704468,0.13848847150802612,0.7313938736915588,-0.18120945990085602,-0.2192850261926651,-0.0093767661601305,0.26201143860816956,-0.06563901156187057,0.09618131816387177,-0.03945611044764519,0.1266319304704666,0.20133043825626373,0.08911804854869843,0.09894201159477234,0.43549251556396484,-0.25984516739845276,-0.027125991880893707,0.06581514328718185,-0.8010367155075073,0.2079535275697708,-0.1455496996641159,-0.06612151116132736,-0.13293221592903137,-0.13177134096622467,0.08687761425971985,0.054138343781232834,0.28285738825798035,0.052320271730422974,0.06495725363492966,-0.060569651424884796,0.28759732842445374,0.3970962166786194,-0.16958586871623993,0.06707696616649628,-0.028129855170845985,0.03990047052502632,0.15674403309822083,-0.24097608029842377,-0.3046717345714569,0.414090633392334,0.09622419625520706,0.17500588297843933,0.6046352386474609,0.09428788721561432,-0.2924513816833496,0.08563365042209625,-0.5368263125419617,0.0416158102452755,-0.2488078474998474,-0.21138319373130798,-0.00934214610606432,-0.29443228244781494,0.4541623294353485,-0.30059677362442017,-0.6693667769432068,1.1696299314498901,0.22982951998710632,-0.1090259999036789,0.16015392541885376,0.06028417870402336,0.029115816578269005,-0.004756041802465916,0.021957319229841232,-1.5130418539047241,-0.13936427235603333,0.09488619863986969,0.13827906548976898,-0.07873308658599854,-0.06061003357172012,0.2313774675130844,-0.044492095708847046,-0.8402933478355408,-0.1527705192565918,0.41603711247444153,0.08963102102279663,0.18113838136196136,0.3400816321372986,-0.00015020291903056204,0.22661423683166504,-0.05687110498547554,-0.5210937261581421,0.3512347936630249,0.06798089295625687,0.2932341992855072,-0.27294808626174927,0.09361158311367035,0.3908528983592987,-0.09870699048042297,0.13912314176559448,0.06947974860668182,0.059764184057712555,0.06212112680077553,0.23162704706192017,0.004571562632918358,0.6079193949699402,-0.4920305609703064,-0.09540174901485443,0.07545264065265656,0.6543722748756409,-0.19469238817691803,-0.7730737924575806,0.13639074563980103,0.2947249412536621,0.017016582190990448,0.2524154782295227,0.06748096644878387,0.42498740553855896,0.1454198658466339,0.16021940112113953,0.22977301478385925,-0.1897096484899521,-0.007122843526303768,-0.15833920240402222,-0.4532617926597595,0.006409041583538055,0.039794739335775375,-0.3821970224380493,0.13073664903640747,0.1316361427307129,-0.0354875847697258,0.10671915113925934,-0.06394274532794952,-0.20021869242191315,0.07993572950363159,0.09345824271440506,0.20318040251731873,-0.12384002655744553,-0.678611159324646,-0.271197646856308,-0.42471325397491455,-0.16148963570594788,0.08199051767587662,0.2944144308567047,-0.007852047681808472,-0.07031314820051193,-0.25236624479293823,0.12537558376789093,-0.15062104165554047,-0.1443234086036682,0.033575717359781265,-0.1596802920103073,0.4589608907699585,0.09168576449155807,0.41453948616981506,-0.46513989567756653,-0.2668553292751312,0.13175103068351746,0.05825858563184738,0.3363681435585022,-0.13292443752288818,-0.15885263681411743,0.18598778545856476,0.20187021791934967,0.0605354867875576,0.039127279072999954,0.007280107121914625,-0.11811884492635727,0.040590208023786545,-0.2857649028301239,-1.0852566957473755,-0.12896455824375153,-0.10176614671945572,0.6380792856216431,-0.25551313161849976,-0.14915823936462402,-0.4366496205329895,-0.5555795431137085,-0.4457295536994934,0.0006678615463897586,0.3537346422672272,0.19626246392726898,0.20407457649707794,-0.24570304155349731,0.22922974824905396,-0.17637504637241364,0.12103243917226791,0.3973664939403534,-0.11688510328531265,-0.4727601408958435,-0.2794604003429413,-0.25145435333251953,0.21805769205093384,0.06535995751619339,-0.1894339770078659,-0.052512917667627335,0.19087140262126923,0.19792336225509644,0.06405095756053925,-0.28238674998283386,0.11138909310102463,0.19048862159252167,0.22521306574344635,-0.1878075748682022,0.41653379797935486,0.0019093573791906238,0.27917593717575073,-0.1996065080165863,0.0002590921358205378,0.20717743039131165,-0.10770445317029953,0.051582422107458115,0.3833795487880707,0.09806264936923981,0.24802131950855255,0.2766244113445282,0.020685194060206413,0.22615425288677216,0.03673553094267845,-0.057227108627557755,0.10026878118515015,0.30015668272972107,-0.1635826826095581,-0.8967145681381226,0.19475995004177094,-0.04535842686891556,0.47845059633255005,-0.23704665899276733,-0.16852527856826782,-0.033329397439956665,-0.3175848126411438,0.4002982974052429,0.0029266634956002235,-0.12035766243934631,0.06458023935556412,-0.4928534924983978,-0.1260242462158203,0.31588229537010193,-0.027162674814462662,-0.30192461609840393,-0.5635944604873657,0.24687312543392181,-0.010875715874135494,0.19477474689483643,0.13983187079429626,-0.17209942638874054,-0.1214660108089447,0.25336870551109314,-0.1926274597644806,-0.16304773092269897,0.04327145218849182,-0.5314741134643555,0.6700968742370605,-0.12317342311143875,0.034996356815099716,0.04061520844697952,0.09078726172447205,-0.17338266968727112,-0.0794021487236023,-0.1959587186574936,0.14662578701972961,0.009914190508425236,-0.3532886803150177,-0.04049750789999962,0.12743012607097626,-0.3129061460494995,-0.46124520897865295,0.47789931297302246,-0.3587599992752075,0.11360125243663788,-0.12332315742969513,-0.39383816719055176,-0.5883076786994934,0.16035376489162445,0.17005085945129395,0.43410763144493103],\"y\":[-0.2200762778520584,-0.10429925471544266,0.04280219227075577,0.010815665125846863,-0.279442697763443,0.07008527219295502,-0.179966002702713,0.16261586546897888,0.30231767892837524,0.20031607151031494,-0.5783466100692749,0.18865464627742767,-0.37395456433296204,0.004060794599354267,-0.7798060178756714,-0.2625216245651245,0.35967400670051575,0.06160246208310127,-0.283720999956131,0.2085835337638855,0.006218147464096546,0.2824110984802246,-0.0782010406255722,-0.06402219086885452,-0.07588818669319153,0.215445414185524,0.039880529046058655,0.8024348020553589,-0.1354457587003708,-0.04795688018202782,-0.7489917874336243,-0.10456012189388275,0.25402897596359253,0.006919999606907368,0.24466827511787415,0.1300465613603592,0.1177896037697792,-0.3724534809589386,-0.15482646226882935,0.016105376183986664,0.2755771279335022,-0.08834241330623627,0.46297377347946167,-0.06242027506232262,-0.15385550260543823,-1.2558929920196533,-0.0683111771941185,-0.10849739611148834,0.03904404491186142,0.41036173701286316,0.0703270360827446,-0.14040981233119965,-0.07182908058166504,0.043933264911174774,0.27331820130348206,-0.07161436975002289,0.23354558646678925,-0.17687012255191803,0.3803749084472656,-0.22885625064373016,0.036157768219709396,-0.010191620327532291,0.09295498579740524,0.1980011910200119,0.24825415015220642,-0.36102333664894104,0.019818641245365143,0.03732774034142494,-0.10777939856052399,-0.5002856254577637,0.23767369985580444,0.41517552733421326,0.03317277505993843,-0.11954378336668015,0.16315780580043793,0.06821055710315704,0.03424619883298874,-0.08339549601078033,0.38798967003822327,0.0190002229064703,-0.6762778759002686,0.09052951633930206,-0.10992369800806046,0.5815003514289856,-0.035050395876169205,-0.3439025580883026,0.730376124382019,-0.4103020131587982,-0.04692131653428078,0.5672776103019714,0.12434039264917374,0.23274736106395721,-0.29467540979385376,-0.11935554444789886,0.18454203009605408,0.8966715931892395,-0.12023405730724335,-0.015552718192338943,0.13703389465808868,0.5732797980308533,0.41508248448371887,0.28797268867492676,0.17556603252887726,-0.2219308465719223,-0.02230532094836235,-0.10643550008535385,-0.18844133615493774,1.0146046876907349,0.25254982709884644,0.23552493751049042,0.38595592975616455,0.19450587034225464,-0.22044268250465393,0.01511093694716692,0.0068961018696427345,0.29520368576049805,0.40897735953330994,-0.09267262369394302,-0.10262994468212128,0.2516089975833893,0.10141198337078094,-0.19994835555553436,0.015415307134389877,0.044588085263967514,0.5039251446723938,-0.03157958760857582,-0.24739031493663788,-0.1266135424375534,0.005573219619691372,0.2936379611492157,-0.09176298975944519,-0.4267112612724304,-0.1858784407377243,0.02434476464986801,0.31181010603904724,-0.22834593057632446,-0.10604085773229599,0.12624770402908325,-0.06569314748048782,-0.7776216268539429,0.16785766184329987,-0.34651052951812744,-0.20396478474140167,-0.06615819036960602,-0.06266120076179504,0.20289281010627747,-0.2243635058403015,0.506047248840332,0.10173997282981873,-0.24059075117111206,-0.14253681898117065,0.1480555236339569,0.13244934380054474,-0.2580367922782898,-0.40162745118141174,0.033099450170993805,0.0753476470708847,-0.12962529063224792,0.06807662546634674,-0.1360599845647812,0.2516534924507141,-0.08517546951770782,-0.10253579914569855,-0.026186425238847733,-0.1424977034330368,0.16489598155021667,0.3046208620071411,-0.019564758986234665,0.16769403219223022,0.09739786386489868,-0.09752959758043289,0.10807633399963379,-0.29398977756500244,0.09131613373756409,-0.2528162896633148,0.25031280517578125,0.2590399980545044,0.1583368331193924,0.19404779374599457,0.28067734837532043,0.02185586653649807,0.25915098190307617,-0.2746387720108032,0.25386902689933777,0.09161540120840073,0.05082790181040764,0.14638949930667877,0.017772192135453224,0.05159313976764679,-0.003431096440181136,-0.001674518221989274,0.17657078802585602,-0.26274919509887695,-1.247546911239624,-0.18896494805812836,0.17614227533340454,-0.14290127158164978,0.25762730836868286,0.032035451382398605,-0.3200555443763733,-0.17348699271678925,0.10048606991767883,0.19732068479061127,0.029758445918560028,-0.1369076818227768,-0.375295490026474,0.5985249280929565,0.016300423070788383,-0.29769569635391235,-1.219045877456665,0.2149646282196045,0.01798672415316105,0.08656451851129532,0.14974084496498108,-0.27109333872795105,-0.059508081525564194,-0.2919480502605438,-0.39371901750564575,-0.11900674551725388,0.17220863699913025,-0.1613883227109909,-0.37171775102615356,-0.16940385103225708,-0.12078966945409775,0.04835783690214157,0.028585335239768028,-0.216247096657753,0.43617451190948486,-0.5351126194000244,-0.03273046389222145,0.05877434462308884,-0.3587327301502228,-0.01682126149535179,0.22990348935127258,0.23661527037620544,-0.4213187098503113,-0.12787486612796783,-0.709636390209198,0.16653870046138763,0.14562970399856567,0.00487603759393096,-0.22641536593437195,0.053536880761384964,-0.06878309696912766,-0.0318867564201355,-0.10062357038259506,-0.16878333687782288,-0.06559767574071884,-0.05138719826936722,-0.3497484028339386,0.25704681873321533,0.05467044189572334,0.00023472093744203448,0.7251635193824768,-0.19239065051078796,0.10850216448307037,0.05872314050793648,0.1519974023103714,0.18587394058704376,-0.10378701984882355,-0.10615506023168564,-0.22946466505527496,0.006140593905001879,-0.021153397858142853,0.0337764210999012,-0.20015688240528107,-0.3123694360256195,0.12787006795406342,-0.12264804542064667,0.09253007173538208,0.029018156230449677,-0.08186809718608856,0.1360301673412323,0.27157676219940186,-0.3326132297515869,-0.06638563424348831,-0.10838823765516281,-0.5624990463256836,-0.011622675694525242,0.23426972329616547,-0.054457467049360275,0.4519423246383667,-0.027534468099474907,0.22617676854133606,0.26735377311706543,0.006073337513953447,0.283906489610672,-0.4315759241580963,0.21461641788482666,0.5578440427780151,-1.054669737815857,-0.16943679749965668,0.04907107353210449,-0.17024710774421692,-0.06762827187776566,-0.08456557244062424,0.05019648000597954,-0.05378177762031555,1.2953739166259766,0.061558473855257034,-0.1060803085565567,-0.1333126276731491,0.042758211493492126,0.019779548048973083,-0.2664819359779358,0.029729541391134262,0.6638487577438354,0.19880978763103485,-0.33006349205970764,-0.02696000225841999,-0.2075423151254654,-0.2797890305519104,-0.052165620028972626,-0.18021591007709503,0.08879276365041733,0.4377508759498596,-0.3046324849128723,-0.0383041612803936,-0.20943212509155273,0.203204944729805,-0.05523066222667694,-0.3859441578388214,0.1159200444817543,-0.16137933731079102,-0.10561244189739227,-0.059600893408060074,-0.009359311312437057,-0.25092756748199463,0.06074931472539902,-0.4936588704586029,0.4401633143424988,0.07952321320772171,-0.04991332069039345,-0.5602442026138306,0.08200323581695557,0.7136425971984863,-0.10384085029363632,-0.2708980143070221,-0.07913236320018768,-0.2263738065958023,-0.0730782225728035,-0.39982709288597107,-0.09206078201532364,-0.12313136458396912,-0.24970997869968414,0.19582653045654297,-0.07516459375619888,0.1676088273525238,0.44586485624313354,0.01192791759967804,-0.10526810586452484,0.3434131443500519,-0.09392483532428741,-0.09065034985542297,0.004228468053042889,-0.12123832106590271,0.10189420729875565,0.141975536942482,-0.013797498308122158,-0.04018506407737732,-0.2373540699481964,0.11459838598966599,0.6252569556236267,0.2351071536540985,0.4024071991443634,0.1433349996805191,-0.1407199651002884,-0.27449244260787964,0.013997145928442478,0.01990811713039875,0.2704475522041321,-0.09451895952224731,0.16638176143169403,0.11886747926473618,-0.037205327302217484,0.09629712253808975,-0.418405145406723,-0.09964258223772049,-0.4063034951686859,0.3729109764099121,0.26298001408576965,-0.030058667063713074,-0.015290522016584873,-0.3766130805015564,0.18390105664730072,0.11587086319923401,-0.0922929123044014,-0.11724332720041275,-0.07802504301071167,-0.02863161824643612,-0.005558652803301811,0.14854773879051208,-0.06828740984201431,0.2932417094707489,0.9794006943702698,0.12598341703414917,0.09216251224279404,-0.5339877605438232,0.2560572922229767,0.19547739624977112,0.3878542482852936,0.5202366709709167,0.3861553370952606,-0.04225707799196243,-0.3282952606678009,-0.25135672092437744,-0.12986962497234344,0.16589078307151794,-0.14698906242847443,0.2066759467124939,-0.08727807551622391,-0.37781456112861633,0.08935846388339996,0.48026806116104126,0.2681633532047272,0.14918603003025055,-0.13505929708480835,-0.06117963790893555,0.1532910019159317,0.08652647584676743,-0.17248934507369995,-0.17980651557445526,-0.010777031071484089,0.1750420182943344,-0.07417736947536469,-0.12705516815185547,-0.23370473086833954,0.2262447625398636,-0.3822283446788788,0.003910839557647705,-0.24994724988937378,0.1454097032546997,0.018857108429074287,-0.2026624083518982,0.0983109176158905,-0.04174346476793289,-0.362654447555542,-0.11881189793348312,-0.29046139121055603,-0.2858216166496277,-0.028765130788087845,-0.2217104136943817,-0.023972053080797195,0.10688447207212448,-0.14072778820991516,-0.3050057590007782,0.1325216144323349,0.7863748669624329,-0.1175934225320816,0.03106137551367283,-0.4817069172859192,0.19157540798187256,0.148585245013237,0.02210858464241028,0.2588452398777008,-0.27952340245246887,-0.009867306798696518,0.06115086004137993,0.006980410311371088,0.47070446610450745,0.09579268097877502,-0.315031498670578,0.04692563787102699,0.2168881595134735,0.45658591389656067,-0.21043816208839417,-0.0004605574067682028,-0.23377861082553864,-0.12535712122917175,0.19895388185977936,0.130205437541008,-0.20018638670444489,0.1545509397983551,0.1283169537782669,-0.037376731634140015,0.49281302094459534,-0.5499162077903748,0.07601470500230789,-0.0229357797652483,-0.03916344419121742,-0.09500702470541,0.20014409720897675,0.10240978747606277,0.24986231327056885,-0.1266264021396637,0.006574105005711317,0.29347115755081177,0.025855060666799545,-0.10786016285419464,0.355993390083313,0.4053046703338623,-0.4094204604625702,0.3150717318058014,-0.06176436319947243,0.04266771674156189,0.3553529679775238,0.48533740639686584,-0.18529032170772552,-0.13401861488819122,-0.3610355854034424],\"type\":\"scatter\"}],                        {\"hovermode\":\"closest\",\"title\":{\"text\":\"Word Embeddings\"},\"template\":{\"data\":{\"bar\":[{\"error_x\":{\"color\":\"#2a3f5f\"},\"error_y\":{\"color\":\"#2a3f5f\"},\"marker\":{\"line\":{\"color\":\"#E5ECF6\",\"width\":0.5},\"pattern\":{\"fillmode\":\"overlay\",\"size\":10,\"solidity\":0.2}},\"type\":\"bar\"}],\"barpolar\":[{\"marker\":{\"line\":{\"color\":\"#E5ECF6\",\"width\":0.5},\"pattern\":{\"fillmode\":\"overlay\",\"size\":10,\"solidity\":0.2}},\"type\":\"barpolar\"}],\"carpet\":[{\"aaxis\":{\"endlinecolor\":\"#2a3f5f\",\"gridcolor\":\"white\",\"linecolor\":\"white\",\"minorgridcolor\":\"white\",\"startlinecolor\":\"#2a3f5f\"},\"baxis\":{\"endlinecolor\":\"#2a3f5f\",\"gridcolor\":\"white\",\"linecolor\":\"white\",\"minorgridcolor\":\"white\",\"startlinecolor\":\"#2a3f5f\"},\"type\":\"carpet\"}],\"choropleth\":[{\"colorbar\":{\"outlinewidth\":0,\"ticks\":\"\"},\"type\":\"choropleth\"}],\"contour\":[{\"colorbar\":{\"outlinewidth\":0,\"ticks\":\"\"},\"colorscale\":[[0.0,\"#0d0887\"],[0.1111111111111111,\"#46039f\"],[0.2222222222222222,\"#7201a8\"],[0.3333333333333333,\"#9c179e\"],[0.4444444444444444,\"#bd3786\"],[0.5555555555555556,\"#d8576b\"],[0.6666666666666666,\"#ed7953\"],[0.7777777777777778,\"#fb9f3a\"],[0.8888888888888888,\"#fdca26\"],[1.0,\"#f0f921\"]],\"type\":\"contour\"}],\"contourcarpet\":[{\"colorbar\":{\"outlinewidth\":0,\"ticks\":\"\"},\"type\":\"contourcarpet\"}],\"heatmap\":[{\"colorbar\":{\"outlinewidth\":0,\"ticks\":\"\"},\"colorscale\":[[0.0,\"#0d0887\"],[0.1111111111111111,\"#46039f\"],[0.2222222222222222,\"#7201a8\"],[0.3333333333333333,\"#9c179e\"],[0.4444444444444444,\"#bd3786\"],[0.5555555555555556,\"#d8576b\"],[0.6666666666666666,\"#ed7953\"],[0.7777777777777778,\"#fb9f3a\"],[0.8888888888888888,\"#fdca26\"],[1.0,\"#f0f921\"]],\"type\":\"heatmap\"}],\"heatmapgl\":[{\"colorbar\":{\"outlinewidth\":0,\"ticks\":\"\"},\"colorscale\":[[0.0,\"#0d0887\"],[0.1111111111111111,\"#46039f\"],[0.2222222222222222,\"#7201a8\"],[0.3333333333333333,\"#9c179e\"],[0.4444444444444444,\"#bd3786\"],[0.5555555555555556,\"#d8576b\"],[0.6666666666666666,\"#ed7953\"],[0.7777777777777778,\"#fb9f3a\"],[0.8888888888888888,\"#fdca26\"],[1.0,\"#f0f921\"]],\"type\":\"heatmapgl\"}],\"histogram\":[{\"marker\":{\"pattern\":{\"fillmode\":\"overlay\",\"size\":10,\"solidity\":0.2}},\"type\":\"histogram\"}],\"histogram2d\":[{\"colorbar\":{\"outlinewidth\":0,\"ticks\":\"\"},\"colorscale\":[[0.0,\"#0d0887\"],[0.1111111111111111,\"#46039f\"],[0.2222222222222222,\"#7201a8\"],[0.3333333333333333,\"#9c179e\"],[0.4444444444444444,\"#bd3786\"],[0.5555555555555556,\"#d8576b\"],[0.6666666666666666,\"#ed7953\"],[0.7777777777777778,\"#fb9f3a\"],[0.8888888888888888,\"#fdca26\"],[1.0,\"#f0f921\"]],\"type\":\"histogram2d\"}],\"histogram2dcontour\":[{\"colorbar\":{\"outlinewidth\":0,\"ticks\":\"\"},\"colorscale\":[[0.0,\"#0d0887\"],[0.1111111111111111,\"#46039f\"],[0.2222222222222222,\"#7201a8\"],[0.3333333333333333,\"#9c179e\"],[0.4444444444444444,\"#bd3786\"],[0.5555555555555556,\"#d8576b\"],[0.6666666666666666,\"#ed7953\"],[0.7777777777777778,\"#fb9f3a\"],[0.8888888888888888,\"#fdca26\"],[1.0,\"#f0f921\"]],\"type\":\"histogram2dcontour\"}],\"mesh3d\":[{\"colorbar\":{\"outlinewidth\":0,\"ticks\":\"\"},\"type\":\"mesh3d\"}],\"parcoords\":[{\"line\":{\"colorbar\":{\"outlinewidth\":0,\"ticks\":\"\"}},\"type\":\"parcoords\"}],\"pie\":[{\"automargin\":true,\"type\":\"pie\"}],\"scatter\":[{\"marker\":{\"colorbar\":{\"outlinewidth\":0,\"ticks\":\"\"}},\"type\":\"scatter\"}],\"scatter3d\":[{\"line\":{\"colorbar\":{\"outlinewidth\":0,\"ticks\":\"\"}},\"marker\":{\"colorbar\":{\"outlinewidth\":0,\"ticks\":\"\"}},\"type\":\"scatter3d\"}],\"scattercarpet\":[{\"marker\":{\"colorbar\":{\"outlinewidth\":0,\"ticks\":\"\"}},\"type\":\"scattercarpet\"}],\"scattergeo\":[{\"marker\":{\"colorbar\":{\"outlinewidth\":0,\"ticks\":\"\"}},\"type\":\"scattergeo\"}],\"scattergl\":[{\"marker\":{\"colorbar\":{\"outlinewidth\":0,\"ticks\":\"\"}},\"type\":\"scattergl\"}],\"scattermapbox\":[{\"marker\":{\"colorbar\":{\"outlinewidth\":0,\"ticks\":\"\"}},\"type\":\"scattermapbox\"}],\"scatterpolar\":[{\"marker\":{\"colorbar\":{\"outlinewidth\":0,\"ticks\":\"\"}},\"type\":\"scatterpolar\"}],\"scatterpolargl\":[{\"marker\":{\"colorbar\":{\"outlinewidth\":0,\"ticks\":\"\"}},\"type\":\"scatterpolargl\"}],\"scatterternary\":[{\"marker\":{\"colorbar\":{\"outlinewidth\":0,\"ticks\":\"\"}},\"type\":\"scatterternary\"}],\"surface\":[{\"colorbar\":{\"outlinewidth\":0,\"ticks\":\"\"},\"colorscale\":[[0.0,\"#0d0887\"],[0.1111111111111111,\"#46039f\"],[0.2222222222222222,\"#7201a8\"],[0.3333333333333333,\"#9c179e\"],[0.4444444444444444,\"#bd3786\"],[0.5555555555555556,\"#d8576b\"],[0.6666666666666666,\"#ed7953\"],[0.7777777777777778,\"#fb9f3a\"],[0.8888888888888888,\"#fdca26\"],[1.0,\"#f0f921\"]],\"type\":\"surface\"}],\"table\":[{\"cells\":{\"fill\":{\"color\":\"#EBF0F8\"},\"line\":{\"color\":\"white\"}},\"header\":{\"fill\":{\"color\":\"#C8D4E3\"},\"line\":{\"color\":\"white\"}},\"type\":\"table\"}]},\"layout\":{\"annotationdefaults\":{\"arrowcolor\":\"#2a3f5f\",\"arrowhead\":0,\"arrowwidth\":1},\"autotypenumbers\":\"strict\",\"coloraxis\":{\"colorbar\":{\"outlinewidth\":0,\"ticks\":\"\"}},\"colorscale\":{\"diverging\":[[0,\"#8e0152\"],[0.1,\"#c51b7d\"],[0.2,\"#de77ae\"],[0.3,\"#f1b6da\"],[0.4,\"#fde0ef\"],[0.5,\"#f7f7f7\"],[0.6,\"#e6f5d0\"],[0.7,\"#b8e186\"],[0.8,\"#7fbc41\"],[0.9,\"#4d9221\"],[1,\"#276419\"]],\"sequential\":[[0.0,\"#0d0887\"],[0.1111111111111111,\"#46039f\"],[0.2222222222222222,\"#7201a8\"],[0.3333333333333333,\"#9c179e\"],[0.4444444444444444,\"#bd3786\"],[0.5555555555555556,\"#d8576b\"],[0.6666666666666666,\"#ed7953\"],[0.7777777777777778,\"#fb9f3a\"],[0.8888888888888888,\"#fdca26\"],[1.0,\"#f0f921\"]],\"sequentialminus\":[[0.0,\"#0d0887\"],[0.1111111111111111,\"#46039f\"],[0.2222222222222222,\"#7201a8\"],[0.3333333333333333,\"#9c179e\"],[0.4444444444444444,\"#bd3786\"],[0.5555555555555556,\"#d8576b\"],[0.6666666666666666,\"#ed7953\"],[0.7777777777777778,\"#fb9f3a\"],[0.8888888888888888,\"#fdca26\"],[1.0,\"#f0f921\"]]},\"colorway\":[\"#636efa\",\"#EF553B\",\"#00cc96\",\"#ab63fa\",\"#FFA15A\",\"#19d3f3\",\"#FF6692\",\"#B6E880\",\"#FF97FF\",\"#FECB52\"],\"font\":{\"color\":\"#2a3f5f\"},\"geo\":{\"bgcolor\":\"white\",\"lakecolor\":\"white\",\"landcolor\":\"#E5ECF6\",\"showlakes\":true,\"showland\":true,\"subunitcolor\":\"white\"},\"hoverlabel\":{\"align\":\"left\"},\"hovermode\":\"closest\",\"mapbox\":{\"style\":\"light\"},\"paper_bgcolor\":\"white\",\"plot_bgcolor\":\"#E5ECF6\",\"polar\":{\"angularaxis\":{\"gridcolor\":\"white\",\"linecolor\":\"white\",\"ticks\":\"\"},\"bgcolor\":\"#E5ECF6\",\"radialaxis\":{\"gridcolor\":\"white\",\"linecolor\":\"white\",\"ticks\":\"\"}},\"scene\":{\"xaxis\":{\"backgroundcolor\":\"#E5ECF6\",\"gridcolor\":\"white\",\"gridwidth\":2,\"linecolor\":\"white\",\"showbackground\":true,\"ticks\":\"\",\"zerolinecolor\":\"white\"},\"yaxis\":{\"backgroundcolor\":\"#E5ECF6\",\"gridcolor\":\"white\",\"gridwidth\":2,\"linecolor\":\"white\",\"showbackground\":true,\"ticks\":\"\",\"zerolinecolor\":\"white\"},\"zaxis\":{\"backgroundcolor\":\"#E5ECF6\",\"gridcolor\":\"white\",\"gridwidth\":2,\"linecolor\":\"white\",\"showbackground\":true,\"ticks\":\"\",\"zerolinecolor\":\"white\"}},\"shapedefaults\":{\"line\":{\"color\":\"#2a3f5f\"}},\"ternary\":{\"aaxis\":{\"gridcolor\":\"white\",\"linecolor\":\"white\",\"ticks\":\"\"},\"baxis\":{\"gridcolor\":\"white\",\"linecolor\":\"white\",\"ticks\":\"\"},\"bgcolor\":\"#E5ECF6\",\"caxis\":{\"gridcolor\":\"white\",\"linecolor\":\"white\",\"ticks\":\"\"}},\"title\":{\"x\":0.05},\"xaxis\":{\"automargin\":true,\"gridcolor\":\"white\",\"linecolor\":\"white\",\"ticks\":\"\",\"title\":{\"standoff\":15},\"zerolinecolor\":\"white\",\"zerolinewidth\":2},\"yaxis\":{\"automargin\":true,\"gridcolor\":\"white\",\"linecolor\":\"white\",\"ticks\":\"\",\"title\":{\"standoff\":15},\"zerolinecolor\":\"white\",\"zerolinewidth\":2}}}},                        {\"responsive\": true}                    ).then(function(){\n",
       "                            \n",
       "var gd = document.getElementById('db8e7f9d-96ec-4be4-b575-a1607ceb17b9');\n",
       "var x = new MutationObserver(function (mutations, observer) {{\n",
       "        var display = window.getComputedStyle(gd).display;\n",
       "        if (!display || display === 'none') {{\n",
       "            console.log([gd, 'removed!']);\n",
       "            Plotly.purge(gd);\n",
       "            observer.disconnect();\n",
       "        }}\n",
       "}});\n",
       "\n",
       "// Listen for the removal of the full notebook cells\n",
       "var notebookContainer = gd.closest('#notebook-container');\n",
       "if (notebookContainer) {{\n",
       "    x.observe(notebookContainer, {childList: true});\n",
       "}}\n",
       "\n",
       "// Listen for the clearing of the current output cell\n",
       "var outputEl = gd.closest('.output');\n",
       "if (outputEl) {{\n",
       "    x.observe(outputEl, {childList: true});\n",
       "}}\n",
       "\n",
       "                        })                };                });            </script>        </div>"
      ]
     },
     "metadata": {},
     "output_type": "display_data"
    }
   ],
   "source": [
    "def plot_2d_embeddings(embeddings, id_start=1, count=100):\n",
    "    # Get 1st and 2nd embedding dims for the desired tokens.\n",
    "    x1 = embeddings[id_start:id_start+count, 0]\n",
    "    x2 = embeddings[id_start:id_start+count, 1]\n",
    "\n",
    "    # Get the corresponding words from the reverse index (for labeling).\n",
    "    tokens = [reverse_index[i] for i in range(id_start, id_start+count)]\n",
    "\n",
    "    # Plot with the plotly library.\n",
    "    data = plotly.Scatter(x=x1, y=x2, text=tokens,\n",
    "                        mode='markers', textposition='bottom left',\n",
    "                        hoverinfo='text')\n",
    "    fig = plotly.Figure(data=[data],\n",
    "                        layout=plotly.Layout(title=\"Word Embeddings\",\n",
    "                                            hovermode='closest'))\n",
    "    fig.show()\n",
    "\n",
    "# Very frequent tokens tend to be more syntactic than semantic, so let's plot\n",
    "# some rarer words.    \n",
    "plot_2d_embeddings(embeddings, id_start=500, count=500)"
   ]
  },
  {
   "cell_type": "markdown",
   "metadata": {
    "id": "Z3Mm8MjRcZ20"
   },
   "source": [
    "---\n",
    "### Exercise 4: Interpretting Embeddings (8 points)\n",
    "Notice that the 2-D embeddings fall in a narrow diagonal band.\n",
    "\n",
    "1. Have the learned embeddings separated positive and negative words? What is the most negative word? Does this make sense?\n",
    "2. Give 2 examples of words that seem to have surprising embedding values and try to explain their positions. For example, what's going on with the tokens '7', '8', and '9'?\n",
    "3. The embedding for 'crazy' is very close to (0,0). Explain what this means in terms of the model's output.\n",
    "4. Can you explain what you think the 2 learned embedding dimensions mean, if anything?"
   ]
  },
  {
   "cell_type": "markdown",
   "metadata": {
    "id": "x_qAAvvo2y3t"
   },
   "source": [
    "*Written answers:*\n",
    "\n",
    "1. For the most part, it appears that positive and negative words have been separated. The most negative word is 'avoid', which makes sense to be labeled as a negative word (but context is important if 'avoid' is used in a double negative context such as 'do not avoid seeing this movie').\n",
    "2. Tokens '7', '8', and '9' all have surprising embeddings values, but they are rated as positive because these ratings (out of 10) most likely have appeared with movie reviews that were positive. 'Chance' is also a suprising one as it is one of those words that is very context-dependent.\n",
    "3. 'Crazy' most likely appeared in movie reviews that were both positive *and* negative, so the embedding model was not able to place is as either mostly positive or mostly negative.\n",
    "4. The 2 learned embedding dimesions are for words that are either classified as positive or negative. \n"
   ]
  },
  {
   "cell_type": "markdown",
   "metadata": {},
   "source": [
    "---"
   ]
  },
  {
   "cell_type": "markdown",
   "metadata": {
    "id": "IXCitmUvxfwb"
   },
   "source": [
    "## Scaling Up!\n",
    "Remember how we limited our input sequences to 20 tokens and 1000 vocabulary entries? Let's see how well we can do using more data and bigger models (more parameters)."
   ]
  },
  {
   "cell_type": "markdown",
   "metadata": {
    "id": "OKZDEGS7xzr6"
   },
   "source": [
    "### Exercise 5: Improve Results (8 points)\n",
    "Using pieces of code from above, set up and train a model that improves the validation accuracy to at least 80%. You should include the following elements:\n",
    "\n",
    "1. Truncate and pad input to the desired length.\n",
    "2. Limit vocabulary to the desired size.\n",
    "3. Set up a model using embeddings.\n",
    "4. Add an additional layer or layers (after the embeddings layer and before the output layer).\n",
    "5. Evaluate on the test data. Remember to apply the same pre-processing to the test data. You can use model.evaluate()."
   ]
  },
  {
   "cell_type": "code",
   "execution_count": 41,
   "metadata": {
    "id": "ekbJ4sIq2hID"
   },
   "outputs": [
    {
     "name": "stdout",
     "output_type": "stream",
     "text": [
      "Epoch 1/10\n",
      "352/352 [==============================] - 3s 8ms/step - loss: 0.6143 - accuracy: 0.7204 - val_loss: 0.5201 - val_accuracy: 0.7788\n",
      "Epoch 2/10\n",
      "352/352 [==============================] - 3s 7ms/step - loss: 0.4436 - accuracy: 0.8156 - val_loss: 0.4336 - val_accuracy: 0.8056\n",
      "Epoch 3/10\n",
      "352/352 [==============================] - 3s 8ms/step - loss: 0.3683 - accuracy: 0.8438 - val_loss: 0.4077 - val_accuracy: 0.8136\n",
      "Epoch 4/10\n",
      "352/352 [==============================] - 3s 8ms/step - loss: 0.3267 - accuracy: 0.8634 - val_loss: 0.3969 - val_accuracy: 0.8184\n",
      "Epoch 5/10\n",
      "352/352 [==============================] - 3s 8ms/step - loss: 0.2985 - accuracy: 0.8782 - val_loss: 0.3976 - val_accuracy: 0.8164\n",
      "Epoch 6/10\n",
      "352/352 [==============================] - 3s 8ms/step - loss: 0.2764 - accuracy: 0.8880 - val_loss: 0.4049 - val_accuracy: 0.8176\n",
      "Epoch 7/10\n",
      "352/352 [==============================] - 3s 8ms/step - loss: 0.2575 - accuracy: 0.8981 - val_loss: 0.4139 - val_accuracy: 0.8168\n",
      "Epoch 8/10\n",
      "352/352 [==============================] - 3s 8ms/step - loss: 0.2421 - accuracy: 0.9059 - val_loss: 0.4297 - val_accuracy: 0.8104\n",
      "Epoch 9/10\n",
      "352/352 [==============================] - 3s 8ms/step - loss: 0.2280 - accuracy: 0.9137 - val_loss: 0.4473 - val_accuracy: 0.8060\n",
      "Epoch 10/10\n",
      "352/352 [==============================] - 3s 9ms/step - loss: 0.2164 - accuracy: 0.9186 - val_loss: 0.4632 - val_accuracy: 0.8068\n"
     ]
    },
    {
     "data": {
      "image/png": "[encoded data removed]",
      "text/plain": [
       "<Figure size 432x288 with 1 Axes>"
      ]
     },
     "metadata": {},
     "output_type": "display_data"
    }
   ],
   "source": [
    "# YOUR CODE HERE\n",
    "\n",
    "X_train_padded_adj = pad_data(X_train, max_length=50)\n",
    "X_train_reduced_adj = limit_vocab(X_train_padded_adj, max_token_id=10000)\n",
    "\n",
    "model_emb_size_80_train = build_embeddings_model(average_over_positions=True,\n",
    "                               vocab_size=10000,\n",
    "                               sequence_length=50,\n",
    "                               embedding_dim=80)\n",
    "\n",
    "history_emb_size_80_train = model_emb_size_80_train.fit(\n",
    "    x = X_train_reduced_adj,  # our sparse padded training data\n",
    "    y = Y_train,          # corresponding binary labels\n",
    "    epochs=10,             # number of passes through the training data\n",
    "    batch_size=64,        # mini-batch size\n",
    "    validation_split=0.1, # use a fraction of the examples for validation\n",
    "    verbose=1             # display some progress output during training\n",
    "    )\n",
    "\n",
    "history_emb_size_80_train = pd.DataFrame(history_emb_size_80_train.history)\n",
    "\n",
    "plot_history(history_emb_size_80_train)"
   ]
  },
  {
   "cell_type": "markdown",
   "metadata": {
    "id": "7EEJI9yC2jOJ"
   },
   "source": [
    "---"
   ]
  }
 ],
 "metadata": {
  "colab": {
   "authorship_tag": "ABX9TyMbG/uKJC3itEUb58OjZyV3",
   "name": "09 Embeddings for Text.ipynb",
   "provenance": []
  },
  "kernelspec": {
   "display_name": "Python 3 (ipykernel)",
   "language": "python",
   "name": "python3"
  },
  "language_info": {
   "codemirror_mode": {
    "name": "ipython",
    "version": 3
   },
   "file_extension": ".py",
   "mimetype": "text/x-python",
   "name": "python",
   "nbconvert_exporter": "python",
   "pygments_lexer": "ipython3",
   "version": "3.8.2"
  }
 },
 "nbformat": 4,
 "nbformat_minor": 4
}
