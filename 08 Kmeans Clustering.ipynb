{
  "cells": [
    {
      "cell_type": "markdown",
      "metadata": {
        "id": "oeL1CksCWEql"
      },
      "source": [
        "# Lab 8\n",
        "\n",
        "K-means Clustering\n",
        "\n",
        "[The RGB color model](https://en.wikipedia.org/wiki/RGB_color_model) is an additive color model in which the red, green, and blue primary colors of light are added together in various ways to reproduce a broad array of colors. The name of the model comes from the initials of the three additive primary colors, red, green, and blue.\n",
        "\n",
        "There are plenty of RBG-to-color converters on the web \n",
        "https://www.rapidtables.com/convert/color/rgb-to-hex.html\n",
        "\n",
        "These two RGB triples look almost identical to the human eye\n",
        "- [0, 0, 255]\n",
        "- [0, 1, 255]\n",
        "\n",
        "However there is no \"reverse lookup\" that tells you that \"this color is close to blue\" unless it is a [basic](https://en.wikipedia.org/wiki/Web_colors#Basic_colors) or [extended](https://en.wikipedia.org/wiki/Web_colors#Extended_colors) color with a specified RGB value.\n",
        "\n",
        "For this assignment you are provided a file with RGB triples for a bunch of colors.\n",
        "\n",
        "The task is to use K-means clustering to:\n",
        "\n",
        "- group the colors into color families\n",
        "- make a histogram of your color clusters to see the dsitribution of colors\n",
        "- establish some human-readable names for your clusters like red, blue, yellow, etc.\n",
        "- determine the centroids of the clusters\n",
        "- write a function that makes the best guess of an RGB triple based on the centroids\n",
        "- make some visual output to show that your guesses worked"
      ]
    },
    {
      "cell_type": "code",
      "execution_count": 23,
      "metadata": {
        "id": "lpOiog6ffG1N"
      },
      "outputs": [],
      "source": [
        "## import necessary libraries and packages\n",
        "import pandas as pd\n",
        "import numpy as np\n",
        "import matplotlib.pyplot as plt\n",
        "from mpl_toolkits.mplot3d import Axes3D\n",
        "from sklearn.cluster import KMeans"
      ]
    },
    {
      "cell_type": "markdown",
      "metadata": {
        "id": "1vulsLQRfAzV"
      },
      "source": [
        "---\n",
        "## Load Data\n",
        "\n",
        "This color data was taken from a selection of digital ad images where the goal of the project was to understand if the presence of certain colors were indicative of high performing ads.\n",
        "\n",
        "However, before making a predictive model, it was necessary to actually classify the color of RBG triples that were present in the images.\n",
        "\n",
        "It is important to note that if the color values were uniformly distributed there would be no value in clustering.\n"
      ]
    },
    {
      "cell_type": "code",
      "execution_count": 24,
      "metadata": {
        "id": "ojQcyUk0fDG_"
      },
      "outputs": [],
      "source": [
        "url = \"https://drive.google.com/file/d/1D-WVx8-CL4a1X4Gvt5MfaS7CLSHzCYa3/view?usp=sharing\"\n",
        "url = 'https://drive.google.com/uc?id=' + url.split('/')[-2]\n",
        "df_colors = pd.read_csv(url)"
      ]
    },
    {
      "cell_type": "markdown",
      "metadata": {
        "id": "sC7gYG67hEEi"
      },
      "source": [
        "---\n",
        "## Examine data\n",
        "\n",
        "If our thesis is correct, similar colors should be near each other in the 3-dimensional RBG space.\n",
        "\n",
        "To visualize this we can plot the RBG components and verify that this is the case.\n",
        "\n",
        "Note that in the plot below, the full RGB triple is used to tell pandas/matplotlib what color to make each dot."
      ]
    },
    {
      "cell_type": "code",
      "execution_count": 25,
      "metadata": {
        "colab": {
          "base_uri": "https://localhost:8080/"
        },
        "id": "4Q_cJb7BC-MO",
        "outputId": "ded65990-ba58-458d-9abd-d778ae20dbf0"
      },
      "outputs": [
        {
          "output_type": "execute_result",
          "data": {
            "text/plain": [
              "2030"
            ]
          },
          "metadata": {},
          "execution_count": 25
        }
      ],
      "source": [
        "# how many data points?\n",
        "len(df_colors)"
      ]
    },
    {
      "cell_type": "code",
      "execution_count": 26,
      "metadata": {
        "colab": {
          "base_uri": "https://localhost:8080/",
          "height": 206
        },
        "id": "XEhZjtLHcAZa",
        "outputId": "50d883c7-91e6-4db6-9754-68fc476fa63f"
      },
      "outputs": [
        {
          "output_type": "execute_result",
          "data": {
            "text/plain": [
              "   red  green  blue\n",
              "0  233    197   146\n",
              "1  183     97    58\n",
              "2  188     84     7\n",
              "3  247    252   254\n",
              "4  248    253   253"
            ],
            "text/html": [
              "\n",
              "  <div id=\"df-3d134fa7-7d5e-4804-8ca2-a3295261006d\">\n",
              "    <div class=\"colab-df-container\">\n",
              "      <div>\n",
              "<style scoped>\n",
              "    .dataframe tbody tr th:only-of-type {\n",
              "        vertical-align: middle;\n",
              "    }\n",
              "\n",
              "    .dataframe tbody tr th {\n",
              "        vertical-align: top;\n",
              "    }\n",
              "\n",
              "    .dataframe thead th {\n",
              "        text-align: right;\n",
              "    }\n",
              "</style>\n",
              "<table border=\"1\" class=\"dataframe\">\n",
              "  <thead>\n",
              "    <tr style=\"text-align: right;\">\n",
              "      <th></th>\n",
              "      <th>red</th>\n",
              "      <th>green</th>\n",
              "      <th>blue</th>\n",
              "    </tr>\n",
              "  </thead>\n",
              "  <tbody>\n",
              "    <tr>\n",
              "      <th>0</th>\n",
              "      <td>233</td>\n",
              "      <td>197</td>\n",
              "      <td>146</td>\n",
              "    </tr>\n",
              "    <tr>\n",
              "      <th>1</th>\n",
              "      <td>183</td>\n",
              "      <td>97</td>\n",
              "      <td>58</td>\n",
              "    </tr>\n",
              "    <tr>\n",
              "      <th>2</th>\n",
              "      <td>188</td>\n",
              "      <td>84</td>\n",
              "      <td>7</td>\n",
              "    </tr>\n",
              "    <tr>\n",
              "      <th>3</th>\n",
              "      <td>247</td>\n",
              "      <td>252</td>\n",
              "      <td>254</td>\n",
              "    </tr>\n",
              "    <tr>\n",
              "      <th>4</th>\n",
              "      <td>248</td>\n",
              "      <td>253</td>\n",
              "      <td>253</td>\n",
              "    </tr>\n",
              "  </tbody>\n",
              "</table>\n",
              "</div>\n",
              "      <button class=\"colab-df-convert\" onclick=\"convertToInteractive('df-3d134fa7-7d5e-4804-8ca2-a3295261006d')\"\n",
              "              title=\"Convert this dataframe to an interactive table.\"\n",
              "              style=\"display:none;\">\n",
              "        \n",
              "  <svg xmlns=\"http://www.w3.org/2000/svg\" height=\"24px\"viewBox=\"0 0 24 24\"\n",
              "       width=\"24px\">\n",
              "    <path d=\"M0 0h24v24H0V0z\" fill=\"none\"/>\n",
              "    <path d=\"M18.56 5.44l.94 2.06.94-2.06 2.06-.94-2.06-.94-.94-2.06-.94 2.06-2.06.94zm-11 1L8.5 8.5l.94-2.06 2.06-.94-2.06-.94L8.5 2.5l-.94 2.06-2.06.94zm10 10l.94 2.06.94-2.06 2.06-.94-2.06-.94-.94-2.06-.94 2.06-2.06.94z\"/><path d=\"M17.41 7.96l-1.37-1.37c-.4-.4-.92-.59-1.43-.59-.52 0-1.04.2-1.43.59L10.3 9.45l-7.72 7.72c-.78.78-.78 2.05 0 2.83L4 21.41c.39.39.9.59 1.41.59.51 0 1.02-.2 1.41-.59l7.78-7.78 2.81-2.81c.8-.78.8-2.07 0-2.86zM5.41 20L4 18.59l7.72-7.72 1.47 1.35L5.41 20z\"/>\n",
              "  </svg>\n",
              "      </button>\n",
              "      \n",
              "  <style>\n",
              "    .colab-df-container {\n",
              "      display:flex;\n",
              "      flex-wrap:wrap;\n",
              "      gap: 12px;\n",
              "    }\n",
              "\n",
              "    .colab-df-convert {\n",
              "      background-color: #E8F0FE;\n",
              "      border: none;\n",
              "      border-radius: 50%;\n",
              "      cursor: pointer;\n",
              "      display: none;\n",
              "      fill: #1967D2;\n",
              "      height: 32px;\n",
              "      padding: 0 0 0 0;\n",
              "      width: 32px;\n",
              "    }\n",
              "\n",
              "    .colab-df-convert:hover {\n",
              "      background-color: #E2EBFA;\n",
              "      box-shadow: 0px 1px 2px rgba(60, 64, 67, 0.3), 0px 1px 3px 1px rgba(60, 64, 67, 0.15);\n",
              "      fill: #174EA6;\n",
              "    }\n",
              "\n",
              "    [theme=dark] .colab-df-convert {\n",
              "      background-color: #3B4455;\n",
              "      fill: #D2E3FC;\n",
              "    }\n",
              "\n",
              "    [theme=dark] .colab-df-convert:hover {\n",
              "      background-color: #434B5C;\n",
              "      box-shadow: 0px 1px 3px 1px rgba(0, 0, 0, 0.15);\n",
              "      filter: drop-shadow(0px 1px 2px rgba(0, 0, 0, 0.3));\n",
              "      fill: #FFFFFF;\n",
              "    }\n",
              "  </style>\n",
              "\n",
              "      <script>\n",
              "        const buttonEl =\n",
              "          document.querySelector('#df-3d134fa7-7d5e-4804-8ca2-a3295261006d button.colab-df-convert');\n",
              "        buttonEl.style.display =\n",
              "          google.colab.kernel.accessAllowed ? 'block' : 'none';\n",
              "\n",
              "        async function convertToInteractive(key) {\n",
              "          const element = document.querySelector('#df-3d134fa7-7d5e-4804-8ca2-a3295261006d');\n",
              "          const dataTable =\n",
              "            await google.colab.kernel.invokeFunction('convertToInteractive',\n",
              "                                                     [key], {});\n",
              "          if (!dataTable) return;\n",
              "\n",
              "          const docLinkHtml = 'Like what you see? Visit the ' +\n",
              "            '<a target=\"_blank\" href=https://colab.research.google.com/notebooks/data_table.ipynb>data table notebook</a>'\n",
              "            + ' to learn more about interactive tables.';\n",
              "          element.innerHTML = '';\n",
              "          dataTable['output_type'] = 'display_data';\n",
              "          await google.colab.output.renderOutput(dataTable, element);\n",
              "          const docLink = document.createElement('div');\n",
              "          docLink.innerHTML = docLinkHtml;\n",
              "          element.appendChild(docLink);\n",
              "        }\n",
              "      </script>\n",
              "    </div>\n",
              "  </div>\n",
              "  "
            ]
          },
          "metadata": {},
          "execution_count": 26
        }
      ],
      "source": [
        "# what is in our DataFrame?\n",
        "df_colors.head()"
      ]
    },
    {
      "cell_type": "code",
      "execution_count": 27,
      "metadata": {
        "colab": {
          "base_uri": "https://localhost:8080/",
          "height": 266
        },
        "id": "7adadJysAozT",
        "outputId": "40d5c21e-7284-420f-ccc4-3026b364e12b"
      },
      "outputs": [
        {
          "output_type": "execute_result",
          "data": {
            "text/plain": [
              "<mpl_toolkits.mplot3d.art3d.Path3DCollection at 0x7f7b34dfe410>"
            ]
          },
          "metadata": {},
          "execution_count": 27
        },
        {
          "output_type": "display_data",
          "data": {
            "text/plain": [
              "<Figure size 432x288 with 1 Axes>"
            ],
            "image/png": "[encoded data removed]"
          },
          "metadata": {
            "needs_background": "light"
          }
        }
      ],
      "source": [
        "# make a 3d scatter plot\n",
        "colors = np.array(df_colors.values)/256 # colors need to be (r,b,g) tuple in the range of 0-1\n",
        "\n",
        "fig = plt.figure().gca(projection='3d')\n",
        "fig.scatter(df_colors.red, df_colors.green, df_colors.blue, color=colors )"
      ]
    },
    {
      "cell_type": "markdown",
      "metadata": {
        "id": "iKTKmUYllvmx"
      },
      "source": [
        "---\n",
        "### Exercise 1: Construct K-means model (4 points)\n",
        "\n",
        "Fit a KMeans model with 10 clusters.  Be sure to use a fixed `random_state` so that you get consistent results.\n",
        "\n",
        "Use the `predict` function to get the cluster predictions for each data point and add this to the `df_colors` DataFrame "
      ]
    },
    {
      "cell_type": "markdown",
      "metadata": {
        "id": "4UM_zK5UJZK4"
      },
      "source": [
        "##### Student Solution"
      ]
    },
    {
      "cell_type": "code",
      "execution_count": 76,
      "metadata": {
        "id": "ROCne7e6JlKk",
        "tags": [],
        "colab": {
          "base_uri": "https://localhost:8080/",
          "height": 442
        },
        "outputId": "3d83d84a-5d2b-4779-ac96-43bf4c013d1f"
      },
      "outputs": [
        {
          "output_type": "stream",
          "name": "stdout",
          "text": [
            "<class 'numpy.ndarray'>\n"
          ]
        },
        {
          "output_type": "execute_result",
          "data": {
            "text/plain": [
              "      red  green  blue  cluster\n",
              "0     233    197   146        5\n",
              "1     183     97    58        4\n",
              "2     188     84     7        4\n",
              "3     247    252   254        0\n",
              "4     248    253   253        0\n",
              "...   ...    ...   ...      ...\n",
              "2025   27    123   141        8\n",
              "2026  194    193   198        5\n",
              "2027   41    113   197        8\n",
              "2028   35    114   197        8\n",
              "2029   27    123   141        8\n",
              "\n",
              "[2030 rows x 4 columns]"
            ],
            "text/html": [
              "\n",
              "  <div id=\"df-61fd4505-d3f9-42ef-945d-ebeaa6c61cd7\">\n",
              "    <div class=\"colab-df-container\">\n",
              "      <div>\n",
              "<style scoped>\n",
              "    .dataframe tbody tr th:only-of-type {\n",
              "        vertical-align: middle;\n",
              "    }\n",
              "\n",
              "    .dataframe tbody tr th {\n",
              "        vertical-align: top;\n",
              "    }\n",
              "\n",
              "    .dataframe thead th {\n",
              "        text-align: right;\n",
              "    }\n",
              "</style>\n",
              "<table border=\"1\" class=\"dataframe\">\n",
              "  <thead>\n",
              "    <tr style=\"text-align: right;\">\n",
              "      <th></th>\n",
              "      <th>red</th>\n",
              "      <th>green</th>\n",
              "      <th>blue</th>\n",
              "      <th>cluster</th>\n",
              "    </tr>\n",
              "  </thead>\n",
              "  <tbody>\n",
              "    <tr>\n",
              "      <th>0</th>\n",
              "      <td>233</td>\n",
              "      <td>197</td>\n",
              "      <td>146</td>\n",
              "      <td>5</td>\n",
              "    </tr>\n",
              "    <tr>\n",
              "      <th>1</th>\n",
              "      <td>183</td>\n",
              "      <td>97</td>\n",
              "      <td>58</td>\n",
              "      <td>4</td>\n",
              "    </tr>\n",
              "    <tr>\n",
              "      <th>2</th>\n",
              "      <td>188</td>\n",
              "      <td>84</td>\n",
              "      <td>7</td>\n",
              "      <td>4</td>\n",
              "    </tr>\n",
              "    <tr>\n",
              "      <th>3</th>\n",
              "      <td>247</td>\n",
              "      <td>252</td>\n",
              "      <td>254</td>\n",
              "      <td>0</td>\n",
              "    </tr>\n",
              "    <tr>\n",
              "      <th>4</th>\n",
              "      <td>248</td>\n",
              "      <td>253</td>\n",
              "      <td>253</td>\n",
              "      <td>0</td>\n",
              "    </tr>\n",
              "    <tr>\n",
              "      <th>...</th>\n",
              "      <td>...</td>\n",
              "      <td>...</td>\n",
              "      <td>...</td>\n",
              "      <td>...</td>\n",
              "    </tr>\n",
              "    <tr>\n",
              "      <th>2025</th>\n",
              "      <td>27</td>\n",
              "      <td>123</td>\n",
              "      <td>141</td>\n",
              "      <td>8</td>\n",
              "    </tr>\n",
              "    <tr>\n",
              "      <th>2026</th>\n",
              "      <td>194</td>\n",
              "      <td>193</td>\n",
              "      <td>198</td>\n",
              "      <td>5</td>\n",
              "    </tr>\n",
              "    <tr>\n",
              "      <th>2027</th>\n",
              "      <td>41</td>\n",
              "      <td>113</td>\n",
              "      <td>197</td>\n",
              "      <td>8</td>\n",
              "    </tr>\n",
              "    <tr>\n",
              "      <th>2028</th>\n",
              "      <td>35</td>\n",
              "      <td>114</td>\n",
              "      <td>197</td>\n",
              "      <td>8</td>\n",
              "    </tr>\n",
              "    <tr>\n",
              "      <th>2029</th>\n",
              "      <td>27</td>\n",
              "      <td>123</td>\n",
              "      <td>141</td>\n",
              "      <td>8</td>\n",
              "    </tr>\n",
              "  </tbody>\n",
              "</table>\n",
              "<p>2030 rows × 4 columns</p>\n",
              "</div>\n",
              "      <button class=\"colab-df-convert\" onclick=\"convertToInteractive('df-61fd4505-d3f9-42ef-945d-ebeaa6c61cd7')\"\n",
              "              title=\"Convert this dataframe to an interactive table.\"\n",
              "              style=\"display:none;\">\n",
              "        \n",
              "  <svg xmlns=\"http://www.w3.org/2000/svg\" height=\"24px\"viewBox=\"0 0 24 24\"\n",
              "       width=\"24px\">\n",
              "    <path d=\"M0 0h24v24H0V0z\" fill=\"none\"/>\n",
              "    <path d=\"M18.56 5.44l.94 2.06.94-2.06 2.06-.94-2.06-.94-.94-2.06-.94 2.06-2.06.94zm-11 1L8.5 8.5l.94-2.06 2.06-.94-2.06-.94L8.5 2.5l-.94 2.06-2.06.94zm10 10l.94 2.06.94-2.06 2.06-.94-2.06-.94-.94-2.06-.94 2.06-2.06.94z\"/><path d=\"M17.41 7.96l-1.37-1.37c-.4-.4-.92-.59-1.43-.59-.52 0-1.04.2-1.43.59L10.3 9.45l-7.72 7.72c-.78.78-.78 2.05 0 2.83L4 21.41c.39.39.9.59 1.41.59.51 0 1.02-.2 1.41-.59l7.78-7.78 2.81-2.81c.8-.78.8-2.07 0-2.86zM5.41 20L4 18.59l7.72-7.72 1.47 1.35L5.41 20z\"/>\n",
              "  </svg>\n",
              "      </button>\n",
              "      \n",
              "  <style>\n",
              "    .colab-df-container {\n",
              "      display:flex;\n",
              "      flex-wrap:wrap;\n",
              "      gap: 12px;\n",
              "    }\n",
              "\n",
              "    .colab-df-convert {\n",
              "      background-color: #E8F0FE;\n",
              "      border: none;\n",
              "      border-radius: 50%;\n",
              "      cursor: pointer;\n",
              "      display: none;\n",
              "      fill: #1967D2;\n",
              "      height: 32px;\n",
              "      padding: 0 0 0 0;\n",
              "      width: 32px;\n",
              "    }\n",
              "\n",
              "    .colab-df-convert:hover {\n",
              "      background-color: #E2EBFA;\n",
              "      box-shadow: 0px 1px 2px rgba(60, 64, 67, 0.3), 0px 1px 3px 1px rgba(60, 64, 67, 0.15);\n",
              "      fill: #174EA6;\n",
              "    }\n",
              "\n",
              "    [theme=dark] .colab-df-convert {\n",
              "      background-color: #3B4455;\n",
              "      fill: #D2E3FC;\n",
              "    }\n",
              "\n",
              "    [theme=dark] .colab-df-convert:hover {\n",
              "      background-color: #434B5C;\n",
              "      box-shadow: 0px 1px 3px 1px rgba(0, 0, 0, 0.15);\n",
              "      filter: drop-shadow(0px 1px 2px rgba(0, 0, 0, 0.3));\n",
              "      fill: #FFFFFF;\n",
              "    }\n",
              "  </style>\n",
              "\n",
              "      <script>\n",
              "        const buttonEl =\n",
              "          document.querySelector('#df-61fd4505-d3f9-42ef-945d-ebeaa6c61cd7 button.colab-df-convert');\n",
              "        buttonEl.style.display =\n",
              "          google.colab.kernel.accessAllowed ? 'block' : 'none';\n",
              "\n",
              "        async function convertToInteractive(key) {\n",
              "          const element = document.querySelector('#df-61fd4505-d3f9-42ef-945d-ebeaa6c61cd7');\n",
              "          const dataTable =\n",
              "            await google.colab.kernel.invokeFunction('convertToInteractive',\n",
              "                                                     [key], {});\n",
              "          if (!dataTable) return;\n",
              "\n",
              "          const docLinkHtml = 'Like what you see? Visit the ' +\n",
              "            '<a target=\"_blank\" href=https://colab.research.google.com/notebooks/data_table.ipynb>data table notebook</a>'\n",
              "            + ' to learn more about interactive tables.';\n",
              "          element.innerHTML = '';\n",
              "          dataTable['output_type'] = 'display_data';\n",
              "          await google.colab.output.renderOutput(dataTable, element);\n",
              "          const docLink = document.createElement('div');\n",
              "          docLink.innerHTML = docLinkHtml;\n",
              "          element.appendChild(docLink);\n",
              "        }\n",
              "      </script>\n",
              "    </div>\n",
              "  </div>\n",
              "  "
            ]
          },
          "metadata": {},
          "execution_count": 76
        }
      ],
      "source": [
        "n_clusters = 10\n",
        "random_state = 10  # makes sure you get the same results each time\n",
        "\n",
        "## get np array for RGB values\n",
        "X = np.array(df_colors.values)\n",
        "print(type(X))\n",
        "\n",
        "\n",
        "def fit_kmeans(X, n_clusters, random_state):\n",
        "    ## YOUR CODE HERE ## \n",
        "    \n",
        "    model = KMeans(\n",
        "        n_clusters=n_clusters,\n",
        "        init='k-means++',\n",
        "        n_init=10,\n",
        "        max_iter=300,\n",
        "        tol=1e-04,\n",
        "        random_state=random_state).fit(X)\n",
        "\n",
        "    return model\n",
        "\n",
        "model = fit_kmeans(X, n_clusters, random_state)\n",
        "\n",
        "## get cluster prediction and add to DataFrame\n",
        "df_colors['cluster'] = model.fit_predict(X)\n",
        "df_colors\n"
      ]
    },
    {
      "cell_type": "markdown",
      "metadata": {
        "id": "ZboSuE-Gd9Zh"
      },
      "source": [
        "## Visualize results for K-means clustering\n"
      ]
    },
    {
      "cell_type": "markdown",
      "metadata": {
        "id": "PtsNYYLSe_D1"
      },
      "source": [
        "---\n",
        "### Exercise 2: Plot a histogram of the distribution of clusters (4 points)\n",
        "\n",
        "Since there are 10 clusters, using the `pandas.DataFrame.hist()` will render the correct distribution of values across each bin since 10 is the default number of bins.\n",
        "\n",
        "Make sure that your visual output also matches the output of `Series.value_counts()`\n"
      ]
    },
    {
      "cell_type": "markdown",
      "metadata": {
        "id": "asvG7XGwKKHS"
      },
      "source": [
        "##### Student Solution"
      ]
    },
    {
      "cell_type": "code",
      "execution_count": 29,
      "metadata": {
        "id": "gwPsVEGGKGSr",
        "colab": {
          "base_uri": "https://localhost:8080/",
          "height": 468
        },
        "outputId": "061b4705-76b5-4310-9b41-4f33f8167947"
      },
      "outputs": [
        {
          "output_type": "execute_result",
          "data": {
            "text/plain": [
              "2    399\n",
              "0    338\n",
              "6    244\n",
              "8    201\n",
              "9    194\n",
              "4    181\n",
              "3    151\n",
              "5    119\n",
              "7    115\n",
              "1     88\n",
              "Name: cluster, dtype: int64"
            ]
          },
          "metadata": {},
          "execution_count": 29
        },
        {
          "output_type": "display_data",
          "data": {
            "text/plain": [
              "<Figure size 432x288 with 1 Axes>"
            ],
            "image/png": "[encoded data removed]"
          },
          "metadata": {
            "needs_background": "light"
          }
        }
      ],
      "source": [
        "## plot histogram and print out number of points in each color cluster\n",
        "\n",
        "## YOUR CODE HERE ## \n",
        "df_colors['cluster'].hist()\n",
        "df_colors['cluster'].value_counts()"
      ]
    },
    {
      "cell_type": "markdown",
      "metadata": {
        "id": "wcgxW7trbt4p"
      },
      "source": [
        "### Examine results of clustering"
      ]
    },
    {
      "cell_type": "code",
      "execution_count": 30,
      "metadata": {
        "colab": {
          "base_uri": "https://localhost:8080/",
          "height": 297
        },
        "id": "8sw287rQb0lo",
        "outputId": "47cb8600-8b03-4879-fcef-6facecc43e41"
      },
      "outputs": [
        {
          "output_type": "execute_result",
          "data": {
            "text/plain": [
              "<matplotlib.axes._subplots.AxesSubplot at 0x7f7b32b9aa10>"
            ]
          },
          "metadata": {},
          "execution_count": 30
        },
        {
          "output_type": "display_data",
          "data": {
            "text/plain": [
              "<Figure size 432x288 with 1 Axes>"
            ],
            "image/png": "[encoded data removed]"
          },
          "metadata": {
            "needs_background": "light"
          }
        }
      ],
      "source": [
        "# take a look at distribution of colors - only the first 500 for clarity\n",
        "df_colors[:500].reset_index(drop=False).plot(x='index', y='cluster', kind='scatter', color=colors[:500])"
      ]
    },
    {
      "cell_type": "markdown",
      "metadata": {
        "id": "c0mBWkg2cUcj"
      },
      "source": [
        "---\n",
        "### Exercise 3: Establish some human-readable names for your clusters like red, blue, yellow, etc. (4 points)"
      ]
    },
    {
      "cell_type": "markdown",
      "metadata": {
        "id": "RH5gMTLkKgeb"
      },
      "source": [
        "##### Student Solution"
      ]
    },
    {
      "cell_type": "code",
      "execution_count": 54,
      "metadata": {
        "colab": {
          "base_uri": "https://localhost:8080/"
        },
        "id": "Nn-zY57rcYFn",
        "outputId": "fb046846-d89a-444e-bcdc-0508c08ff7b8"
      },
      "outputs": [
        {
          "output_type": "execute_result",
          "data": {
            "text/plain": [
              "{'red': [255, 0, 0],\n",
              " 'yellow': [255, 255, 0],\n",
              " 'lime': [0, 255, 0],\n",
              " 'green': [0, 128, 0],\n",
              " 'blue': [0, 0, 255],\n",
              " 'purple': [128, 0, 128],\n",
              " 'gray': [128, 128, 128],\n",
              " 'cyan': [0, 255, 255],\n",
              " 'black': [0, 0, 0],\n",
              " 'maroon': [128, 0, 0]}"
            ]
          },
          "metadata": {},
          "execution_count": 54
        }
      ],
      "source": [
        "# name your clusters\n",
        "\n",
        "## YOUR CODE HERE ## \n",
        "\n",
        "color_dict = {\n",
        "    'red':[255,0,0],  \n",
        "    'yellow':[255,255,0],\n",
        "    'lime':[0,255,0],  \n",
        "    'green':[0,128,0], \n",
        "    'blue':[0,0,255], \n",
        "    'purple':[128,0,128], \n",
        "    'gray':[128,128,128], \n",
        "    'cyan':[0,255,255], \n",
        "    'black':[0,0,0],\n",
        "    'maroon':[128,0,0]\n",
        "}\n",
        "\n",
        "color_dict"
      ]
    },
    {
      "cell_type": "code",
      "source": [
        "# name your clusters\n",
        "\n",
        "## YOUR CODE HERE ## \n",
        "\n",
        "color_dict = {\n",
        "    0: {'color': 'red',\n",
        "        'rgb':[255,0,0]},\n",
        "    1: {'color': 'yellow',\n",
        "        'rgb':[255,255,0]},\n",
        "    2: {'color': 'lime',\n",
        "        'rgb':[0,255,0]},\n",
        "    3: {'color': 'green',\n",
        "        'rgb':[0,128,0]},\n",
        "    4: {'color': 'blue',\n",
        "        'rgb':[0,0,255]},\n",
        "    5: {'color': 'purple',\n",
        "        'rgb':[128,0,128]},\n",
        "    6: {'color': 'gray',\n",
        "        'rgb':[128,128,128]},\n",
        "    7: {'color': 'cyan',\n",
        "        'rgb':[0,255,255]},\n",
        "    8: {'color': 'black',\n",
        "        'rgb':[0,0,0]},\n",
        "    9: {'color': 'maroon',\n",
        "        'rgb':[128,0,0]}\n",
        "}\n",
        "\n",
        "color_dict"
      ],
      "metadata": {
        "colab": {
          "base_uri": "https://localhost:8080/"
        },
        "id": "7micE07YuNH9",
        "outputId": "80e73498-6d16-4865-d0db-2d2578720d88"
      },
      "execution_count": 61,
      "outputs": [
        {
          "output_type": "execute_result",
          "data": {
            "text/plain": [
              "{0: {'color': 'red', 'rgb': [255, 0, 0]},\n",
              " 1: {'color': 'yellow', 'rgb': [255, 255, 0]},\n",
              " 2: {'color': 'lime', 'rgb': [0, 255, 0]},\n",
              " 3: {'color': 'green', 'rgb': [0, 128, 0]},\n",
              " 4: {'color': 'blue', 'rgb': [0, 0, 255]},\n",
              " 5: {'color': 'purple', 'rgb': [128, 0, 128]},\n",
              " 6: {'color': 'gray', 'rgb': [128, 128, 128]},\n",
              " 7: {'color': 'cyan', 'rgb': [0, 255, 255]},\n",
              " 8: {'color': 'black', 'rgb': [0, 0, 0]},\n",
              " 9: {'color': 'maroon', 'rgb': [128, 0, 0]}}"
            ]
          },
          "metadata": {},
          "execution_count": 61
        }
      ]
    },
    {
      "cell_type": "markdown",
      "metadata": {
        "id": "hqygpwqUcjuL"
      },
      "source": [
        "---\n",
        "### Exercise 4: Determine the centroids of the clusters (4 points)\n"
      ]
    },
    {
      "cell_type": "markdown",
      "metadata": {
        "id": "4M2FoubOLeTe"
      },
      "source": [
        "##### Student Solution"
      ]
    },
    {
      "cell_type": "code",
      "execution_count": 55,
      "metadata": {
        "id": "O0ppzlJSLnBV",
        "colab": {
          "base_uri": "https://localhost:8080/"
        },
        "outputId": "9f0d6543-8a53-4d34-b51a-6d12a1ee0bdc"
      },
      "outputs": [
        {
          "output_type": "execute_result",
          "data": {
            "text/plain": [
              "array([[ 13.74260355,  12.25739645,  16.14201183],\n",
              "       [117.68181818, 203.02272727, 228.02272727],\n",
              "       [244.11278195, 246.61904762, 246.12531328],\n",
              "       [192.65562914,  29.58940397,  38.8013245 ],\n",
              "       [105.6961326 ,  88.13259669,  85.56353591],\n",
              "       [224.60504202, 181.31092437,  42.06722689],\n",
              "       [184.58606557, 176.51229508, 159.07377049],\n",
              "       [  5.40869565,  84.85217391, 195.19130435],\n",
              "       [ 47.96517413,  65.42288557,  46.38308458],\n",
              "       [ 58.28865979, 131.82989691, 179.89690722]])"
            ]
          },
          "metadata": {},
          "execution_count": 55
        }
      ],
      "source": [
        "# get centroids\n",
        "\n",
        "## YOUR CODE HERE ## \n",
        "centroids = model.cluster_centers_\n",
        "centroids"
      ]
    },
    {
      "cell_type": "code",
      "source": [
        "print(color_dict[1]['color'])\n",
        "print(color_dict[1]['rgb'])"
      ],
      "metadata": {
        "colab": {
          "base_uri": "https://localhost:8080/"
        },
        "id": "nTtH_iX5pOeL",
        "outputId": "cceeff1c-1d94-4f96-a6ff-3e878be3c18c"
      },
      "execution_count": 63,
      "outputs": [
        {
          "output_type": "stream",
          "name": "stdout",
          "text": [
            "yellow\n",
            "[255, 255, 0]\n"
          ]
        }
      ]
    },
    {
      "cell_type": "markdown",
      "metadata": {
        "id": "4vxCLwk1czBJ"
      },
      "source": [
        "---\n",
        "### Exercise 5: Write a function that makes the best guess of an RGB triple based on the centroids (4 points)\n",
        "\n",
        "The  [`KMeans.predict()`](https://scikit-learn.org/stable/modules/generated/sklearn.cluster.KMeans.html#sklearn.cluster.KMeans.predict) function predicts the cluster of any test data point by returning the cluster whose center is closest to the test data point.\n",
        "\n",
        "Without using `predict()` write a function that guesses the color of an RBG triple by finding the nearest centroid.\n",
        "\n",
        "There are many ways to calculate distance.  For this exercise it is sufficient to use a simple Euclidean distance formula.\n"
      ]
    },
    {
      "cell_type": "markdown",
      "metadata": {
        "id": "NGiSb93cghfC"
      },
      "source": [
        "##### Student Solution"
      ]
    },
    {
      "cell_type": "code",
      "execution_count": 74,
      "metadata": {
        "id": "Ocw4OTu2c2DF",
        "colab": {
          "base_uri": "https://localhost:8080/"
        },
        "outputId": "8e00e34d-c1f6-4594-e5ad-fe358104234a"
      },
      "outputs": [
        {
          "output_type": "stream",
          "name": "stdout",
          "text": [
            "red\n",
            "green\n"
          ]
        }
      ],
      "source": [
        "## your color guessing function\n",
        "def guess_color(centroids, color_dict, test_color):\n",
        "\n",
        "  ## YOUR CODE HERE ## \n",
        "  color_name = None\n",
        "  \n",
        "  # store the euclidean distances in a list\n",
        "  euclidean_dist_list = []\n",
        "  for color in color_dict:\n",
        "    \n",
        "    # get distance between each r, g, b value\n",
        "    r_dist = (test_color[0] - color_dict[color]['rgb'][0]) ** 2\n",
        "    g_dist = (test_color[1] - color_dict[color]['rgb'][1]) ** 2\n",
        "    b_dist = (test_color[2] - color_dict[color]['rgb'][2]) ** 2\n",
        "    \n",
        "    # calculate distance for all test_color with all colors in color_dict\n",
        "    squared_dist = np.sum((r_dist, g_dist, b_dist), axis=0)\n",
        "    euclidean_dist = np.sqrt(squared_dist)\n",
        "    euclidean_dist_list.append(euclidean_dist)\n",
        "\n",
        "  # find the minimum euclidean distance and get the index of it\n",
        "  min_euclidean_dist = min(euclidean_dist_list)\n",
        "  idx_min_euclidean_dist = euclidean_dist_list.index(min_euclidean_dist)\n",
        "\n",
        "  # find the closest centroid\n",
        "  distances_to_centroid = np.linalg.norm(min_euclidean_dist - centroids, axis=1)\n",
        "  closest_to_centroid = np.argmin(distances_to_centroid)\n",
        "\n",
        "  # match the minimum euclidean distance to a color in color_dict\n",
        "  color_name = color_dict[idx_min_euclidean_dist]['color']\n",
        "\n",
        "  return color_name\n",
        "\n",
        "color1 = [200, 5, 5]  # approximately red \n",
        "print(guess_color(centroids=centroids, color_dict=color_dict, test_color=color1))\n",
        "\n",
        "color2 = [5, 129, 5]  # approximately green \n",
        "print(guess_color(centroids=centroids, color_dict=color_dict, test_color=color2))"
      ]
    },
    {
      "cell_type": "markdown",
      "metadata": {
        "id": "Ffx7sbNMfe4u"
      },
      "source": [
        "---\n",
        "### Exercise 6: Write a function that returns the colors name based on the `predict()` function (4 points)\n"
      ]
    },
    {
      "cell_type": "code",
      "execution_count": 83,
      "metadata": {
        "id": "vwJN1DUQfrD_",
        "colab": {
          "base_uri": "https://localhost:8080/",
          "height": 363
        },
        "outputId": "310ad46e-4d86-42da-90c6-8d6e56053017"
      },
      "outputs": [
        {
          "output_type": "error",
          "ename": "ValueError",
          "evalue": "ignored",
          "traceback": [
            "\u001b[0;31m---------------------------------------------------------------------------\u001b[0m",
            "\u001b[0;31mValueError\u001b[0m                                Traceback (most recent call last)",
            "\u001b[0;32m<ipython-input-83-a3609af75e6b>\u001b[0m in \u001b[0;36m<module>\u001b[0;34m\u001b[0m\n\u001b[1;32m      9\u001b[0m \u001b[0;34m\u001b[0m\u001b[0m\n\u001b[1;32m     10\u001b[0m \u001b[0mcolor1\u001b[0m \u001b[0;34m=\u001b[0m \u001b[0;34m[\u001b[0m\u001b[0;36m200\u001b[0m\u001b[0;34m,\u001b[0m \u001b[0;36m5\u001b[0m\u001b[0;34m,\u001b[0m \u001b[0;36m5\u001b[0m\u001b[0;34m]\u001b[0m \u001b[0;31m# approximately red\u001b[0m\u001b[0;34m\u001b[0m\u001b[0;34m\u001b[0m\u001b[0m\n\u001b[0;32m---> 11\u001b[0;31m \u001b[0mprint\u001b[0m\u001b[0;34m(\u001b[0m\u001b[0mpredict_color\u001b[0m\u001b[0;34m(\u001b[0m\u001b[0mmodel\u001b[0m\u001b[0;34m=\u001b[0m\u001b[0mmodel\u001b[0m\u001b[0;34m,\u001b[0m \u001b[0mcolor_dict\u001b[0m\u001b[0;34m=\u001b[0m\u001b[0mcolor_dict\u001b[0m\u001b[0;34m,\u001b[0m \u001b[0mtest_color\u001b[0m\u001b[0;34m=\u001b[0m\u001b[0mcolor1\u001b[0m\u001b[0;34m)\u001b[0m\u001b[0;34m)\u001b[0m\u001b[0;34m\u001b[0m\u001b[0;34m\u001b[0m\u001b[0m\n\u001b[0m",
            "\u001b[0;32m<ipython-input-83-a3609af75e6b>\u001b[0m in \u001b[0;36mpredict_color\u001b[0;34m(model, color_dict, test_color)\u001b[0m\n\u001b[1;32m      4\u001b[0m     \u001b[0mcolor_name\u001b[0m \u001b[0;34m=\u001b[0m \u001b[0;32mNone\u001b[0m\u001b[0;34m\u001b[0m\u001b[0;34m\u001b[0m\u001b[0m\n\u001b[1;32m      5\u001b[0m \u001b[0;34m\u001b[0m\u001b[0m\n\u001b[0;32m----> 6\u001b[0;31m     \u001b[0mmodel\u001b[0m\u001b[0;34m.\u001b[0m\u001b[0mpredict\u001b[0m\u001b[0;34m(\u001b[0m\u001b[0;34m[\u001b[0m\u001b[0mtest_color\u001b[0m\u001b[0;34m]\u001b[0m\u001b[0;34m)\u001b[0m\u001b[0;34m\u001b[0m\u001b[0;34m\u001b[0m\u001b[0m\n\u001b[0m\u001b[1;32m      7\u001b[0m \u001b[0;34m\u001b[0m\u001b[0m\n\u001b[1;32m      8\u001b[0m     \u001b[0;32mreturn\u001b[0m \u001b[0mcolor_name\u001b[0m\u001b[0;34m\u001b[0m\u001b[0;34m\u001b[0m\u001b[0m\n",
            "\u001b[0;32m/usr/local/lib/python3.7/dist-packages/sklearn/cluster/_kmeans.py\u001b[0m in \u001b[0;36mpredict\u001b[0;34m(self, X, sample_weight)\u001b[0m\n\u001b[1;32m   1328\u001b[0m         \u001b[0mcheck_is_fitted\u001b[0m\u001b[0;34m(\u001b[0m\u001b[0mself\u001b[0m\u001b[0;34m)\u001b[0m\u001b[0;34m\u001b[0m\u001b[0;34m\u001b[0m\u001b[0m\n\u001b[1;32m   1329\u001b[0m \u001b[0;34m\u001b[0m\u001b[0m\n\u001b[0;32m-> 1330\u001b[0;31m         \u001b[0mX\u001b[0m \u001b[0;34m=\u001b[0m \u001b[0mself\u001b[0m\u001b[0;34m.\u001b[0m\u001b[0m_check_test_data\u001b[0m\u001b[0;34m(\u001b[0m\u001b[0mX\u001b[0m\u001b[0;34m)\u001b[0m\u001b[0;34m\u001b[0m\u001b[0;34m\u001b[0m\u001b[0m\n\u001b[0m\u001b[1;32m   1331\u001b[0m         \u001b[0mx_squared_norms\u001b[0m \u001b[0;34m=\u001b[0m \u001b[0mrow_norms\u001b[0m\u001b[0;34m(\u001b[0m\u001b[0mX\u001b[0m\u001b[0;34m,\u001b[0m \u001b[0msquared\u001b[0m\u001b[0;34m=\u001b[0m\u001b[0;32mTrue\u001b[0m\u001b[0;34m)\u001b[0m\u001b[0;34m\u001b[0m\u001b[0;34m\u001b[0m\u001b[0m\n\u001b[1;32m   1332\u001b[0m         \u001b[0msample_weight\u001b[0m \u001b[0;34m=\u001b[0m \u001b[0m_check_sample_weight\u001b[0m\u001b[0;34m(\u001b[0m\u001b[0msample_weight\u001b[0m\u001b[0;34m,\u001b[0m \u001b[0mX\u001b[0m\u001b[0;34m,\u001b[0m \u001b[0mdtype\u001b[0m\u001b[0;34m=\u001b[0m\u001b[0mX\u001b[0m\u001b[0;34m.\u001b[0m\u001b[0mdtype\u001b[0m\u001b[0;34m)\u001b[0m\u001b[0;34m\u001b[0m\u001b[0;34m\u001b[0m\u001b[0m\n",
            "\u001b[0;32m/usr/local/lib/python3.7/dist-packages/sklearn/cluster/_kmeans.py\u001b[0m in \u001b[0;36m_check_test_data\u001b[0;34m(self, X)\u001b[0m\n\u001b[1;32m   1011\u001b[0m             \u001b[0mdtype\u001b[0m\u001b[0;34m=\u001b[0m\u001b[0;34m[\u001b[0m\u001b[0mnp\u001b[0m\u001b[0;34m.\u001b[0m\u001b[0mfloat64\u001b[0m\u001b[0;34m,\u001b[0m \u001b[0mnp\u001b[0m\u001b[0;34m.\u001b[0m\u001b[0mfloat32\u001b[0m\u001b[0;34m]\u001b[0m\u001b[0;34m,\u001b[0m\u001b[0;34m\u001b[0m\u001b[0;34m\u001b[0m\u001b[0m\n\u001b[1;32m   1012\u001b[0m             \u001b[0morder\u001b[0m\u001b[0;34m=\u001b[0m\u001b[0;34m\"C\"\u001b[0m\u001b[0;34m,\u001b[0m\u001b[0;34m\u001b[0m\u001b[0;34m\u001b[0m\u001b[0m\n\u001b[0;32m-> 1013\u001b[0;31m             \u001b[0maccept_large_sparse\u001b[0m\u001b[0;34m=\u001b[0m\u001b[0;32mFalse\u001b[0m\u001b[0;34m,\u001b[0m\u001b[0;34m\u001b[0m\u001b[0;34m\u001b[0m\u001b[0m\n\u001b[0m\u001b[1;32m   1014\u001b[0m         )\n\u001b[1;32m   1015\u001b[0m         \u001b[0;32mreturn\u001b[0m \u001b[0mX\u001b[0m\u001b[0;34m\u001b[0m\u001b[0;34m\u001b[0m\u001b[0m\n",
            "\u001b[0;32m/usr/local/lib/python3.7/dist-packages/sklearn/base.py\u001b[0m in \u001b[0;36m_validate_data\u001b[0;34m(self, X, y, reset, validate_separately, **check_params)\u001b[0m\n\u001b[1;32m    583\u001b[0m \u001b[0;34m\u001b[0m\u001b[0m\n\u001b[1;32m    584\u001b[0m         \u001b[0;32mif\u001b[0m \u001b[0;32mnot\u001b[0m \u001b[0mno_val_X\u001b[0m \u001b[0;32mand\u001b[0m \u001b[0mcheck_params\u001b[0m\u001b[0;34m.\u001b[0m\u001b[0mget\u001b[0m\u001b[0;34m(\u001b[0m\u001b[0;34m\"ensure_2d\"\u001b[0m\u001b[0;34m,\u001b[0m \u001b[0;32mTrue\u001b[0m\u001b[0;34m)\u001b[0m\u001b[0;34m:\u001b[0m\u001b[0;34m\u001b[0m\u001b[0;34m\u001b[0m\u001b[0m\n\u001b[0;32m--> 585\u001b[0;31m             \u001b[0mself\u001b[0m\u001b[0;34m.\u001b[0m\u001b[0m_check_n_features\u001b[0m\u001b[0;34m(\u001b[0m\u001b[0mX\u001b[0m\u001b[0;34m,\u001b[0m \u001b[0mreset\u001b[0m\u001b[0;34m=\u001b[0m\u001b[0mreset\u001b[0m\u001b[0;34m)\u001b[0m\u001b[0;34m\u001b[0m\u001b[0;34m\u001b[0m\u001b[0m\n\u001b[0m\u001b[1;32m    586\u001b[0m \u001b[0;34m\u001b[0m\u001b[0m\n\u001b[1;32m    587\u001b[0m         \u001b[0;32mreturn\u001b[0m \u001b[0mout\u001b[0m\u001b[0;34m\u001b[0m\u001b[0;34m\u001b[0m\u001b[0m\n",
            "\u001b[0;32m/usr/local/lib/python3.7/dist-packages/sklearn/base.py\u001b[0m in \u001b[0;36m_check_n_features\u001b[0;34m(self, X, reset)\u001b[0m\n\u001b[1;32m    399\u001b[0m         \u001b[0;32mif\u001b[0m \u001b[0mn_features\u001b[0m \u001b[0;34m!=\u001b[0m \u001b[0mself\u001b[0m\u001b[0;34m.\u001b[0m\u001b[0mn_features_in_\u001b[0m\u001b[0;34m:\u001b[0m\u001b[0;34m\u001b[0m\u001b[0;34m\u001b[0m\u001b[0m\n\u001b[1;32m    400\u001b[0m             raise ValueError(\n\u001b[0;32m--> 401\u001b[0;31m                 \u001b[0;34mf\"X has {n_features} features, but {self.__class__.__name__} \"\u001b[0m\u001b[0;34m\u001b[0m\u001b[0;34m\u001b[0m\u001b[0m\n\u001b[0m\u001b[1;32m    402\u001b[0m                 \u001b[0;34mf\"is expecting {self.n_features_in_} features as input.\"\u001b[0m\u001b[0;34m\u001b[0m\u001b[0;34m\u001b[0m\u001b[0m\n\u001b[1;32m    403\u001b[0m             )\n",
            "\u001b[0;31mValueError\u001b[0m: X has 3 features, but KMeans is expecting 4 features as input."
          ]
        }
      ],
      "source": [
        "def predict_color(model, color_dict, test_color):\n",
        "\n",
        "    ## YOUR CODE HERE ## \n",
        "    color_name = None\n",
        "\n",
        "    model.predict([test_color])\n",
        "\n",
        "    return color_name\n",
        "\n",
        "color1 = [200, 5, 5] # approximately red \n",
        "print(predict_color(model=model, color_dict=color_dict, test_color=color1))"
      ]
    },
    {
      "cell_type": "markdown",
      "metadata": {
        "id": "niUwnKpZhFeP"
      },
      "source": [
        "---\n",
        "### Exercise 7: Explainability - make some visual output to show that your guesses worked (4 points)\n",
        "\n",
        "It is very important in data sceince, when possible, to have a \"visual confirmation\" that our code is working.  Think of this as an explainability exercise where you need to vefiry that your code it working.\n",
        "\n",
        "Use `matplotlib` to make some visual out to verify that `color1` is indeed RED.\n",
        "\n",
        "Here is an example, but anything that shows the color in a programmatic way is fine.\n",
        "\n",
        "![red.png](data:image/png;base64,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)\n",
        "\n",
        "\n"
      ]
    },
    {
      "cell_type": "code",
      "execution_count": 109,
      "metadata": {
        "id": "U-ZJuciof8s8",
        "colab": {
          "base_uri": "https://localhost:8080/",
          "height": 287
        },
        "outputId": "beebbfca-a71c-475a-8041-3dc396cda277"
      },
      "outputs": [
        {
          "output_type": "execute_result",
          "data": {
            "text/plain": [
              "<matplotlib.patches.Circle at 0x7f7b34e7f550>"
            ]
          },
          "metadata": {},
          "execution_count": 109
        },
        {
          "output_type": "display_data",
          "data": {
            "text/plain": [
              "<Figure size 432x288 with 1 Axes>"
            ],
            "image/png": "[encoded data removed]"
          },
          "metadata": {
            "needs_background": "light"
          }
        }
      ],
      "source": [
        "def show_color(test_color, color_name):\n",
        "  \n",
        "  fig, ax = plt.subplots()   \n",
        "\n",
        "  # convert the RGB values to a [0, 1] scale\n",
        "  rgb_0_to_1 = [color / 255 for color in test_color]\n",
        "  image_with_color = plt.Circle((0.5, 0.5), 1, color=rgb_0_to_1)\n",
        "  ax.add_artist(image_with_color)\n",
        "  \n",
        "  return image_with_color\n",
        "\n",
        "\n",
        "color1 = [200, 5, 5] # approximately red \n",
        "color1_name = guess_color(centroids=centroids, color_dict=color_dict, test_color=color1)\n",
        "show_color(color1, color1_name)"
      ]
    },
    {
      "cell_type": "markdown",
      "metadata": {
        "id": "_wmPs6IFlPV0"
      },
      "source": [
        "---\n",
        "### Exercise 8: Check a range of colors (4 points)\n",
        " \n",
        "Given the list of `test_colors`, predict the colors using your `guess_color` function\n",
        "\n",
        "Comment on how good the guesses are.  Are there any unexcepted results? \n"
      ]
    },
    {
      "cell_type": "code",
      "execution_count": 111,
      "metadata": {
        "id": "kSvZ6Y1uByd4"
      },
      "outputs": [],
      "source": [
        "## generate test colors\n",
        "def make_test_colors(n=3):\n",
        "    test_colors = list()\n",
        "    for rr in range(n+1):\n",
        "        for gg in range(n+1):\n",
        "            for bb in range(n+1):\n",
        "              red = int(rr/n*255)\n",
        "              green = int(gg/n*255)\n",
        "              blue = int(bb/n*255)\n",
        "\n",
        "            color = [red, green, blue]\n",
        "            test_colors.append(color)\n",
        "    test_colors = np.array(test_colors)\n",
        "    \n",
        "    return test_colors"
      ]
    },
    {
      "cell_type": "code",
      "execution_count": 122,
      "metadata": {
        "id": "qz3UN4kTDdof",
        "colab": {
          "base_uri": "https://localhost:8080/"
        },
        "outputId": "32a7d202-f680-4e3a-d050-e8b7540f614d"
      },
      "outputs": [
        {
          "output_type": "stream",
          "name": "stdout",
          "text": [
            "blue [  0   0 255]\n",
            "blue [  0  85 255]\n",
            "cyan [  0 170 255]\n",
            "cyan [  0 255 255]\n",
            "blue [ 85   0 255]\n",
            "blue [ 85  85 255]\n",
            "cyan [ 85 170 255]\n",
            "cyan [ 85 255 255]\n",
            "purple [170   0 255]\n",
            "gray [170  85 255]\n",
            "gray [170 170 255]\n",
            "cyan [170 255 255]\n",
            "purple [255   0 255]\n",
            "gray [255  85 255]\n",
            "gray [255 170 255]\n",
            "gray [255 255 255]\n"
          ]
        }
      ],
      "source": [
        "test_colors = make_test_colors()\n",
        "\n",
        "for ii,cc in enumerate(test_colors):\n",
        "  # display the guessed color and the RGB values of the test color\n",
        "  print(guess_color(centroids=centroids, color_dict=color_dict, test_color=cc), cc)"
      ]
    },
    {
      "cell_type": "markdown",
      "source": [
        "The guesses are not that good, but I believe that is because the color dictionary only has a limited amount of RGB values. In order to have better guesses, there should be more colors in the color_dict dictionary. Some results that are unexpected, for example, are purple [255, 0, 255], because the true RGB value of purple is [128, 0, 128] and gray [255, 255, 255] because the true RGB value of gray is [128, 128, 128]. "
      ],
      "metadata": {
        "id": "fsZAmmyc3WxQ"
      }
    },
    {
      "cell_type": "code",
      "source": [],
      "metadata": {
        "id": "rUnnBbMc4GvO"
      },
      "execution_count": null,
      "outputs": []
    }
  ],
  "metadata": {
    "colab": {
      "provenance": []
    },
    "kernelspec": {
      "display_name": "Python 3 (ipykernel)",
      "language": "python",
      "name": "python3"
    },
    "language_info": {
      "codemirror_mode": {
        "name": "ipython",
        "version": 3
      },
      "file_extension": ".py",
      "mimetype": "text/x-python",
      "name": "python",
      "nbconvert_exporter": "python",
      "pygments_lexer": "ipython3",
      "version": "3.8.2"
    }
  },
  "nbformat": 4,
  "nbformat_minor": 0
}