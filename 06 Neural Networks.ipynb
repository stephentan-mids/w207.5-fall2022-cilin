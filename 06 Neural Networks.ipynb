{
 "cells": [
  {
   "cell_type": "markdown",
   "metadata": {
    "id": "MKsRDH5ZUdfasdv"
   },
   "source": [
    "# Lab 6"
   ]
  },
  {
   "cell_type": "markdown",
   "metadata": {
    "id": "43534tdfgs-v"
   },
   "source": [
    "This lab connects all the pieces involved in training feed-forward fully connected neural networks. You will run a full set of experiments to explore different hyperparameters and hidden layer sizes for both the MNIST and FASHION_MNIST datasets, and report your findings."
   ]
  },
  {
   "cell_type": "code",
   "execution_count": 1,
   "metadata": {
    "id": "7X58hOMTUH-w"
   },
   "outputs": [],
   "source": [
    "# Import the libraries we'll use below.\n",
    "import numpy as np\n",
    "from matplotlib import pyplot as plt\n",
    "import pandas as pd\n",
    "import seaborn as sns  # for nicer plots\n",
    "sns.set(style=\"darkgrid\")  # default style\n",
    "\n",
    "import tensorflow as tf\n",
    "from tensorflow import keras\n",
    "from keras import metrics\n",
    "tf.get_logger().setLevel('INFO')"
   ]
  },
  {
   "cell_type": "markdown",
   "metadata": {
    "id": "zL5O-SOu7kYN"
   },
   "source": [
    "## Datasets\n"
   ]
  },
  {
   "cell_type": "markdown",
   "metadata": {
    "id": "WYpm_zG37xay"
   },
   "source": [
    "### Fashion MNIST\n",
    "\n",
    "We load the fashion_mnist dataset as before."
   ]
  },
  {
   "cell_type": "code",
   "execution_count": 2,
   "metadata": {
    "colab": {
     "base_uri": "https://localhost:8080/",
     "height": 472
    },
    "executionInfo": {
     "elapsed": 1733,
     "status": "ok",
     "timestamp": 1622667905055,
     "user": {
      "displayName": "Daniel Gillick",
      "photoUrl": "https://lh3.googleusercontent.com/a-/AOh14Gg9DrSMlwYnG9EolecuJqe8n9m7fpcje4_UbYrhQ10=s64",
      "userId": "01872965353911650729"
     },
     "user_tz": 420
    },
    "id": "load_auto_data_set_code",
    "outputId": "99d54f72-4abc-49f5-cdff-7d3833e3be50"
   },
   "outputs": [
    {
     "name": "stdout",
     "output_type": "stream",
     "text": [
      "Label: t-shirt\n"
     ]
    },
    {
     "data": {
      "image/png": "[encoded data removed]",
      "text/plain": [
       "<Figure size 432x288 with 1 Axes>"
      ]
     },
     "metadata": {},
     "output_type": "display_data"
    }
   ],
   "source": [
    "from keras.datasets import fashion_mnist\n",
    "\n",
    "# Load the Fashion MNIST dataset.\n",
    "(X_train_fashion, Y_train_fashion), (X_test_fashion, Y_test_fashion) = fashion_mnist.load_data()\n",
    "X_train_fashion = X_train_fashion / 255.\n",
    "X_test_fashion = X_test_fashion / 255.\n",
    "\n",
    "# Flatten Y_train and Y_test, so they become vectors of label values.\n",
    "Y_train_fashion = Y_train_fashion.flatten()\n",
    "Y_test_fashion = Y_test_fashion.flatten()\n",
    "\n",
    "label_names = ['t-shirt', 'trouser', 'pullover', 'dress', 'coat',\n",
    "               'sandal', 'shirt', 'sneaker', 'bag', 'ankle boot']\n",
    "\n",
    "# Apply random shufflying to training examples.\n",
    "np.random.seed(0)\n",
    "indices = np.arange(X_train_fashion.shape[0])\n",
    "shuffled_indices = np.random.permutation(indices)\n",
    "X_train_fashion = X_train_fashion[shuffled_indices]\n",
    "Y_train_fashion = Y_train_fashion[shuffled_indices]\n",
    "\n",
    "# Show the first training example.\n",
    "print('Label: %s' %label_names[Y_train_fashion[0]])\n",
    "plt.imshow(X_train_fashion[0], cmap='gray')\n",
    "plt.show()"
   ]
  },
  {
   "cell_type": "markdown",
   "metadata": {
    "id": "ND9b1ShF745M"
   },
   "source": [
    "### MNIST\n",
    "\n",
    "We also load the (digits) mnist dataset in the same way. Note that the number of train/test examples as well as the data shapes are identical to fashion_mnist."
   ]
  },
  {
   "cell_type": "code",
   "execution_count": 3,
   "metadata": {
    "colab": {
     "base_uri": "https://localhost:8080/",
     "height": 336
    },
    "executionInfo": {
     "elapsed": 1305,
     "status": "ok",
     "timestamp": 1622667906354,
     "user": {
      "displayName": "Daniel Gillick",
      "photoUrl": "https://lh3.googleusercontent.com/a-/AOh14Gg9DrSMlwYnG9EolecuJqe8n9m7fpcje4_UbYrhQ10=s64",
      "userId": "01872965353911650729"
     },
     "user_tz": 420
    },
    "id": "ACD38quoz8D_",
    "outputId": "a294a8c6-de0a-421f-c17a-fe9ee1e79767"
   },
   "outputs": [
    {
     "name": "stdout",
     "output_type": "stream",
     "text": [
      "Label: 3\n"
     ]
    },
    {
     "data": {
      "image/png": "[encoded data removed]",
      "text/plain": [
       "<Figure size 432x288 with 1 Axes>"
      ]
     },
     "metadata": {},
     "output_type": "display_data"
    }
   ],
   "source": [
    "from keras.datasets import mnist\n",
    "\n",
    "# Load the MNIST dataset.\n",
    "(X_train_digits, Y_train_digits), (X_test_digits, Y_test_digits) = mnist.load_data()\n",
    "X_train_digits = X_train_digits / 255\n",
    "X_test_digits = X_test_digits / 255\n",
    "\n",
    "# Flatten Y_train and Y_test, so they become vectors of label values.\n",
    "Y_train_digits = Y_train_digits.flatten()\n",
    "Y_test_digits = Y_test_digits.flatten()\n",
    "\n",
    "# Apply random shufflying to training examples.\n",
    "np.random.seed(0)\n",
    "indices = np.arange(X_train_digits.shape[0])\n",
    "shuffled_indices = np.random.permutation(indices)\n",
    "X_train_digits = X_train_digits[shuffled_indices]\n",
    "Y_train_digits = Y_train_digits[shuffled_indices]\n",
    "\n",
    "# Show the first training example.\n",
    "print('Label: %d' %Y_train_digits[0])\n",
    "plt.imshow(X_train_digits[0], cmap='gray')\n",
    "plt.show()"
   ]
  },
  {
   "cell_type": "markdown",
   "metadata": {
    "id": "09EpBz1w0_Nj"
   },
   "source": [
    "## Build a Model\n",
    "\n",
    "We will write a build_model function that allows for a range of experiments on both datasets."
   ]
  },
  {
   "cell_type": "markdown",
   "metadata": {
    "id": "BWbRPrMyHZ2J"
   },
   "source": [
    "---\n",
    "### Exercise 1 (58points)\n",
    "\n",
    "Fill in code that implements the build_model function, including all the arguments listed in the function definition."
   ]
  },
  {
   "cell_type": "code",
   "execution_count": 92,
   "metadata": {
    "id": "-GeBGPGhQ5bu"
   },
   "outputs": [],
   "source": [
    "def build_model(n_classes,\n",
    "                hidden_layer_sizes=[],\n",
    "                activation='relu',\n",
    "                optimizer='SGD',\n",
    "                learning_rate=0.01):\n",
    "    \"\"\"Build a multi-class logistic regression model using Keras.\n",
    "\n",
    "    Args:\n",
    "        n_classes: Number of output classes in the dataset.\n",
    "        hidden_layer_sizes: A list with the number of units in each hidden layer.\n",
    "        activation: The activation function to use for the hidden layers.\n",
    "        optimizer: The optimizer to use (SGD, Adam).\n",
    "        learning_rate: The desired learning rate for the optimizer.\n",
    "\n",
    "    Returns:\n",
    "        model: A tf.keras model (graph).\n",
    "    \"\"\"\n",
    "    tf.keras.backend.clear_session()\n",
    "    np.random.seed(0)\n",
    "    tf.random.set_seed(0)\n",
    "\n",
    "    # YOUR CODE HERE\n",
    "    \n",
    "    # Initialize model\n",
    "    model = keras.Sequential()\n",
    "    \n",
    "    # Add layers to model\n",
    "    model.add(tf.keras.Input(shape=(28, 28), name='Input'))\n",
    "    for hidden_layer_size in hidden_layer_sizes:\n",
    "        model.add(tf.keras.layers.Dense(units=hidden_layer_size,\n",
    "                                        activation=activation,\n",
    "                                        name=f'Hidden_{hidden_layer_size}'))\n",
    "    model.add(tf.keras.layers.Dense(units=1, activation=activation, name='Output'))\n",
    "    \n",
    "    # Get summary of model\n",
    "    print(model.summary())\n",
    "    \n",
    "    # Compile model\n",
    "    model.compile(loss='binary_crossentropy', metrics=['accuracy'],\n",
    "                optimizer=tf.keras.optimizers.SGD(learning_rate=learning_rate))\n",
    "\n",
    "    return model"
   ]
  },
  {
   "cell_type": "markdown",
   "metadata": {
    "id": "DO-d_F58Q-6O"
   },
   "source": [
    "---"
   ]
  },
  {
   "cell_type": "markdown",
   "metadata": {
    "id": "SYpd5gUeH9pn"
   },
   "source": [
    "## Run Experiments\n",
    "\n",
    "We can now run a suite of experiments to see how the hyperparameters and layer sizes effect performance. The train_and_evaluate function below can be used to run experiments and retrieve results."
   ]
  },
  {
   "cell_type": "code",
   "execution_count": 93,
   "metadata": {
    "colab": {
     "base_uri": "https://localhost:8080/",
     "height": 319
    },
    "executionInfo": {
     "elapsed": 22089,
     "status": "ok",
     "timestamp": 1622667987968,
     "user": {
      "displayName": "Daniel Gillick",
      "photoUrl": "https://lh3.googleusercontent.com/a-/AOh14Gg9DrSMlwYnG9EolecuJqe8n9m7fpcje4_UbYrhQ10=s64",
      "userId": "01872965353911650729"
     },
     "user_tz": 420
    },
    "id": "OKeyZXLJJlA4",
    "outputId": "c3dd339a-443d-4830-ece9-adb2873ed629"
   },
   "outputs": [
    {
     "name": "stdout",
     "output_type": "stream",
     "text": [
      "Model: \"sequential\"\n",
      "_________________________________________________________________\n",
      " Layer (type)                Output Shape              Param #   \n",
      "=================================================================\n",
      " Output (Dense)              (None, 28, 1)             29        \n",
      "                                                                 \n",
      "=================================================================\n",
      "Total params: 29\n",
      "Trainable params: 29\n",
      "Non-trainable params: 0\n",
      "_________________________________________________________________\n",
      "None\n",
      "Training...\n",
      "{'loss': [-50.06535339355469, -52.709083557128906, -52.70907974243164, -52.709102630615234, -52.709083557128906], 'accuracy': [0.1120157465338707, 0.11198148131370544, 0.11198148131370544, 0.11198148131370544, 0.11198148131370544], 'val_loss': [-52.315040588378906, -52.315040588378906, -52.315040588378906, -52.315040588378906, -52.315040588378906], 'val_accuracy': [0.1158333346247673, 0.1158333346247673, 0.1158333346247673, 0.1158333346247673, 0.1158333346247673]}\n"
     ]
    },
    {
     "data": {
      "image/png": "[encoded data removed]",
      "text/plain": [
       "<Figure size 432x288 with 1 Axes>"
      ]
     },
     "metadata": {},
     "output_type": "display_data"
    },
    {
     "name": "stdout",
     "output_type": "stream",
     "text": [
      "Test Accuracy: 0.1135\n"
     ]
    }
   ],
   "source": [
    "def train_and_evaluate(data='digits',\n",
    "                       hidden_layer_sizes=[],\n",
    "                       activation='tanh',\n",
    "                       optimizer='Adam',\n",
    "                       learning_rate=0.01,\n",
    "                       num_epochs=5):\n",
    "\n",
    "    # Build the model.\n",
    "    model = build_model(n_classes=10,\n",
    "        hidden_layer_sizes=hidden_layer_sizes,\n",
    "        activation=activation,\n",
    "        optimizer=optimizer,\n",
    "        learning_rate=learning_rate)\n",
    "\n",
    "    # Select the dataset.\n",
    "    if data == 'digits':\n",
    "        X_train = X_train_digits\n",
    "        X_test = X_test_digits\n",
    "        Y_train = Y_train_digits\n",
    "        Y_test = Y_test_digits\n",
    "    elif data == 'fashion':\n",
    "        X_train = X_train_fashion\n",
    "        X_test = X_test_fashion\n",
    "        Y_train = Y_train_fashion\n",
    "        Y_test = Y_test_fashion\n",
    "    else:\n",
    "        raise 'Unsupported dataset: %s' %data\n",
    "\n",
    "    # Train the model.\n",
    "    print('Training...')\n",
    "    history = model.fit(\n",
    "        x=X_train,\n",
    "        y=Y_train,\n",
    "        epochs=num_epochs,\n",
    "        batch_size=64,\n",
    "        validation_split=0.1,\n",
    "        verbose=0)\n",
    "\n",
    "    print(history.history)\n",
    "    \n",
    "    # Retrieve the training metrics (after each train epoch) and the final test\n",
    "    # accuracy.\n",
    "    train_accuracy = history.history['accuracy']\n",
    "    val_accuracy = history.history['val_accuracy']\n",
    "    plt.plot(train_accuracy, label='train_accuracy')\n",
    "    plt.plot(val_accuracy, label='validation accuracy')\n",
    "    plt.xticks(range(num_epochs))\n",
    "    plt.xlabel('Train epochs')\n",
    "    plt.legend()\n",
    "    plt.show()\n",
    "\n",
    "    test_accuracy = model.evaluate(x=X_test, y=Y_test, verbose=0,\n",
    "                                   return_dict=True)['accuracy']\n",
    "    return test_accuracy\n",
    "\n",
    "print('Test Accuracy: %1.4f' %train_and_evaluate())"
   ]
  },
  {
   "cell_type": "markdown",
   "metadata": {
    "id": "d0Ewe-W8IT-J"
   },
   "source": [
    "---\n",
    "### Exercise 2 (8 points)\n",
    "\n",
    "Run experiments and fill in the test results in the table below. Feel free to extend the table to more experiments as you see fit."
   ]
  },
  {
   "cell_type": "code",
   "execution_count": 97,
   "metadata": {},
   "outputs": [
    {
     "name": "stdout",
     "output_type": "stream",
     "text": [
      "Model: \"sequential\"\n",
      "_________________________________________________________________\n",
      " Layer (type)                Output Shape              Param #   \n",
      "=================================================================\n",
      " Hidden_128 (Dense)          (None, 28, 128)           3712      \n",
      "                                                                 \n",
      " Output (Dense)              (None, 28, 1)             129       \n",
      "                                                                 \n",
      "=================================================================\n",
      "Total params: 3,841\n",
      "Trainable params: 3,841\n",
      "Non-trainable params: 0\n",
      "_________________________________________________________________\n",
      "None\n",
      "Training...\n",
      "{'loss': [-52.57552719116211, -52.709083557128906, -52.70908737182617, -52.7091064453125, -52.70909118652344], 'accuracy': [0.11199995875358582, 0.11198148131370544, 0.11198148131370544, 0.11198148131370544, 0.11198148131370544], 'val_loss': [-52.315040588378906, -52.315040588378906, -52.315040588378906, -52.315040588378906, -52.315040588378906], 'val_accuracy': [0.1158333346247673, 0.1158333346247673, 0.1158333346247673, 0.1158333346247673, 0.1158333346247673]}\n"
     ]
    },
    {
     "data": {
      "image/png": "[encoded data removed]",
      "text/plain": [
       "<Figure size 432x288 with 1 Axes>"
      ]
     },
     "metadata": {},
     "output_type": "display_data"
    },
    {
     "name": "stdout",
     "output_type": "stream",
     "text": [
      "Test Accuracy: 0.1135\n"
     ]
    }
   ],
   "source": [
    "model_n = train_and_evaluate(data='digits',\n",
    "                       hidden_layer_sizes=[128],\n",
    "                       activation='relu',\n",
    "                       optimizer='Adam',\n",
    "                       learning_rate=0.01,\n",
    "                       num_epochs=5)\n",
    "\n",
    "print('Test Accuracy: %1.4f' % model_n)"
   ]
  },
  {
   "cell_type": "markdown",
   "metadata": {
    "id": "i_ddqOToQ6WW"
   },
   "source": [
    "#### Student Solution\n",
    "\n",
    "DATA | HIDDEN SIZES | ACTIVATION | OPTIMIZER | LEARNING RATE | #PARAMETERS | TEST ACCURACY\n",
    "-|-|-|-|-|-|-\n",
    "digits|[]|tanh|SGD|0.01|29|0.1135\n",
    "digits|[]|relu|SGD|0.01|29|0.1135\n",
    "digits|[]|relu|Adam|0.01|29|0.1135\n",
    "digits|[128]|relu|Adam|0.01|29|0.1135\n",
    "digits|[256,128]|relu|Adam|0.01|40,449|0.1135\n",
    "-\n",
    "fashion|[]|tanh|SGD|0.01|29|0.1000\n",
    "fashion|[]|relu|SGD|0.01|29|0.1000\n",
    "fashion|[]|relu|Adam|0.01|29|0.1000\n",
    "fashion|[128]|relu|Adam|0.01|29|0.1000\n",
    "fashion|[256,128]|relu|Adam|0.01|40,449|0.1000\n"
   ]
  },
  {
   "cell_type": "code",
   "execution_count": null,
   "metadata": {},
   "outputs": [],
   "source": []
  }
 ],
 "metadata": {
  "colab": {
   "authorship_tag": "ABX9TyMlQhpKHdte3dv5Jw16gtIs",
   "collapsed_sections": [],
   "name": "06 Neural Networks.ipynb",
   "provenance": []
  },
  "kernelspec": {
   "display_name": "Python 3 (ipykernel)",
   "language": "python",
   "name": "python3"
  },
  "language_info": {
   "codemirror_mode": {
    "name": "ipython",
    "version": 3
   },
   "file_extension": ".py",
   "mimetype": "text/x-python",
   "name": "python",
   "nbconvert_exporter": "python",
   "pygments_lexer": "ipython3",
   "version": "3.8.2"
  }
 },
 "nbformat": 4,
 "nbformat_minor": 4
}
